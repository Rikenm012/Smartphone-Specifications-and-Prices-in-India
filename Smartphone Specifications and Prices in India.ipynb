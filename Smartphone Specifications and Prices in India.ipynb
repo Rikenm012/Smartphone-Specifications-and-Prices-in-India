{
 "cells": [
  {
   "cell_type": "code",
   "execution_count": 22,
   "metadata": {},
   "outputs": [],
   "source": [
    "import numpy as np\n",
    "import pandas as pd\n",
    "import matplotlib.pyplot as plt\n",
    "import seaborn as sns\n",
    "import plotly.express as px\n",
    "import warnings\n",
    "warnings.filterwarnings('ignore')"
   ]
  },
  {
   "cell_type": "code",
   "execution_count": 23,
   "metadata": {},
   "outputs": [],
   "source": [
    "df=pd.read_csv(r\"D:\\upgrad data enigeer\\data\\Smartphone Specifications and Prices in India\\smartphones - smartphones.csv\")"
   ]
  },
  {
   "cell_type": "code",
   "execution_count": 24,
   "metadata": {},
   "outputs": [
    {
     "name": "stdout",
     "output_type": "stream",
     "text": [
      "Shape of the dataset: (1020, 11)\n"
     ]
    }
   ],
   "source": [
    "print(\"Shape of the dataset:\", df.shape)"
   ]
  },
  {
   "cell_type": "code",
   "execution_count": 25,
   "metadata": {},
   "outputs": [
    {
     "data": {
      "text/html": [
       "<div>\n",
       "<style scoped>\n",
       "    .dataframe tbody tr th:only-of-type {\n",
       "        vertical-align: middle;\n",
       "    }\n",
       "\n",
       "    .dataframe tbody tr th {\n",
       "        vertical-align: top;\n",
       "    }\n",
       "\n",
       "    .dataframe thead th {\n",
       "        text-align: right;\n",
       "    }\n",
       "</style>\n",
       "<table border=\"1\" class=\"dataframe\">\n",
       "  <thead>\n",
       "    <tr style=\"text-align: right;\">\n",
       "      <th></th>\n",
       "      <th>model</th>\n",
       "      <th>price</th>\n",
       "      <th>rating</th>\n",
       "      <th>sim</th>\n",
       "      <th>processor</th>\n",
       "      <th>ram</th>\n",
       "      <th>battery</th>\n",
       "      <th>display</th>\n",
       "      <th>camera</th>\n",
       "      <th>card</th>\n",
       "      <th>os</th>\n",
       "    </tr>\n",
       "  </thead>\n",
       "  <tbody>\n",
       "    <tr>\n",
       "      <th>0</th>\n",
       "      <td>OnePlus 11 5G</td>\n",
       "      <td>₹54,999</td>\n",
       "      <td>89.0</td>\n",
       "      <td>Dual Sim, 3G, 4G, 5G, VoLTE, Wi-Fi, NFC</td>\n",
       "      <td>Snapdragon 8 Gen2, Octa Core, 3.2 GHz Processor</td>\n",
       "      <td>12 GB RAM, 256 GB inbuilt</td>\n",
       "      <td>5000 mAh Battery with 100W Fast Charging</td>\n",
       "      <td>6.7 inches, 1440 x 3216 px, 120 Hz Display wit...</td>\n",
       "      <td>50 MP + 48 MP + 32 MP Triple Rear &amp; 16 MP Fron...</td>\n",
       "      <td>Memory Card Not Supported</td>\n",
       "      <td>Android v13</td>\n",
       "    </tr>\n",
       "    <tr>\n",
       "      <th>1</th>\n",
       "      <td>OnePlus Nord CE 2 Lite 5G</td>\n",
       "      <td>₹19,989</td>\n",
       "      <td>81.0</td>\n",
       "      <td>Dual Sim, 3G, 4G, 5G, VoLTE, Wi-Fi</td>\n",
       "      <td>Snapdragon 695, Octa Core, 2.2 GHz Processor</td>\n",
       "      <td>6 GB RAM, 128 GB inbuilt</td>\n",
       "      <td>5000 mAh Battery with 33W Fast Charging</td>\n",
       "      <td>6.59 inches, 1080 x 2412 px, 120 Hz Display wi...</td>\n",
       "      <td>64 MP + 2 MP + 2 MP Triple Rear &amp; 16 MP Front ...</td>\n",
       "      <td>Memory Card (Hybrid), upto 1 TB</td>\n",
       "      <td>Android v12</td>\n",
       "    </tr>\n",
       "    <tr>\n",
       "      <th>2</th>\n",
       "      <td>Samsung Galaxy A14 5G</td>\n",
       "      <td>₹16,499</td>\n",
       "      <td>75.0</td>\n",
       "      <td>Dual Sim, 3G, 4G, 5G, VoLTE, Wi-Fi</td>\n",
       "      <td>Exynos 1330, Octa Core, 2.4 GHz Processor</td>\n",
       "      <td>4 GB RAM, 64 GB inbuilt</td>\n",
       "      <td>5000 mAh Battery with 15W Fast Charging</td>\n",
       "      <td>6.6 inches, 1080 x 2408 px, 90 Hz Display with...</td>\n",
       "      <td>50 MP + 2 MP + 2 MP Triple Rear &amp; 13 MP Front ...</td>\n",
       "      <td>Memory Card Supported, upto 1 TB</td>\n",
       "      <td>Android v13</td>\n",
       "    </tr>\n",
       "    <tr>\n",
       "      <th>3</th>\n",
       "      <td>Motorola Moto G62 5G</td>\n",
       "      <td>₹14,999</td>\n",
       "      <td>81.0</td>\n",
       "      <td>Dual Sim, 3G, 4G, 5G, VoLTE, Wi-Fi</td>\n",
       "      <td>Snapdragon  695, Octa Core, 2.2 GHz Processor</td>\n",
       "      <td>6 GB RAM, 128 GB inbuilt</td>\n",
       "      <td>5000 mAh Battery with Fast Charging</td>\n",
       "      <td>6.55 inches, 1080 x 2400 px, 120 Hz Display wi...</td>\n",
       "      <td>50 MP + 8 MP + 2 MP Triple Rear &amp; 16 MP Front ...</td>\n",
       "      <td>Memory Card (Hybrid), upto 1 TB</td>\n",
       "      <td>Android v12</td>\n",
       "    </tr>\n",
       "    <tr>\n",
       "      <th>4</th>\n",
       "      <td>Realme 10 Pro Plus</td>\n",
       "      <td>₹24,999</td>\n",
       "      <td>82.0</td>\n",
       "      <td>Dual Sim, 3G, 4G, 5G, VoLTE, Wi-Fi</td>\n",
       "      <td>Dimensity 1080, Octa Core, 2.6 GHz Processor</td>\n",
       "      <td>6 GB RAM, 128 GB inbuilt</td>\n",
       "      <td>5000 mAh Battery with 67W Fast Charging</td>\n",
       "      <td>6.7 inches, 1080 x 2412 px, 120 Hz Display wit...</td>\n",
       "      <td>108 MP + 8 MP + 2 MP Triple Rear &amp; 16 MP Front...</td>\n",
       "      <td>Memory Card Not Supported</td>\n",
       "      <td>Android v13</td>\n",
       "    </tr>\n",
       "  </tbody>\n",
       "</table>\n",
       "</div>"
      ],
      "text/plain": [
       "                       model    price  rating  \\\n",
       "0              OnePlus 11 5G  ₹54,999    89.0   \n",
       "1  OnePlus Nord CE 2 Lite 5G  ₹19,989    81.0   \n",
       "2      Samsung Galaxy A14 5G  ₹16,499    75.0   \n",
       "3       Motorola Moto G62 5G  ₹14,999    81.0   \n",
       "4         Realme 10 Pro Plus  ₹24,999    82.0   \n",
       "\n",
       "                                       sim  \\\n",
       "0  Dual Sim, 3G, 4G, 5G, VoLTE, Wi-Fi, NFC   \n",
       "1       Dual Sim, 3G, 4G, 5G, VoLTE, Wi-Fi   \n",
       "2       Dual Sim, 3G, 4G, 5G, VoLTE, Wi-Fi   \n",
       "3       Dual Sim, 3G, 4G, 5G, VoLTE, Wi-Fi   \n",
       "4       Dual Sim, 3G, 4G, 5G, VoLTE, Wi-Fi   \n",
       "\n",
       "                                         processor                        ram  \\\n",
       "0  Snapdragon 8 Gen2, Octa Core, 3.2 GHz Processor  12 GB RAM, 256 GB inbuilt   \n",
       "1     Snapdragon 695, Octa Core, 2.2 GHz Processor   6 GB RAM, 128 GB inbuilt   \n",
       "2        Exynos 1330, Octa Core, 2.4 GHz Processor    4 GB RAM, 64 GB inbuilt   \n",
       "3    Snapdragon  695, Octa Core, 2.2 GHz Processor   6 GB RAM, 128 GB inbuilt   \n",
       "4     Dimensity 1080, Octa Core, 2.6 GHz Processor   6 GB RAM, 128 GB inbuilt   \n",
       "\n",
       "                                    battery  \\\n",
       "0  5000 mAh Battery with 100W Fast Charging   \n",
       "1   5000 mAh Battery with 33W Fast Charging   \n",
       "2   5000 mAh Battery with 15W Fast Charging   \n",
       "3       5000 mAh Battery with Fast Charging   \n",
       "4   5000 mAh Battery with 67W Fast Charging   \n",
       "\n",
       "                                             display  \\\n",
       "0  6.7 inches, 1440 x 3216 px, 120 Hz Display wit...   \n",
       "1  6.59 inches, 1080 x 2412 px, 120 Hz Display wi...   \n",
       "2  6.6 inches, 1080 x 2408 px, 90 Hz Display with...   \n",
       "3  6.55 inches, 1080 x 2400 px, 120 Hz Display wi...   \n",
       "4  6.7 inches, 1080 x 2412 px, 120 Hz Display wit...   \n",
       "\n",
       "                                              camera  \\\n",
       "0  50 MP + 48 MP + 32 MP Triple Rear & 16 MP Fron...   \n",
       "1  64 MP + 2 MP + 2 MP Triple Rear & 16 MP Front ...   \n",
       "2  50 MP + 2 MP + 2 MP Triple Rear & 13 MP Front ...   \n",
       "3  50 MP + 8 MP + 2 MP Triple Rear & 16 MP Front ...   \n",
       "4  108 MP + 8 MP + 2 MP Triple Rear & 16 MP Front...   \n",
       "\n",
       "                               card           os  \n",
       "0         Memory Card Not Supported  Android v13  \n",
       "1   Memory Card (Hybrid), upto 1 TB  Android v12  \n",
       "2  Memory Card Supported, upto 1 TB  Android v13  \n",
       "3   Memory Card (Hybrid), upto 1 TB  Android v12  \n",
       "4         Memory Card Not Supported  Android v13  "
      ]
     },
     "execution_count": 25,
     "metadata": {},
     "output_type": "execute_result"
    }
   ],
   "source": [
    "# checking the first five rows of the dataset\n",
    "df.head()"
   ]
  },
  {
   "cell_type": "code",
   "execution_count": 26,
   "metadata": {},
   "outputs": [
    {
     "name": "stdout",
     "output_type": "stream",
     "text": [
      "<class 'pandas.core.frame.DataFrame'>\n",
      "RangeIndex: 1020 entries, 0 to 1019\n",
      "Data columns (total 11 columns):\n",
      " #   Column     Non-Null Count  Dtype  \n",
      "---  ------     --------------  -----  \n",
      " 0   model      1020 non-null   object \n",
      " 1   price      1020 non-null   object \n",
      " 2   rating     879 non-null    float64\n",
      " 3   sim        1020 non-null   object \n",
      " 4   processor  1020 non-null   object \n",
      " 5   ram        1020 non-null   object \n",
      " 6   battery    1020 non-null   object \n",
      " 7   display    1020 non-null   object \n",
      " 8   camera     1019 non-null   object \n",
      " 9   card       1013 non-null   object \n",
      " 10  os         1003 non-null   object \n",
      "dtypes: float64(1), object(10)\n",
      "memory usage: 87.8+ KB\n"
     ]
    }
   ],
   "source": [
    "df.info()"
   ]
  },
  {
   "cell_type": "code",
   "execution_count": 27,
   "metadata": {},
   "outputs": [
    {
     "data": {
      "text/plain": [
       "model          0\n",
       "price          0\n",
       "rating       141\n",
       "sim            0\n",
       "processor      0\n",
       "ram            0\n",
       "battery        0\n",
       "display        0\n",
       "camera         1\n",
       "card           7\n",
       "os            17\n",
       "dtype: int64"
      ]
     },
     "execution_count": 27,
     "metadata": {},
     "output_type": "execute_result"
    }
   ],
   "source": [
    "df.isnull().sum()"
   ]
  },
  {
   "cell_type": "code",
   "execution_count": 28,
   "metadata": {},
   "outputs": [],
   "source": [
    "df=df.dropna()"
   ]
  },
  {
   "cell_type": "code",
   "execution_count": 29,
   "metadata": {},
   "outputs": [],
   "source": [
    "df['price'] = df['price'].str.replace('₹','').str.replace(',','').astype('int64')"
   ]
  },
  {
   "cell_type": "code",
   "execution_count": 30,
   "metadata": {},
   "outputs": [
    {
     "name": "stdout",
     "output_type": "stream",
     "text": [
      "                                model  price  rating  \\\n",
      "0                       OnePlus 11 5G  54999    89.0   \n",
      "1           OnePlus Nord CE 2 Lite 5G  19989    81.0   \n",
      "2               Samsung Galaxy A14 5G  16499    75.0   \n",
      "3                Motorola Moto G62 5G  14999    81.0   \n",
      "4                  Realme 10 Pro Plus  24999    82.0   \n",
      "...                               ...    ...     ...   \n",
      "1015       Motorola Moto Edge S30 Pro  34990    83.0   \n",
      "1016                      Honor X8 5G  14990    75.0   \n",
      "1017  POCO X4 GT 5G (8GB RAM + 256GB)  28990    85.0   \n",
      "1018             Motorola Moto G91 5G  19990    80.0   \n",
      "1019           Samsung Galaxy M52s 5G  24990    74.0   \n",
      "\n",
      "                                                    sim  \\\n",
      "0               Dual Sim, 3G, 4G, 5G, VoLTE, Wi-Fi, NFC   \n",
      "1                    Dual Sim, 3G, 4G, 5G, VoLTE, Wi-Fi   \n",
      "2                    Dual Sim, 3G, 4G, 5G, VoLTE, Wi-Fi   \n",
      "3                    Dual Sim, 3G, 4G, 5G, VoLTE, Wi-Fi   \n",
      "4                    Dual Sim, 3G, 4G, 5G, VoLTE, Wi-Fi   \n",
      "...                                                 ...   \n",
      "1015                 Dual Sim, 3G, 4G, 5G, VoLTE, Wi-Fi   \n",
      "1016                 Dual Sim, 3G, 4G, 5G, VoLTE, Wi-Fi   \n",
      "1017  Dual Sim, 3G, 4G, 5G, VoLTE, Wi-Fi, NFC, IR Bl...   \n",
      "1018            Dual Sim, 3G, 4G, 5G, VoLTE, Wi-Fi, NFC   \n",
      "1019                 Dual Sim, 3G, 4G, 5G, VoLTE, Wi-Fi   \n",
      "\n",
      "                                            processor        ram  \\\n",
      "0     Snapdragon 8 Gen2, Octa Core, 3.2 GHz Processor  12 GB RAM   \n",
      "1        Snapdragon 695, Octa Core, 2.2 GHz Processor   6 GB RAM   \n",
      "2           Exynos 1330, Octa Core, 2.4 GHz Processor   4 GB RAM   \n",
      "3       Snapdragon  695, Octa Core, 2.2 GHz Processor   6 GB RAM   \n",
      "4        Dimensity 1080, Octa Core, 2.6 GHz Processor   6 GB RAM   \n",
      "...                                               ...        ...   \n",
      "1015    Snapdragon 8 Gen1, Octa Core, 3 GHz Processor   8 GB RAM   \n",
      "1016   Snapdragon  480+, Octa Core, 2.2 GHz Processor   6 GB RAM   \n",
      "1017    Dimensity 8100, Octa Core, 2.85 GHz Processor   8 GB RAM   \n",
      "1018     Snapdragon 695, Octa Core, 2.2 GHz Processor   6 GB RAM   \n",
      "1019                              Octa Core Processor   8 GB RAM   \n",
      "\n",
      "                                        battery  \\\n",
      "0      5000 mAh Battery with 100W Fast Charging   \n",
      "1       5000 mAh Battery with 33W Fast Charging   \n",
      "2       5000 mAh Battery with 15W Fast Charging   \n",
      "3           5000 mAh Battery with Fast Charging   \n",
      "4       5000 mAh Battery with 67W Fast Charging   \n",
      "...                                         ...   \n",
      "1015  5000 mAh Battery with 68.2W Fast Charging   \n",
      "1016  5000 mAh Battery with 22.5W Fast Charging   \n",
      "1017    5080 mAh Battery with 67W Fast Charging   \n",
      "1018        5000 mAh Battery with Fast Charging   \n",
      "1019        5000 mAh Battery with Fast Charging   \n",
      "\n",
      "                                                display  \\\n",
      "0     6.7 inches, 1440 x 3216 px, 120 Hz Display wit...   \n",
      "1     6.59 inches, 1080 x 2412 px, 120 Hz Display wi...   \n",
      "2     6.6 inches, 1080 x 2408 px, 90 Hz Display with...   \n",
      "3     6.55 inches, 1080 x 2400 px, 120 Hz Display wi...   \n",
      "4     6.7 inches, 1080 x 2412 px, 120 Hz Display wit...   \n",
      "...                                                 ...   \n",
      "1015  6.67 inches, 1080 x 2460 px, 120 Hz Display wi...   \n",
      "1016  6.5 inches, 720 x 1600 px Display with Water D...   \n",
      "1017  6.6 inches, 1080 x 2460 px, 144 Hz Display wit...   \n",
      "1018  6.8 inches, 1080 x 2400 px Display with Punch ...   \n",
      "1019  6.5 inches, 1080 x 2400 px Display with Water ...   \n",
      "\n",
      "                                                 camera  \\\n",
      "0     50 MP + 48 MP + 32 MP Triple Rear & 16 MP Fron...   \n",
      "1     64 MP + 2 MP + 2 MP Triple Rear & 16 MP Front ...   \n",
      "2     50 MP + 2 MP + 2 MP Triple Rear & 13 MP Front ...   \n",
      "3     50 MP + 8 MP + 2 MP Triple Rear & 16 MP Front ...   \n",
      "4     108 MP + 8 MP + 2 MP Triple Rear & 16 MP Front...   \n",
      "...                                                 ...   \n",
      "1015  64 MP + 8 MP + 2 MP Triple Rear & 16 MP Front ...   \n",
      "1016  48 MP + 2 MP + Depth Sensor Triple Rear & 8 MP...   \n",
      "1017  64 MP + 8 MP + 2 MP Triple Rear & 16 MP Front ...   \n",
      "1018  108 MP + 8 MP + 2 MP Triple Rear & 32 MP Front...   \n",
      "1019  64 MP + 8 MP + 5 MP Triple Rear & 32 MP Front ...   \n",
      "\n",
      "                                  card           os    storge  \n",
      "0            Memory Card Not Supported  Android v13   256 GB   \n",
      "1      Memory Card (Hybrid), upto 1 TB  Android v12   128 GB   \n",
      "2     Memory Card Supported, upto 1 TB  Android v13    64 GB   \n",
      "3      Memory Card (Hybrid), upto 1 TB  Android v12   128 GB   \n",
      "4            Memory Card Not Supported  Android v13   128 GB   \n",
      "...                                ...          ...       ...  \n",
      "1015                       Android v12  No FM Radio   128 GB   \n",
      "1016  Memory Card Supported, upto 1 TB  Android v11   128 GB   \n",
      "1017         Memory Card Not Supported  Android v12   256 GB   \n",
      "1018  Memory Card Supported, upto 1 TB  Android v12   128 GB   \n",
      "1019  Memory Card Supported, upto 1 TB  Android v12   128 GB   \n",
      "\n",
      "[879 rows x 12 columns]\n"
     ]
    }
   ],
   "source": [
    "df[['ram', 'storge']] = df.ram.str.split(\",\", expand = True)\n",
    "df['storge']=df['storge'].str.replace('inbuilt','')\n",
    "print(df)"
   ]
  },
  {
   "cell_type": "code",
   "execution_count": 31,
   "metadata": {},
   "outputs": [],
   "source": [
    "df['processor'] = df['processor'].apply(lambda x:x.split()[0])"
   ]
  },
  {
   "cell_type": "code",
   "execution_count": 32,
   "metadata": {},
   "outputs": [],
   "source": [
    "df['company'] = df['model'].apply(lambda x:x.split()[0])"
   ]
  },
  {
   "attachments": {},
   "cell_type": "markdown",
   "metadata": {},
   "source": [
    "## Start EDA"
   ]
  },
  {
   "cell_type": "code",
   "execution_count": 33,
   "metadata": {},
   "outputs": [
    {
     "data": {
      "image/png": "[encoded data removed]",
      "text/plain": [
       "<Figure size 1000x1000 with 1 Axes>"
      ]
     },
     "metadata": {},
     "output_type": "display_data"
    },
    {
     "data": {
      "text/plain": [
       "<Figure size 1000x2600 with 0 Axes>"
      ]
     },
     "metadata": {},
     "output_type": "display_data"
    }
   ],
   "source": [
    "# Count the number of occurrences of each company and store it in a new DataFrame\n",
    "plt.figure(figsize=(10,10))\n",
    "\n",
    "company_counts = df['company'].value_counts().reset_index()\n",
    "\n",
    "# Rename the columns to 'company' and 'count'\n",
    "company_counts.columns = ['company', 'count']\n",
    "\n",
    "# Create a bar plot\n",
    "plt.bar(company_counts['company'], company_counts['count'])\n",
    "\n",
    "plt.xlabel('Company')\n",
    "plt.ylabel('Count') \n",
    "plt.xticks(rotation=90)\n",
    "plt.figure(figsize=(10,26))\n",
    "plt.show()\n"
   ]
  },
  {
   "cell_type": "code",
   "execution_count": 34,
   "metadata": {},
   "outputs": [
    {
     "data": {
      "application/vnd.plotly.v1+json": {
       "config": {
        "plotlyServerURL": "https://plot.ly"
       },
       "data": [
        {
         "alignmentgroup": "True",
         "hovertemplate": "color=Xiaomi<br>x=%{x}<br>y=%{y}<br>text=%{text}<extra></extra>",
         "legendgroup": "Xiaomi",
         "marker": {
          "color": "rgb(255,247,251)",
          "pattern": {
           "shape": ""
          }
         },
         "name": "Xiaomi",
         "offsetgroup": "Xiaomi",
         "orientation": "v",
         "showlegend": true,
         "text": [
          125
         ],
         "textposition": "auto",
         "type": "bar",
         "x": [
          "Xiaomi"
         ],
         "xaxis": "x",
         "y": [
          125
         ],
         "yaxis": "y"
        },
        {
         "alignmentgroup": "True",
         "hovertemplate": "color=Samsung<br>x=%{x}<br>y=%{y}<br>text=%{text}<extra></extra>",
         "legendgroup": "Samsung",
         "marker": {
          "color": "rgb(236,226,240)",
          "pattern": {
           "shape": ""
          }
         },
         "name": "Samsung",
         "offsetgroup": "Samsung",
         "orientation": "v",
         "showlegend": true,
         "text": [
          116
         ],
         "textposition": "auto",
         "type": "bar",
         "x": [
          "Samsung"
         ],
         "xaxis": "x",
         "y": [
          116
         ],
         "yaxis": "y"
        },
        {
         "alignmentgroup": "True",
         "hovertemplate": "color=Vivo<br>x=%{x}<br>y=%{y}<br>text=%{text}<extra></extra>",
         "legendgroup": "Vivo",
         "marker": {
          "color": "rgb(208,209,230)",
          "pattern": {
           "shape": ""
          }
         },
         "name": "Vivo",
         "offsetgroup": "Vivo",
         "orientation": "v",
         "showlegend": true,
         "text": [
          96
         ],
         "textposition": "auto",
         "type": "bar",
         "x": [
          "Vivo"
         ],
         "xaxis": "x",
         "y": [
          96
         ],
         "yaxis": "y"
        },
        {
         "alignmentgroup": "True",
         "hovertemplate": "color=Realme<br>x=%{x}<br>y=%{y}<br>text=%{text}<extra></extra>",
         "legendgroup": "Realme",
         "marker": {
          "color": "rgb(166,189,219)",
          "pattern": {
           "shape": ""
          }
         },
         "name": "Realme",
         "offsetgroup": "Realme",
         "orientation": "v",
         "showlegend": true,
         "text": [
          92
         ],
         "textposition": "auto",
         "type": "bar",
         "x": [
          "Realme"
         ],
         "xaxis": "x",
         "y": [
          92
         ],
         "yaxis": "y"
        },
        {
         "alignmentgroup": "True",
         "hovertemplate": "color=OPPO<br>x=%{x}<br>y=%{y}<br>text=%{text}<extra></extra>",
         "legendgroup": "OPPO",
         "marker": {
          "color": "rgb(103,169,207)",
          "pattern": {
           "shape": ""
          }
         },
         "name": "OPPO",
         "offsetgroup": "OPPO",
         "orientation": "v",
         "showlegend": true,
         "text": [
          62
         ],
         "textposition": "auto",
         "type": "bar",
         "x": [
          "OPPO"
         ],
         "xaxis": "x",
         "y": [
          62
         ],
         "yaxis": "y"
        },
        {
         "alignmentgroup": "True",
         "hovertemplate": "color=Motorola<br>x=%{x}<br>y=%{y}<br>text=%{text}<extra></extra>",
         "legendgroup": "Motorola",
         "marker": {
          "color": "rgb(54,144,192)",
          "pattern": {
           "shape": ""
          }
         },
         "name": "Motorola",
         "offsetgroup": "Motorola",
         "orientation": "v",
         "showlegend": true,
         "text": [
          48
         ],
         "textposition": "auto",
         "type": "bar",
         "x": [
          "Motorola"
         ],
         "xaxis": "x",
         "y": [
          48
         ],
         "yaxis": "y"
        },
        {
         "alignmentgroup": "True",
         "hovertemplate": "color=Apple<br>x=%{x}<br>y=%{y}<br>text=%{text}<extra></extra>",
         "legendgroup": "Apple",
         "marker": {
          "color": "rgb(2,129,138)",
          "pattern": {
           "shape": ""
          }
         },
         "name": "Apple",
         "offsetgroup": "Apple",
         "orientation": "v",
         "showlegend": true,
         "text": [
          44
         ],
         "textposition": "auto",
         "type": "bar",
         "x": [
          "Apple"
         ],
         "xaxis": "x",
         "y": [
          44
         ],
         "yaxis": "y"
        },
        {
         "alignmentgroup": "True",
         "hovertemplate": "color=OnePlus<br>x=%{x}<br>y=%{y}<br>text=%{text}<extra></extra>",
         "legendgroup": "OnePlus",
         "marker": {
          "color": "rgb(1,108,89)",
          "pattern": {
           "shape": ""
          }
         },
         "name": "OnePlus",
         "offsetgroup": "OnePlus",
         "orientation": "v",
         "showlegend": true,
         "text": [
          38
         ],
         "textposition": "auto",
         "type": "bar",
         "x": [
          "OnePlus"
         ],
         "xaxis": "x",
         "y": [
          38
         ],
         "yaxis": "y"
        },
        {
         "alignmentgroup": "True",
         "hovertemplate": "color=iQOO<br>x=%{x}<br>y=%{y}<br>text=%{text}<extra></extra>",
         "legendgroup": "iQOO",
         "marker": {
          "color": "rgb(1,70,54)",
          "pattern": {
           "shape": ""
          }
         },
         "name": "iQOO",
         "offsetgroup": "iQOO",
         "orientation": "v",
         "showlegend": true,
         "text": [
          32
         ],
         "textposition": "auto",
         "type": "bar",
         "x": [
          "iQOO"
         ],
         "xaxis": "x",
         "y": [
          32
         ],
         "yaxis": "y"
        },
        {
         "alignmentgroup": "True",
         "hovertemplate": "color=Tecno<br>x=%{x}<br>y=%{y}<br>text=%{text}<extra></extra>",
         "legendgroup": "Tecno",
         "marker": {
          "color": "rgb(255,247,251)",
          "pattern": {
           "shape": ""
          }
         },
         "name": "Tecno",
         "offsetgroup": "Tecno",
         "orientation": "v",
         "showlegend": true,
         "text": [
          31
         ],
         "textposition": "auto",
         "type": "bar",
         "x": [
          "Tecno"
         ],
         "xaxis": "x",
         "y": [
          31
         ],
         "yaxis": "y"
        },
        {
         "alignmentgroup": "True",
         "hovertemplate": "color=Infinix<br>x=%{x}<br>y=%{y}<br>text=%{text}<extra></extra>",
         "legendgroup": "Infinix",
         "marker": {
          "color": "rgb(236,226,240)",
          "pattern": {
           "shape": ""
          }
         },
         "name": "Infinix",
         "offsetgroup": "Infinix",
         "orientation": "v",
         "showlegend": true,
         "text": [
          28
         ],
         "textposition": "auto",
         "type": "bar",
         "x": [
          "Infinix"
         ],
         "xaxis": "x",
         "y": [
          28
         ],
         "yaxis": "y"
        },
        {
         "alignmentgroup": "True",
         "hovertemplate": "color=Poco<br>x=%{x}<br>y=%{y}<br>text=%{text}<extra></extra>",
         "legendgroup": "Poco",
         "marker": {
          "color": "rgb(208,209,230)",
          "pattern": {
           "shape": ""
          }
         },
         "name": "Poco",
         "offsetgroup": "Poco",
         "orientation": "v",
         "showlegend": true,
         "text": [
          27
         ],
         "textposition": "auto",
         "type": "bar",
         "x": [
          "Poco"
         ],
         "xaxis": "x",
         "y": [
          27
         ],
         "yaxis": "y"
        },
        {
         "alignmentgroup": "True",
         "hovertemplate": "color=Oppo<br>x=%{x}<br>y=%{y}<br>text=%{text}<extra></extra>",
         "legendgroup": "Oppo",
         "marker": {
          "color": "rgb(166,189,219)",
          "pattern": {
           "shape": ""
          }
         },
         "name": "Oppo",
         "offsetgroup": "Oppo",
         "orientation": "v",
         "showlegend": true,
         "text": [
          20
         ],
         "textposition": "auto",
         "type": "bar",
         "x": [
          "Oppo"
         ],
         "xaxis": "x",
         "y": [
          20
         ],
         "yaxis": "y"
        },
        {
         "alignmentgroup": "True",
         "hovertemplate": "color=POCO<br>x=%{x}<br>y=%{y}<br>text=%{text}<extra></extra>",
         "legendgroup": "POCO",
         "marker": {
          "color": "rgb(103,169,207)",
          "pattern": {
           "shape": ""
          }
         },
         "name": "POCO",
         "offsetgroup": "POCO",
         "orientation": "v",
         "showlegend": true,
         "text": [
          13
         ],
         "textposition": "auto",
         "type": "bar",
         "x": [
          "POCO"
         ],
         "xaxis": "x",
         "y": [
          13
         ],
         "yaxis": "y"
        },
        {
         "alignmentgroup": "True",
         "hovertemplate": "color=Google<br>x=%{x}<br>y=%{y}<br>text=%{text}<extra></extra>",
         "legendgroup": "Google",
         "marker": {
          "color": "rgb(54,144,192)",
          "pattern": {
           "shape": ""
          }
         },
         "name": "Google",
         "offsetgroup": "Google",
         "orientation": "v",
         "showlegend": true,
         "text": [
          12
         ],
         "textposition": "auto",
         "type": "bar",
         "x": [
          "Google"
         ],
         "xaxis": "x",
         "y": [
          12
         ],
         "yaxis": "y"
        },
        {
         "alignmentgroup": "True",
         "hovertemplate": "color=Huawei<br>x=%{x}<br>y=%{y}<br>text=%{text}<extra></extra>",
         "legendgroup": "Huawei",
         "marker": {
          "color": "rgb(2,129,138)",
          "pattern": {
           "shape": ""
          }
         },
         "name": "Huawei",
         "offsetgroup": "Huawei",
         "orientation": "v",
         "showlegend": true,
         "text": [
          11
         ],
         "textposition": "auto",
         "type": "bar",
         "x": [
          "Huawei"
         ],
         "xaxis": "x",
         "y": [
          11
         ],
         "yaxis": "y"
        },
        {
         "alignmentgroup": "True",
         "hovertemplate": "color=Honor<br>x=%{x}<br>y=%{y}<br>text=%{text}<extra></extra>",
         "legendgroup": "Honor",
         "marker": {
          "color": "rgb(1,108,89)",
          "pattern": {
           "shape": ""
          }
         },
         "name": "Honor",
         "offsetgroup": "Honor",
         "orientation": "v",
         "showlegend": true,
         "text": [
          11
         ],
         "textposition": "auto",
         "type": "bar",
         "x": [
          "Honor"
         ],
         "xaxis": "x",
         "y": [
          11
         ],
         "yaxis": "y"
        },
        {
         "alignmentgroup": "True",
         "hovertemplate": "color=Nokia<br>x=%{x}<br>y=%{y}<br>text=%{text}<extra></extra>",
         "legendgroup": "Nokia",
         "marker": {
          "color": "rgb(1,70,54)",
          "pattern": {
           "shape": ""
          }
         },
         "name": "Nokia",
         "offsetgroup": "Nokia",
         "orientation": "v",
         "showlegend": true,
         "text": [
          10
         ],
         "textposition": "auto",
         "type": "bar",
         "x": [
          "Nokia"
         ],
         "xaxis": "x",
         "y": [
          10
         ],
         "yaxis": "y"
        },
        {
         "alignmentgroup": "True",
         "hovertemplate": "color=Sony<br>x=%{x}<br>y=%{y}<br>text=%{text}<extra></extra>",
         "legendgroup": "Sony",
         "marker": {
          "color": "rgb(255,247,251)",
          "pattern": {
           "shape": ""
          }
         },
         "name": "Sony",
         "offsetgroup": "Sony",
         "orientation": "v",
         "showlegend": true,
         "text": [
          7
         ],
         "textposition": "auto",
         "type": "bar",
         "x": [
          "Sony"
         ],
         "xaxis": "x",
         "y": [
          7
         ],
         "yaxis": "y"
        },
        {
         "alignmentgroup": "True",
         "hovertemplate": "color=Asus<br>x=%{x}<br>y=%{y}<br>text=%{text}<extra></extra>",
         "legendgroup": "Asus",
         "marker": {
          "color": "rgb(236,226,240)",
          "pattern": {
           "shape": ""
          }
         },
         "name": "Asus",
         "offsetgroup": "Asus",
         "orientation": "v",
         "showlegend": true,
         "text": [
          6
         ],
         "textposition": "auto",
         "type": "bar",
         "x": [
          "Asus"
         ],
         "xaxis": "x",
         "y": [
          6
         ],
         "yaxis": "y"
        },
        {
         "alignmentgroup": "True",
         "hovertemplate": "color=Nubia<br>x=%{x}<br>y=%{y}<br>text=%{text}<extra></extra>",
         "legendgroup": "Nubia",
         "marker": {
          "color": "rgb(208,209,230)",
          "pattern": {
           "shape": ""
          }
         },
         "name": "Nubia",
         "offsetgroup": "Nubia",
         "orientation": "v",
         "showlegend": true,
         "text": [
          6
         ],
         "textposition": "auto",
         "type": "bar",
         "x": [
          "Nubia"
         ],
         "xaxis": "x",
         "y": [
          6
         ],
         "yaxis": "y"
        },
        {
         "alignmentgroup": "True",
         "hovertemplate": "color=Nothing<br>x=%{x}<br>y=%{y}<br>text=%{text}<extra></extra>",
         "legendgroup": "Nothing",
         "marker": {
          "color": "rgb(166,189,219)",
          "pattern": {
           "shape": ""
          }
         },
         "name": "Nothing",
         "offsetgroup": "Nothing",
         "orientation": "v",
         "showlegend": true,
         "text": [
          5
         ],
         "textposition": "auto",
         "type": "bar",
         "x": [
          "Nothing"
         ],
         "xaxis": "x",
         "y": [
          5
         ],
         "yaxis": "y"
        },
        {
         "alignmentgroup": "True",
         "hovertemplate": "color=Oukitel<br>x=%{x}<br>y=%{y}<br>text=%{text}<extra></extra>",
         "legendgroup": "Oukitel",
         "marker": {
          "color": "rgb(103,169,207)",
          "pattern": {
           "shape": ""
          }
         },
         "name": "Oukitel",
         "offsetgroup": "Oukitel",
         "orientation": "v",
         "showlegend": true,
         "text": [
          3
         ],
         "textposition": "auto",
         "type": "bar",
         "x": [
          "Oukitel"
         ],
         "xaxis": "x",
         "y": [
          3
         ],
         "yaxis": "y"
        },
        {
         "alignmentgroup": "True",
         "hovertemplate": "color=Micromax<br>x=%{x}<br>y=%{y}<br>text=%{text}<extra></extra>",
         "legendgroup": "Micromax",
         "marker": {
          "color": "rgb(54,144,192)",
          "pattern": {
           "shape": ""
          }
         },
         "name": "Micromax",
         "offsetgroup": "Micromax",
         "orientation": "v",
         "showlegend": true,
         "text": [
          3
         ],
         "textposition": "auto",
         "type": "bar",
         "x": [
          "Micromax"
         ],
         "xaxis": "x",
         "y": [
          3
         ],
         "yaxis": "y"
        },
        {
         "alignmentgroup": "True",
         "hovertemplate": "color=Lava<br>x=%{x}<br>y=%{y}<br>text=%{text}<extra></extra>",
         "legendgroup": "Lava",
         "marker": {
          "color": "rgb(2,129,138)",
          "pattern": {
           "shape": ""
          }
         },
         "name": "Lava",
         "offsetgroup": "Lava",
         "orientation": "v",
         "showlegend": true,
         "text": [
          3
         ],
         "textposition": "auto",
         "type": "bar",
         "x": [
          "Lava"
         ],
         "xaxis": "x",
         "y": [
          3
         ],
         "yaxis": "y"
        },
        {
         "alignmentgroup": "True",
         "hovertemplate": "color=Redmi<br>x=%{x}<br>y=%{y}<br>text=%{text}<extra></extra>",
         "legendgroup": "Redmi",
         "marker": {
          "color": "rgb(1,108,89)",
          "pattern": {
           "shape": ""
          }
         },
         "name": "Redmi",
         "offsetgroup": "Redmi",
         "orientation": "v",
         "showlegend": true,
         "text": [
          3
         ],
         "textposition": "auto",
         "type": "bar",
         "x": [
          "Redmi"
         ],
         "xaxis": "x",
         "y": [
          3
         ],
         "yaxis": "y"
        },
        {
         "alignmentgroup": "True",
         "hovertemplate": "color=iKall<br>x=%{x}<br>y=%{y}<br>text=%{text}<extra></extra>",
         "legendgroup": "iKall",
         "marker": {
          "color": "rgb(1,70,54)",
          "pattern": {
           "shape": ""
          }
         },
         "name": "iKall",
         "offsetgroup": "iKall",
         "orientation": "v",
         "showlegend": true,
         "text": [
          3
         ],
         "textposition": "auto",
         "type": "bar",
         "x": [
          "iKall"
         ],
         "xaxis": "x",
         "y": [
          3
         ],
         "yaxis": "y"
        },
        {
         "alignmentgroup": "True",
         "hovertemplate": "color=Lenovo<br>x=%{x}<br>y=%{y}<br>text=%{text}<extra></extra>",
         "legendgroup": "Lenovo",
         "marker": {
          "color": "rgb(255,247,251)",
          "pattern": {
           "shape": ""
          }
         },
         "name": "Lenovo",
         "offsetgroup": "Lenovo",
         "orientation": "v",
         "showlegend": true,
         "text": [
          2
         ],
         "textposition": "auto",
         "type": "bar",
         "x": [
          "Lenovo"
         ],
         "xaxis": "x",
         "y": [
          2
         ],
         "yaxis": "y"
        },
        {
         "alignmentgroup": "True",
         "hovertemplate": "color=Doogee<br>x=%{x}<br>y=%{y}<br>text=%{text}<extra></extra>",
         "legendgroup": "Doogee",
         "marker": {
          "color": "rgb(236,226,240)",
          "pattern": {
           "shape": ""
          }
         },
         "name": "Doogee",
         "offsetgroup": "Doogee",
         "orientation": "v",
         "showlegend": true,
         "text": [
          2
         ],
         "textposition": "auto",
         "type": "bar",
         "x": [
          "Doogee"
         ],
         "xaxis": "x",
         "y": [
          2
         ],
         "yaxis": "y"
        },
        {
         "alignmentgroup": "True",
         "hovertemplate": "color=ZTE<br>x=%{x}<br>y=%{y}<br>text=%{text}<extra></extra>",
         "legendgroup": "ZTE",
         "marker": {
          "color": "rgb(208,209,230)",
          "pattern": {
           "shape": ""
          }
         },
         "name": "ZTE",
         "offsetgroup": "ZTE",
         "orientation": "v",
         "showlegend": true,
         "text": [
          2
         ],
         "textposition": "auto",
         "type": "bar",
         "x": [
          "ZTE"
         ],
         "xaxis": "x",
         "y": [
          2
         ],
         "yaxis": "y"
        },
        {
         "alignmentgroup": "True",
         "hovertemplate": "color=Royole<br>x=%{x}<br>y=%{y}<br>text=%{text}<extra></extra>",
         "legendgroup": "Royole",
         "marker": {
          "color": "rgb(166,189,219)",
          "pattern": {
           "shape": ""
          }
         },
         "name": "Royole",
         "offsetgroup": "Royole",
         "orientation": "v",
         "showlegend": true,
         "text": [
          2
         ],
         "textposition": "auto",
         "type": "bar",
         "x": [
          "Royole"
         ],
         "xaxis": "x",
         "y": [
          2
         ],
         "yaxis": "y"
        },
        {
         "alignmentgroup": "True",
         "hovertemplate": "color=LG<br>x=%{x}<br>y=%{y}<br>text=%{text}<extra></extra>",
         "legendgroup": "LG",
         "marker": {
          "color": "rgb(103,169,207)",
          "pattern": {
           "shape": ""
          }
         },
         "name": "LG",
         "offsetgroup": "LG",
         "orientation": "v",
         "showlegend": true,
         "text": [
          2
         ],
         "textposition": "auto",
         "type": "bar",
         "x": [
          "LG"
         ],
         "xaxis": "x",
         "y": [
          2
         ],
         "yaxis": "y"
        },
        {
         "alignmentgroup": "True",
         "hovertemplate": "color=Letv<br>x=%{x}<br>y=%{y}<br>text=%{text}<extra></extra>",
         "legendgroup": "Letv",
         "marker": {
          "color": "rgb(54,144,192)",
          "pattern": {
           "shape": ""
          }
         },
         "name": "Letv",
         "offsetgroup": "Letv",
         "orientation": "v",
         "showlegend": true,
         "text": [
          1
         ],
         "textposition": "auto",
         "type": "bar",
         "x": [
          "Letv"
         ],
         "xaxis": "x",
         "y": [
          1
         ],
         "yaxis": "y"
        },
        {
         "alignmentgroup": "True",
         "hovertemplate": "color=Sharp<br>x=%{x}<br>y=%{y}<br>text=%{text}<extra></extra>",
         "legendgroup": "Sharp",
         "marker": {
          "color": "rgb(2,129,138)",
          "pattern": {
           "shape": ""
          }
         },
         "name": "Sharp",
         "offsetgroup": "Sharp",
         "orientation": "v",
         "showlegend": true,
         "text": [
          1
         ],
         "textposition": "auto",
         "type": "bar",
         "x": [
          "Sharp"
         ],
         "xaxis": "x",
         "y": [
          1
         ],
         "yaxis": "y"
        },
        {
         "alignmentgroup": "True",
         "hovertemplate": "color=TCL<br>x=%{x}<br>y=%{y}<br>text=%{text}<extra></extra>",
         "legendgroup": "TCL",
         "marker": {
          "color": "rgb(1,108,89)",
          "pattern": {
           "shape": ""
          }
         },
         "name": "TCL",
         "offsetgroup": "TCL",
         "orientation": "v",
         "showlegend": true,
         "text": [
          1
         ],
         "textposition": "auto",
         "type": "bar",
         "x": [
          "TCL"
         ],
         "xaxis": "x",
         "y": [
          1
         ],
         "yaxis": "y"
        },
        {
         "alignmentgroup": "True",
         "hovertemplate": "color=Leitz<br>x=%{x}<br>y=%{y}<br>text=%{text}<extra></extra>",
         "legendgroup": "Leitz",
         "marker": {
          "color": "rgb(1,70,54)",
          "pattern": {
           "shape": ""
          }
         },
         "name": "Leitz",
         "offsetgroup": "Leitz",
         "orientation": "v",
         "showlegend": true,
         "text": [
          1
         ],
         "textposition": "auto",
         "type": "bar",
         "x": [
          "Leitz"
         ],
         "xaxis": "x",
         "y": [
          1
         ],
         "yaxis": "y"
        },
        {
         "alignmentgroup": "True",
         "hovertemplate": "color=Gionee<br>x=%{x}<br>y=%{y}<br>text=%{text}<extra></extra>",
         "legendgroup": "Gionee",
         "marker": {
          "color": "rgb(255,247,251)",
          "pattern": {
           "shape": ""
          }
         },
         "name": "Gionee",
         "offsetgroup": "Gionee",
         "orientation": "v",
         "showlegend": true,
         "text": [
          1
         ],
         "textposition": "auto",
         "type": "bar",
         "x": [
          "Gionee"
         ],
         "xaxis": "x",
         "y": [
          1
         ],
         "yaxis": "y"
        },
        {
         "alignmentgroup": "True",
         "hovertemplate": "color=itel<br>x=%{x}<br>y=%{y}<br>text=%{text}<extra></extra>",
         "legendgroup": "itel",
         "marker": {
          "color": "rgb(236,226,240)",
          "pattern": {
           "shape": ""
          }
         },
         "name": "itel",
         "offsetgroup": "itel",
         "orientation": "v",
         "showlegend": true,
         "text": [
          1
         ],
         "textposition": "auto",
         "type": "bar",
         "x": [
          "itel"
         ],
         "xaxis": "x",
         "y": [
          1
         ],
         "yaxis": "y"
        },
        {
         "alignmentgroup": "True",
         "hovertemplate": "color=Cola<br>x=%{x}<br>y=%{y}<br>text=%{text}<extra></extra>",
         "legendgroup": "Cola",
         "marker": {
          "color": "rgb(208,209,230)",
          "pattern": {
           "shape": ""
          }
         },
         "name": "Cola",
         "offsetgroup": "Cola",
         "orientation": "v",
         "showlegend": true,
         "text": [
          1
         ],
         "textposition": "auto",
         "type": "bar",
         "x": [
          "Cola"
         ],
         "xaxis": "x",
         "y": [
          1
         ],
         "yaxis": "y"
        },
        {
         "alignmentgroup": "True",
         "hovertemplate": "color=LeEco<br>x=%{x}<br>y=%{y}<br>text=%{text}<extra></extra>",
         "legendgroup": "LeEco",
         "marker": {
          "color": "rgb(166,189,219)",
          "pattern": {
           "shape": ""
          }
         },
         "name": "LeEco",
         "offsetgroup": "LeEco",
         "orientation": "v",
         "showlegend": true,
         "text": [
          1
         ],
         "textposition": "auto",
         "type": "bar",
         "x": [
          "LeEco"
         ],
         "xaxis": "x",
         "y": [
          1
         ],
         "yaxis": "y"
        },
        {
         "alignmentgroup": "True",
         "hovertemplate": "color=Lyf<br>x=%{x}<br>y=%{y}<br>text=%{text}<extra></extra>",
         "legendgroup": "Lyf",
         "marker": {
          "color": "rgb(103,169,207)",
          "pattern": {
           "shape": ""
          }
         },
         "name": "Lyf",
         "offsetgroup": "Lyf",
         "orientation": "v",
         "showlegend": true,
         "text": [
          1
         ],
         "textposition": "auto",
         "type": "bar",
         "x": [
          "Lyf"
         ],
         "xaxis": "x",
         "y": [
          1
         ],
         "yaxis": "y"
        },
        {
         "alignmentgroup": "True",
         "hovertemplate": "color=Jio<br>x=%{x}<br>y=%{y}<br>text=%{text}<extra></extra>",
         "legendgroup": "Jio",
         "marker": {
          "color": "rgb(54,144,192)",
          "pattern": {
           "shape": ""
          }
         },
         "name": "Jio",
         "offsetgroup": "Jio",
         "orientation": "v",
         "showlegend": true,
         "text": [
          1
         ],
         "textposition": "auto",
         "type": "bar",
         "x": [
          "Jio"
         ],
         "xaxis": "x",
         "y": [
          1
         ],
         "yaxis": "y"
        },
        {
         "alignmentgroup": "True",
         "hovertemplate": "color=BLU<br>x=%{x}<br>y=%{y}<br>text=%{text}<extra></extra>",
         "legendgroup": "BLU",
         "marker": {
          "color": "rgb(2,129,138)",
          "pattern": {
           "shape": ""
          }
         },
         "name": "BLU",
         "offsetgroup": "BLU",
         "orientation": "v",
         "showlegend": true,
         "text": [
          1
         ],
         "textposition": "auto",
         "type": "bar",
         "x": [
          "BLU"
         ],
         "xaxis": "x",
         "y": [
          1
         ],
         "yaxis": "y"
        },
        {
         "alignmentgroup": "True",
         "hovertemplate": "color=Vertu<br>x=%{x}<br>y=%{y}<br>text=%{text}<extra></extra>",
         "legendgroup": "Vertu",
         "marker": {
          "color": "rgb(1,108,89)",
          "pattern": {
           "shape": ""
          }
         },
         "name": "Vertu",
         "offsetgroup": "Vertu",
         "orientation": "v",
         "showlegend": true,
         "text": [
          1
         ],
         "textposition": "auto",
         "type": "bar",
         "x": [
          "Vertu"
         ],
         "xaxis": "x",
         "y": [
          1
         ],
         "yaxis": "y"
        },
        {
         "alignmentgroup": "True",
         "hovertemplate": "color=Tesla<br>x=%{x}<br>y=%{y}<br>text=%{text}<extra></extra>",
         "legendgroup": "Tesla",
         "marker": {
          "color": "rgb(1,70,54)",
          "pattern": {
           "shape": ""
          }
         },
         "name": "Tesla",
         "offsetgroup": "Tesla",
         "orientation": "v",
         "showlegend": true,
         "text": [
          1
         ],
         "textposition": "auto",
         "type": "bar",
         "x": [
          "Tesla"
         ],
         "xaxis": "x",
         "y": [
          1
         ],
         "yaxis": "y"
        },
        {
         "alignmentgroup": "True",
         "hovertemplate": "color=Blackview<br>x=%{x}<br>y=%{y}<br>text=%{text}<extra></extra>",
         "legendgroup": "Blackview",
         "marker": {
          "color": "rgb(255,247,251)",
          "pattern": {
           "shape": ""
          }
         },
         "name": "Blackview",
         "offsetgroup": "Blackview",
         "orientation": "v",
         "showlegend": true,
         "text": [
          1
         ],
         "textposition": "auto",
         "type": "bar",
         "x": [
          "Blackview"
         ],
         "xaxis": "x",
         "y": [
          1
         ],
         "yaxis": "y"
        }
       ],
       "layout": {
        "barmode": "relative",
        "font": {
         "family": "Franklin Gothic",
         "size": 17
        },
        "height": 500,
        "legend": {
         "title": {
          "text": "color"
         },
         "tracegroupgap": 0
        },
        "template": {
         "data": {
          "bar": [
           {
            "error_x": {
             "color": "#f2f5fa"
            },
            "error_y": {
             "color": "#f2f5fa"
            },
            "marker": {
             "line": {
              "color": "rgb(17,17,17)",
              "width": 0.5
             },
             "pattern": {
              "fillmode": "overlay",
              "size": 10,
              "solidity": 0.2
             }
            },
            "type": "bar"
           }
          ],
          "barpolar": [
           {
            "marker": {
             "line": {
              "color": "rgb(17,17,17)",
              "width": 0.5
             },
             "pattern": {
              "fillmode": "overlay",
              "size": 10,
              "solidity": 0.2
             }
            },
            "type": "barpolar"
           }
          ],
          "carpet": [
           {
            "aaxis": {
             "endlinecolor": "#A2B1C6",
             "gridcolor": "#506784",
             "linecolor": "#506784",
             "minorgridcolor": "#506784",
             "startlinecolor": "#A2B1C6"
            },
            "baxis": {
             "endlinecolor": "#A2B1C6",
             "gridcolor": "#506784",
             "linecolor": "#506784",
             "minorgridcolor": "#506784",
             "startlinecolor": "#A2B1C6"
            },
            "type": "carpet"
           }
          ],
          "choropleth": [
           {
            "colorbar": {
             "outlinewidth": 0,
             "ticks": ""
            },
            "type": "choropleth"
           }
          ],
          "contour": [
           {
            "colorbar": {
             "outlinewidth": 0,
             "ticks": ""
            },
            "colorscale": [
             [
              0,
              "#0d0887"
             ],
             [
              0.1111111111111111,
              "#46039f"
             ],
             [
              0.2222222222222222,
              "#7201a8"
             ],
             [
              0.3333333333333333,
              "#9c179e"
             ],
             [
              0.4444444444444444,
              "#bd3786"
             ],
             [
              0.5555555555555556,
              "#d8576b"
             ],
             [
              0.6666666666666666,
              "#ed7953"
             ],
             [
              0.7777777777777778,
              "#fb9f3a"
             ],
             [
              0.8888888888888888,
              "#fdca26"
             ],
             [
              1,
              "#f0f921"
             ]
            ],
            "type": "contour"
           }
          ],
          "contourcarpet": [
           {
            "colorbar": {
             "outlinewidth": 0,
             "ticks": ""
            },
            "type": "contourcarpet"
           }
          ],
          "heatmap": [
           {
            "colorbar": {
             "outlinewidth": 0,
             "ticks": ""
            },
            "colorscale": [
             [
              0,
              "#0d0887"
             ],
             [
              0.1111111111111111,
              "#46039f"
             ],
             [
              0.2222222222222222,
              "#7201a8"
             ],
             [
              0.3333333333333333,
              "#9c179e"
             ],
             [
              0.4444444444444444,
              "#bd3786"
             ],
             [
              0.5555555555555556,
              "#d8576b"
             ],
             [
              0.6666666666666666,
              "#ed7953"
             ],
             [
              0.7777777777777778,
              "#fb9f3a"
             ],
             [
              0.8888888888888888,
              "#fdca26"
             ],
             [
              1,
              "#f0f921"
             ]
            ],
            "type": "heatmap"
           }
          ],
          "heatmapgl": [
           {
            "colorbar": {
             "outlinewidth": 0,
             "ticks": ""
            },
            "colorscale": [
             [
              0,
              "#0d0887"
             ],
             [
              0.1111111111111111,
              "#46039f"
             ],
             [
              0.2222222222222222,
              "#7201a8"
             ],
             [
              0.3333333333333333,
              "#9c179e"
             ],
             [
              0.4444444444444444,
              "#bd3786"
             ],
             [
              0.5555555555555556,
              "#d8576b"
             ],
             [
              0.6666666666666666,
              "#ed7953"
             ],
             [
              0.7777777777777778,
              "#fb9f3a"
             ],
             [
              0.8888888888888888,
              "#fdca26"
             ],
             [
              1,
              "#f0f921"
             ]
            ],
            "type": "heatmapgl"
           }
          ],
          "histogram": [
           {
            "marker": {
             "pattern": {
              "fillmode": "overlay",
              "size": 10,
              "solidity": 0.2
             }
            },
            "type": "histogram"
           }
          ],
          "histogram2d": [
           {
            "colorbar": {
             "outlinewidth": 0,
             "ticks": ""
            },
            "colorscale": [
             [
              0,
              "#0d0887"
             ],
             [
              0.1111111111111111,
              "#46039f"
             ],
             [
              0.2222222222222222,
              "#7201a8"
             ],
             [
              0.3333333333333333,
              "#9c179e"
             ],
             [
              0.4444444444444444,
              "#bd3786"
             ],
             [
              0.5555555555555556,
              "#d8576b"
             ],
             [
              0.6666666666666666,
              "#ed7953"
             ],
             [
              0.7777777777777778,
              "#fb9f3a"
             ],
             [
              0.8888888888888888,
              "#fdca26"
             ],
             [
              1,
              "#f0f921"
             ]
            ],
            "type": "histogram2d"
           }
          ],
          "histogram2dcontour": [
           {
            "colorbar": {
             "outlinewidth": 0,
             "ticks": ""
            },
            "colorscale": [
             [
              0,
              "#0d0887"
             ],
             [
              0.1111111111111111,
              "#46039f"
             ],
             [
              0.2222222222222222,
              "#7201a8"
             ],
             [
              0.3333333333333333,
              "#9c179e"
             ],
             [
              0.4444444444444444,
              "#bd3786"
             ],
             [
              0.5555555555555556,
              "#d8576b"
             ],
             [
              0.6666666666666666,
              "#ed7953"
             ],
             [
              0.7777777777777778,
              "#fb9f3a"
             ],
             [
              0.8888888888888888,
              "#fdca26"
             ],
             [
              1,
              "#f0f921"
             ]
            ],
            "type": "histogram2dcontour"
           }
          ],
          "mesh3d": [
           {
            "colorbar": {
             "outlinewidth": 0,
             "ticks": ""
            },
            "type": "mesh3d"
           }
          ],
          "parcoords": [
           {
            "line": {
             "colorbar": {
              "outlinewidth": 0,
              "ticks": ""
             }
            },
            "type": "parcoords"
           }
          ],
          "pie": [
           {
            "automargin": true,
            "type": "pie"
           }
          ],
          "scatter": [
           {
            "marker": {
             "line": {
              "color": "#283442"
             }
            },
            "type": "scatter"
           }
          ],
          "scatter3d": [
           {
            "line": {
             "colorbar": {
              "outlinewidth": 0,
              "ticks": ""
             }
            },
            "marker": {
             "colorbar": {
              "outlinewidth": 0,
              "ticks": ""
             }
            },
            "type": "scatter3d"
           }
          ],
          "scattercarpet": [
           {
            "marker": {
             "colorbar": {
              "outlinewidth": 0,
              "ticks": ""
             }
            },
            "type": "scattercarpet"
           }
          ],
          "scattergeo": [
           {
            "marker": {
             "colorbar": {
              "outlinewidth": 0,
              "ticks": ""
             }
            },
            "type": "scattergeo"
           }
          ],
          "scattergl": [
           {
            "marker": {
             "line": {
              "color": "#283442"
             }
            },
            "type": "scattergl"
           }
          ],
          "scattermapbox": [
           {
            "marker": {
             "colorbar": {
              "outlinewidth": 0,
              "ticks": ""
             }
            },
            "type": "scattermapbox"
           }
          ],
          "scatterpolar": [
           {
            "marker": {
             "colorbar": {
              "outlinewidth": 0,
              "ticks": ""
             }
            },
            "type": "scatterpolar"
           }
          ],
          "scatterpolargl": [
           {
            "marker": {
             "colorbar": {
              "outlinewidth": 0,
              "ticks": ""
             }
            },
            "type": "scatterpolargl"
           }
          ],
          "scatterternary": [
           {
            "marker": {
             "colorbar": {
              "outlinewidth": 0,
              "ticks": ""
             }
            },
            "type": "scatterternary"
           }
          ],
          "surface": [
           {
            "colorbar": {
             "outlinewidth": 0,
             "ticks": ""
            },
            "colorscale": [
             [
              0,
              "#0d0887"
             ],
             [
              0.1111111111111111,
              "#46039f"
             ],
             [
              0.2222222222222222,
              "#7201a8"
             ],
             [
              0.3333333333333333,
              "#9c179e"
             ],
             [
              0.4444444444444444,
              "#bd3786"
             ],
             [
              0.5555555555555556,
              "#d8576b"
             ],
             [
              0.6666666666666666,
              "#ed7953"
             ],
             [
              0.7777777777777778,
              "#fb9f3a"
             ],
             [
              0.8888888888888888,
              "#fdca26"
             ],
             [
              1,
              "#f0f921"
             ]
            ],
            "type": "surface"
           }
          ],
          "table": [
           {
            "cells": {
             "fill": {
              "color": "#506784"
             },
             "line": {
              "color": "rgb(17,17,17)"
             }
            },
            "header": {
             "fill": {
              "color": "#2a3f5f"
             },
             "line": {
              "color": "rgb(17,17,17)"
             }
            },
            "type": "table"
           }
          ]
         },
         "layout": {
          "annotationdefaults": {
           "arrowcolor": "#f2f5fa",
           "arrowhead": 0,
           "arrowwidth": 1
          },
          "autotypenumbers": "strict",
          "coloraxis": {
           "colorbar": {
            "outlinewidth": 0,
            "ticks": ""
           }
          },
          "colorscale": {
           "diverging": [
            [
             0,
             "#8e0152"
            ],
            [
             0.1,
             "#c51b7d"
            ],
            [
             0.2,
             "#de77ae"
            ],
            [
             0.3,
             "#f1b6da"
            ],
            [
             0.4,
             "#fde0ef"
            ],
            [
             0.5,
             "#f7f7f7"
            ],
            [
             0.6,
             "#e6f5d0"
            ],
            [
             0.7,
             "#b8e186"
            ],
            [
             0.8,
             "#7fbc41"
            ],
            [
             0.9,
             "#4d9221"
            ],
            [
             1,
             "#276419"
            ]
           ],
           "sequential": [
            [
             0,
             "#0d0887"
            ],
            [
             0.1111111111111111,
             "#46039f"
            ],
            [
             0.2222222222222222,
             "#7201a8"
            ],
            [
             0.3333333333333333,
             "#9c179e"
            ],
            [
             0.4444444444444444,
             "#bd3786"
            ],
            [
             0.5555555555555556,
             "#d8576b"
            ],
            [
             0.6666666666666666,
             "#ed7953"
            ],
            [
             0.7777777777777778,
             "#fb9f3a"
            ],
            [
             0.8888888888888888,
             "#fdca26"
            ],
            [
             1,
             "#f0f921"
            ]
           ],
           "sequentialminus": [
            [
             0,
             "#0d0887"
            ],
            [
             0.1111111111111111,
             "#46039f"
            ],
            [
             0.2222222222222222,
             "#7201a8"
            ],
            [
             0.3333333333333333,
             "#9c179e"
            ],
            [
             0.4444444444444444,
             "#bd3786"
            ],
            [
             0.5555555555555556,
             "#d8576b"
            ],
            [
             0.6666666666666666,
             "#ed7953"
            ],
            [
             0.7777777777777778,
             "#fb9f3a"
            ],
            [
             0.8888888888888888,
             "#fdca26"
            ],
            [
             1,
             "#f0f921"
            ]
           ]
          },
          "colorway": [
           "#636efa",
           "#EF553B",
           "#00cc96",
           "#ab63fa",
           "#FFA15A",
           "#19d3f3",
           "#FF6692",
           "#B6E880",
           "#FF97FF",
           "#FECB52"
          ],
          "font": {
           "color": "#f2f5fa"
          },
          "geo": {
           "bgcolor": "rgb(17,17,17)",
           "lakecolor": "rgb(17,17,17)",
           "landcolor": "rgb(17,17,17)",
           "showlakes": true,
           "showland": true,
           "subunitcolor": "#506784"
          },
          "hoverlabel": {
           "align": "left"
          },
          "hovermode": "closest",
          "mapbox": {
           "style": "dark"
          },
          "paper_bgcolor": "rgb(17,17,17)",
          "plot_bgcolor": "rgb(17,17,17)",
          "polar": {
           "angularaxis": {
            "gridcolor": "#506784",
            "linecolor": "#506784",
            "ticks": ""
           },
           "bgcolor": "rgb(17,17,17)",
           "radialaxis": {
            "gridcolor": "#506784",
            "linecolor": "#506784",
            "ticks": ""
           }
          },
          "scene": {
           "xaxis": {
            "backgroundcolor": "rgb(17,17,17)",
            "gridcolor": "#506784",
            "gridwidth": 2,
            "linecolor": "#506784",
            "showbackground": true,
            "ticks": "",
            "zerolinecolor": "#C8D4E3"
           },
           "yaxis": {
            "backgroundcolor": "rgb(17,17,17)",
            "gridcolor": "#506784",
            "gridwidth": 2,
            "linecolor": "#506784",
            "showbackground": true,
            "ticks": "",
            "zerolinecolor": "#C8D4E3"
           },
           "zaxis": {
            "backgroundcolor": "rgb(17,17,17)",
            "gridcolor": "#506784",
            "gridwidth": 2,
            "linecolor": "#506784",
            "showbackground": true,
            "ticks": "",
            "zerolinecolor": "#C8D4E3"
           }
          },
          "shapedefaults": {
           "line": {
            "color": "#f2f5fa"
           }
          },
          "sliderdefaults": {
           "bgcolor": "#C8D4E3",
           "bordercolor": "rgb(17,17,17)",
           "borderwidth": 1,
           "tickwidth": 0
          },
          "ternary": {
           "aaxis": {
            "gridcolor": "#506784",
            "linecolor": "#506784",
            "ticks": ""
           },
           "baxis": {
            "gridcolor": "#506784",
            "linecolor": "#506784",
            "ticks": ""
           },
           "bgcolor": "rgb(17,17,17)",
           "caxis": {
            "gridcolor": "#506784",
            "linecolor": "#506784",
            "ticks": ""
           }
          },
          "title": {
           "x": 0.05
          },
          "updatemenudefaults": {
           "bgcolor": "#506784",
           "borderwidth": 0
          },
          "xaxis": {
           "automargin": true,
           "gridcolor": "#283442",
           "linecolor": "#506784",
           "ticks": "",
           "title": {
            "standoff": 15
           },
           "zerolinecolor": "#283442",
           "zerolinewidth": 2
          },
          "yaxis": {
           "automargin": true,
           "gridcolor": "#283442",
           "linecolor": "#506784",
           "ticks": "",
           "title": {
            "standoff": 15
           },
           "zerolinecolor": "#283442",
           "zerolinewidth": 2
          }
         }
        },
        "title": {
         "text": "Company distribution"
        },
        "width": 1500,
        "xaxis": {
         "anchor": "y",
         "domain": [
          0,
          1
         ],
         "title": {
          "text": "Company"
         }
        },
        "yaxis": {
         "anchor": "x",
         "domain": [
          0,
          1
         ],
         "title": {
          "text": "count"
         }
        }
       }
      }
     },
     "metadata": {},
     "output_type": "display_data"
    }
   ],
   "source": [
    "Company = df['company'].value_counts()\n",
    "fig = px.bar(y=Company.values, \n",
    "             x=Company.index, \n",
    "             color = Company.index,\n",
    "             color_discrete_sequence=px.colors.sequential.PuBuGn,\n",
    "             text=Company.values,\n",
    "             title= 'Company distribution',\n",
    "             template= 'plotly_dark',\n",
    "             width=1500, height=500)\n",
    "fig.update_layout(\n",
    "    xaxis_title=\"Company\",\n",
    "    yaxis_title=\"count\",\n",
    "    font = dict(size=17,family=\"Franklin Gothic\"))\n",
    "\n",
    "fig.show()"
   ]
  },
  {
   "cell_type": "code",
   "execution_count": 35,
   "metadata": {},
   "outputs": [
    {
     "data": {
      "application/vnd.plotly.v1+json": {
       "config": {
        "plotlyServerURL": "https://plot.ly"
       },
       "data": [
        {
         "alignmentgroup": "True",
         "hovertemplate": "color=Snapdragon<br>x=%{x}<br>y=%{y}<br>text=%{text}<extra></extra>",
         "legendgroup": "Snapdragon",
         "marker": {
          "color": "rgb(255,247,251)",
          "pattern": {
           "shape": ""
          }
         },
         "name": "Snapdragon",
         "offsetgroup": "Snapdragon",
         "orientation": "v",
         "showlegend": true,
         "text": [
          356
         ],
         "textposition": "auto",
         "type": "bar",
         "x": [
          "Snapdragon"
         ],
         "xaxis": "x",
         "y": [
          356
         ],
         "yaxis": "y"
        },
        {
         "alignmentgroup": "True",
         "hovertemplate": "color=Helio<br>x=%{x}<br>y=%{y}<br>text=%{text}<extra></extra>",
         "legendgroup": "Helio",
         "marker": {
          "color": "rgb(236,226,240)",
          "pattern": {
           "shape": ""
          }
         },
         "name": "Helio",
         "offsetgroup": "Helio",
         "orientation": "v",
         "showlegend": true,
         "text": [
          189
         ],
         "textposition": "auto",
         "type": "bar",
         "x": [
          "Helio"
         ],
         "xaxis": "x",
         "y": [
          189
         ],
         "yaxis": "y"
        },
        {
         "alignmentgroup": "True",
         "hovertemplate": "color=Dimensity<br>x=%{x}<br>y=%{y}<br>text=%{text}<extra></extra>",
         "legendgroup": "Dimensity",
         "marker": {
          "color": "rgb(208,209,230)",
          "pattern": {
           "shape": ""
          }
         },
         "name": "Dimensity",
         "offsetgroup": "Dimensity",
         "orientation": "v",
         "showlegend": true,
         "text": [
          175
         ],
         "textposition": "auto",
         "type": "bar",
         "x": [
          "Dimensity"
         ],
         "xaxis": "x",
         "y": [
          175
         ],
         "yaxis": "y"
        },
        {
         "alignmentgroup": "True",
         "hovertemplate": "color=Exynos<br>x=%{x}<br>y=%{y}<br>text=%{text}<extra></extra>",
         "legendgroup": "Exynos",
         "marker": {
          "color": "rgb(166,189,219)",
          "pattern": {
           "shape": ""
          }
         },
         "name": "Exynos",
         "offsetgroup": "Exynos",
         "orientation": "v",
         "showlegend": true,
         "text": [
          45
         ],
         "textposition": "auto",
         "type": "bar",
         "x": [
          "Exynos"
         ],
         "xaxis": "x",
         "y": [
          45
         ],
         "yaxis": "y"
        },
        {
         "alignmentgroup": "True",
         "hovertemplate": "color=Bionic<br>x=%{x}<br>y=%{y}<br>text=%{text}<extra></extra>",
         "legendgroup": "Bionic",
         "marker": {
          "color": "rgb(103,169,207)",
          "pattern": {
           "shape": ""
          }
         },
         "name": "Bionic",
         "offsetgroup": "Bionic",
         "orientation": "v",
         "showlegend": true,
         "text": [
          38
         ],
         "textposition": "auto",
         "type": "bar",
         "x": [
          "Bionic"
         ],
         "xaxis": "x",
         "y": [
          38
         ],
         "yaxis": "y"
        },
        {
         "alignmentgroup": "True",
         "hovertemplate": "color=Tiger<br>x=%{x}<br>y=%{y}<br>text=%{text}<extra></extra>",
         "legendgroup": "Tiger",
         "marker": {
          "color": "rgb(54,144,192)",
          "pattern": {
           "shape": ""
          }
         },
         "name": "Tiger",
         "offsetgroup": "Tiger",
         "orientation": "v",
         "showlegend": true,
         "text": [
          20
         ],
         "textposition": "auto",
         "type": "bar",
         "x": [
          "Tiger"
         ],
         "xaxis": "x",
         "y": [
          20
         ],
         "yaxis": "y"
        },
        {
         "alignmentgroup": "True",
         "hovertemplate": "color=Unisoc<br>x=%{x}<br>y=%{y}<br>text=%{text}<extra></extra>",
         "legendgroup": "Unisoc",
         "marker": {
          "color": "rgb(2,129,138)",
          "pattern": {
           "shape": ""
          }
         },
         "name": "Unisoc",
         "offsetgroup": "Unisoc",
         "orientation": "v",
         "showlegend": true,
         "text": [
          17
         ],
         "textposition": "auto",
         "type": "bar",
         "x": [
          "Unisoc"
         ],
         "xaxis": "x",
         "y": [
          17
         ],
         "yaxis": "y"
        },
        {
         "alignmentgroup": "True",
         "hovertemplate": "color=Octa<br>x=%{x}<br>y=%{y}<br>text=%{text}<extra></extra>",
         "legendgroup": "Octa",
         "marker": {
          "color": "rgb(1,108,89)",
          "pattern": {
           "shape": ""
          }
         },
         "name": "Octa",
         "offsetgroup": "Octa",
         "orientation": "v",
         "showlegend": true,
         "text": [
          14
         ],
         "textposition": "auto",
         "type": "bar",
         "x": [
          "Octa"
         ],
         "xaxis": "x",
         "y": [
          14
         ],
         "yaxis": "y"
        },
        {
         "alignmentgroup": "True",
         "hovertemplate": "color=Google<br>x=%{x}<br>y=%{y}<br>text=%{text}<extra></extra>",
         "legendgroup": "Google",
         "marker": {
          "color": "rgb(1,70,54)",
          "pattern": {
           "shape": ""
          }
         },
         "name": "Google",
         "offsetgroup": "Google",
         "orientation": "v",
         "showlegend": true,
         "text": [
          7
         ],
         "textposition": "auto",
         "type": "bar",
         "x": [
          "Google"
         ],
         "xaxis": "x",
         "y": [
          7
         ],
         "yaxis": "y"
        },
        {
         "alignmentgroup": "True",
         "hovertemplate": "color=A13<br>x=%{x}<br>y=%{y}<br>text=%{text}<extra></extra>",
         "legendgroup": "A13",
         "marker": {
          "color": "rgb(255,247,251)",
          "pattern": {
           "shape": ""
          }
         },
         "name": "A13",
         "offsetgroup": "A13",
         "orientation": "v",
         "showlegend": true,
         "text": [
          5
         ],
         "textposition": "auto",
         "type": "bar",
         "x": [
          "A13"
         ],
         "xaxis": "x",
         "y": [
          5
         ],
         "yaxis": "y"
        },
        {
         "alignmentgroup": "True",
         "hovertemplate": "color=Quad<br>x=%{x}<br>y=%{y}<br>text=%{text}<extra></extra>",
         "legendgroup": "Quad",
         "marker": {
          "color": "rgb(236,226,240)",
          "pattern": {
           "shape": ""
          }
         },
         "name": "Quad",
         "offsetgroup": "Quad",
         "orientation": "v",
         "showlegend": true,
         "text": [
          3
         ],
         "textposition": "auto",
         "type": "bar",
         "x": [
          "Quad"
         ],
         "xaxis": "x",
         "y": [
          3
         ],
         "yaxis": "y"
        },
        {
         "alignmentgroup": "True",
         "hovertemplate": "color=Kirin<br>x=%{x}<br>y=%{y}<br>text=%{text}<extra></extra>",
         "legendgroup": "Kirin",
         "marker": {
          "color": "rgb(208,209,230)",
          "pattern": {
           "shape": ""
          }
         },
         "name": "Kirin",
         "offsetgroup": "Kirin",
         "orientation": "v",
         "showlegend": true,
         "text": [
          3
         ],
         "textposition": "auto",
         "type": "bar",
         "x": [
          "Kirin"
         ],
         "xaxis": "x",
         "y": [
          3
         ],
         "yaxis": "y"
        },
        {
         "alignmentgroup": "True",
         "hovertemplate": "color=SC9863A,<br>x=%{x}<br>y=%{y}<br>text=%{text}<extra></extra>",
         "legendgroup": "SC9863A,",
         "marker": {
          "color": "rgb(166,189,219)",
          "pattern": {
           "shape": ""
          }
         },
         "name": "SC9863A,",
         "offsetgroup": "SC9863A,",
         "orientation": "v",
         "showlegend": true,
         "text": [
          2
         ],
         "textposition": "auto",
         "type": "bar",
         "x": [
          "SC9863A,"
         ],
         "xaxis": "x",
         "y": [
          2
         ],
         "yaxis": "y"
        },
        {
         "alignmentgroup": "True",
         "hovertemplate": "color=Qualcomm<br>x=%{x}<br>y=%{y}<br>text=%{text}<extra></extra>",
         "legendgroup": "Qualcomm",
         "marker": {
          "color": "rgb(103,169,207)",
          "pattern": {
           "shape": ""
          }
         },
         "name": "Qualcomm",
         "offsetgroup": "Qualcomm",
         "orientation": "v",
         "showlegend": true,
         "text": [
          2
         ],
         "textposition": "auto",
         "type": "bar",
         "x": [
          "Qualcomm"
         ],
         "xaxis": "x",
         "y": [
          2
         ],
         "yaxis": "y"
        },
        {
         "alignmentgroup": "True",
         "hovertemplate": "color=Apple<br>x=%{x}<br>y=%{y}<br>text=%{text}<extra></extra>",
         "legendgroup": "Apple",
         "marker": {
          "color": "rgb(54,144,192)",
          "pattern": {
           "shape": ""
          }
         },
         "name": "Apple",
         "offsetgroup": "Apple",
         "orientation": "v",
         "showlegend": true,
         "text": [
          1
         ],
         "textposition": "auto",
         "type": "bar",
         "x": [
          "Apple"
         ],
         "xaxis": "x",
         "y": [
          1
         ],
         "yaxis": "y"
        },
        {
         "alignmentgroup": "True",
         "hovertemplate": "color=Sanpdragon<br>x=%{x}<br>y=%{y}<br>text=%{text}<extra></extra>",
         "legendgroup": "Sanpdragon",
         "marker": {
          "color": "rgb(2,129,138)",
          "pattern": {
           "shape": ""
          }
         },
         "name": "Sanpdragon",
         "offsetgroup": "Sanpdragon",
         "orientation": "v",
         "showlegend": true,
         "text": [
          1
         ],
         "textposition": "auto",
         "type": "bar",
         "x": [
          "Sanpdragon"
         ],
         "xaxis": "x",
         "y": [
          1
         ],
         "yaxis": "y"
        },
        {
         "alignmentgroup": "True",
         "hovertemplate": "color=Samsung<br>x=%{x}<br>y=%{y}<br>text=%{text}<extra></extra>",
         "legendgroup": "Samsung",
         "marker": {
          "color": "rgb(1,108,89)",
          "pattern": {
           "shape": ""
          }
         },
         "name": "Samsung",
         "offsetgroup": "Samsung",
         "orientation": "v",
         "showlegend": true,
         "text": [
          1
         ],
         "textposition": "auto",
         "type": "bar",
         "x": [
          "Samsung"
         ],
         "xaxis": "x",
         "y": [
          1
         ],
         "yaxis": "y"
        }
       ],
       "layout": {
        "barmode": "relative",
        "font": {
         "family": "Franklin Gothic",
         "size": 17
        },
        "height": 500,
        "legend": {
         "title": {
          "text": "color"
         },
         "tracegroupgap": 0
        },
        "template": {
         "data": {
          "bar": [
           {
            "error_x": {
             "color": "#f2f5fa"
            },
            "error_y": {
             "color": "#f2f5fa"
            },
            "marker": {
             "line": {
              "color": "rgb(17,17,17)",
              "width": 0.5
             },
             "pattern": {
              "fillmode": "overlay",
              "size": 10,
              "solidity": 0.2
             }
            },
            "type": "bar"
           }
          ],
          "barpolar": [
           {
            "marker": {
             "line": {
              "color": "rgb(17,17,17)",
              "width": 0.5
             },
             "pattern": {
              "fillmode": "overlay",
              "size": 10,
              "solidity": 0.2
             }
            },
            "type": "barpolar"
           }
          ],
          "carpet": [
           {
            "aaxis": {
             "endlinecolor": "#A2B1C6",
             "gridcolor": "#506784",
             "linecolor": "#506784",
             "minorgridcolor": "#506784",
             "startlinecolor": "#A2B1C6"
            },
            "baxis": {
             "endlinecolor": "#A2B1C6",
             "gridcolor": "#506784",
             "linecolor": "#506784",
             "minorgridcolor": "#506784",
             "startlinecolor": "#A2B1C6"
            },
            "type": "carpet"
           }
          ],
          "choropleth": [
           {
            "colorbar": {
             "outlinewidth": 0,
             "ticks": ""
            },
            "type": "choropleth"
           }
          ],
          "contour": [
           {
            "colorbar": {
             "outlinewidth": 0,
             "ticks": ""
            },
            "colorscale": [
             [
              0,
              "#0d0887"
             ],
             [
              0.1111111111111111,
              "#46039f"
             ],
             [
              0.2222222222222222,
              "#7201a8"
             ],
             [
              0.3333333333333333,
              "#9c179e"
             ],
             [
              0.4444444444444444,
              "#bd3786"
             ],
             [
              0.5555555555555556,
              "#d8576b"
             ],
             [
              0.6666666666666666,
              "#ed7953"
             ],
             [
              0.7777777777777778,
              "#fb9f3a"
             ],
             [
              0.8888888888888888,
              "#fdca26"
             ],
             [
              1,
              "#f0f921"
             ]
            ],
            "type": "contour"
           }
          ],
          "contourcarpet": [
           {
            "colorbar": {
             "outlinewidth": 0,
             "ticks": ""
            },
            "type": "contourcarpet"
           }
          ],
          "heatmap": [
           {
            "colorbar": {
             "outlinewidth": 0,
             "ticks": ""
            },
            "colorscale": [
             [
              0,
              "#0d0887"
             ],
             [
              0.1111111111111111,
              "#46039f"
             ],
             [
              0.2222222222222222,
              "#7201a8"
             ],
             [
              0.3333333333333333,
              "#9c179e"
             ],
             [
              0.4444444444444444,
              "#bd3786"
             ],
             [
              0.5555555555555556,
              "#d8576b"
             ],
             [
              0.6666666666666666,
              "#ed7953"
             ],
             [
              0.7777777777777778,
              "#fb9f3a"
             ],
             [
              0.8888888888888888,
              "#fdca26"
             ],
             [
              1,
              "#f0f921"
             ]
            ],
            "type": "heatmap"
           }
          ],
          "heatmapgl": [
           {
            "colorbar": {
             "outlinewidth": 0,
             "ticks": ""
            },
            "colorscale": [
             [
              0,
              "#0d0887"
             ],
             [
              0.1111111111111111,
              "#46039f"
             ],
             [
              0.2222222222222222,
              "#7201a8"
             ],
             [
              0.3333333333333333,
              "#9c179e"
             ],
             [
              0.4444444444444444,
              "#bd3786"
             ],
             [
              0.5555555555555556,
              "#d8576b"
             ],
             [
              0.6666666666666666,
              "#ed7953"
             ],
             [
              0.7777777777777778,
              "#fb9f3a"
             ],
             [
              0.8888888888888888,
              "#fdca26"
             ],
             [
              1,
              "#f0f921"
             ]
            ],
            "type": "heatmapgl"
           }
          ],
          "histogram": [
           {
            "marker": {
             "pattern": {
              "fillmode": "overlay",
              "size": 10,
              "solidity": 0.2
             }
            },
            "type": "histogram"
           }
          ],
          "histogram2d": [
           {
            "colorbar": {
             "outlinewidth": 0,
             "ticks": ""
            },
            "colorscale": [
             [
              0,
              "#0d0887"
             ],
             [
              0.1111111111111111,
              "#46039f"
             ],
             [
              0.2222222222222222,
              "#7201a8"
             ],
             [
              0.3333333333333333,
              "#9c179e"
             ],
             [
              0.4444444444444444,
              "#bd3786"
             ],
             [
              0.5555555555555556,
              "#d8576b"
             ],
             [
              0.6666666666666666,
              "#ed7953"
             ],
             [
              0.7777777777777778,
              "#fb9f3a"
             ],
             [
              0.8888888888888888,
              "#fdca26"
             ],
             [
              1,
              "#f0f921"
             ]
            ],
            "type": "histogram2d"
           }
          ],
          "histogram2dcontour": [
           {
            "colorbar": {
             "outlinewidth": 0,
             "ticks": ""
            },
            "colorscale": [
             [
              0,
              "#0d0887"
             ],
             [
              0.1111111111111111,
              "#46039f"
             ],
             [
              0.2222222222222222,
              "#7201a8"
             ],
             [
              0.3333333333333333,
              "#9c179e"
             ],
             [
              0.4444444444444444,
              "#bd3786"
             ],
             [
              0.5555555555555556,
              "#d8576b"
             ],
             [
              0.6666666666666666,
              "#ed7953"
             ],
             [
              0.7777777777777778,
              "#fb9f3a"
             ],
             [
              0.8888888888888888,
              "#fdca26"
             ],
             [
              1,
              "#f0f921"
             ]
            ],
            "type": "histogram2dcontour"
           }
          ],
          "mesh3d": [
           {
            "colorbar": {
             "outlinewidth": 0,
             "ticks": ""
            },
            "type": "mesh3d"
           }
          ],
          "parcoords": [
           {
            "line": {
             "colorbar": {
              "outlinewidth": 0,
              "ticks": ""
             }
            },
            "type": "parcoords"
           }
          ],
          "pie": [
           {
            "automargin": true,
            "type": "pie"
           }
          ],
          "scatter": [
           {
            "marker": {
             "line": {
              "color": "#283442"
             }
            },
            "type": "scatter"
           }
          ],
          "scatter3d": [
           {
            "line": {
             "colorbar": {
              "outlinewidth": 0,
              "ticks": ""
             }
            },
            "marker": {
             "colorbar": {
              "outlinewidth": 0,
              "ticks": ""
             }
            },
            "type": "scatter3d"
           }
          ],
          "scattercarpet": [
           {
            "marker": {
             "colorbar": {
              "outlinewidth": 0,
              "ticks": ""
             }
            },
            "type": "scattercarpet"
           }
          ],
          "scattergeo": [
           {
            "marker": {
             "colorbar": {
              "outlinewidth": 0,
              "ticks": ""
             }
            },
            "type": "scattergeo"
           }
          ],
          "scattergl": [
           {
            "marker": {
             "line": {
              "color": "#283442"
             }
            },
            "type": "scattergl"
           }
          ],
          "scattermapbox": [
           {
            "marker": {
             "colorbar": {
              "outlinewidth": 0,
              "ticks": ""
             }
            },
            "type": "scattermapbox"
           }
          ],
          "scatterpolar": [
           {
            "marker": {
             "colorbar": {
              "outlinewidth": 0,
              "ticks": ""
             }
            },
            "type": "scatterpolar"
           }
          ],
          "scatterpolargl": [
           {
            "marker": {
             "colorbar": {
              "outlinewidth": 0,
              "ticks": ""
             }
            },
            "type": "scatterpolargl"
           }
          ],
          "scatterternary": [
           {
            "marker": {
             "colorbar": {
              "outlinewidth": 0,
              "ticks": ""
             }
            },
            "type": "scatterternary"
           }
          ],
          "surface": [
           {
            "colorbar": {
             "outlinewidth": 0,
             "ticks": ""
            },
            "colorscale": [
             [
              0,
              "#0d0887"
             ],
             [
              0.1111111111111111,
              "#46039f"
             ],
             [
              0.2222222222222222,
              "#7201a8"
             ],
             [
              0.3333333333333333,
              "#9c179e"
             ],
             [
              0.4444444444444444,
              "#bd3786"
             ],
             [
              0.5555555555555556,
              "#d8576b"
             ],
             [
              0.6666666666666666,
              "#ed7953"
             ],
             [
              0.7777777777777778,
              "#fb9f3a"
             ],
             [
              0.8888888888888888,
              "#fdca26"
             ],
             [
              1,
              "#f0f921"
             ]
            ],
            "type": "surface"
           }
          ],
          "table": [
           {
            "cells": {
             "fill": {
              "color": "#506784"
             },
             "line": {
              "color": "rgb(17,17,17)"
             }
            },
            "header": {
             "fill": {
              "color": "#2a3f5f"
             },
             "line": {
              "color": "rgb(17,17,17)"
             }
            },
            "type": "table"
           }
          ]
         },
         "layout": {
          "annotationdefaults": {
           "arrowcolor": "#f2f5fa",
           "arrowhead": 0,
           "arrowwidth": 1
          },
          "autotypenumbers": "strict",
          "coloraxis": {
           "colorbar": {
            "outlinewidth": 0,
            "ticks": ""
           }
          },
          "colorscale": {
           "diverging": [
            [
             0,
             "#8e0152"
            ],
            [
             0.1,
             "#c51b7d"
            ],
            [
             0.2,
             "#de77ae"
            ],
            [
             0.3,
             "#f1b6da"
            ],
            [
             0.4,
             "#fde0ef"
            ],
            [
             0.5,
             "#f7f7f7"
            ],
            [
             0.6,
             "#e6f5d0"
            ],
            [
             0.7,
             "#b8e186"
            ],
            [
             0.8,
             "#7fbc41"
            ],
            [
             0.9,
             "#4d9221"
            ],
            [
             1,
             "#276419"
            ]
           ],
           "sequential": [
            [
             0,
             "#0d0887"
            ],
            [
             0.1111111111111111,
             "#46039f"
            ],
            [
             0.2222222222222222,
             "#7201a8"
            ],
            [
             0.3333333333333333,
             "#9c179e"
            ],
            [
             0.4444444444444444,
             "#bd3786"
            ],
            [
             0.5555555555555556,
             "#d8576b"
            ],
            [
             0.6666666666666666,
             "#ed7953"
            ],
            [
             0.7777777777777778,
             "#fb9f3a"
            ],
            [
             0.8888888888888888,
             "#fdca26"
            ],
            [
             1,
             "#f0f921"
            ]
           ],
           "sequentialminus": [
            [
             0,
             "#0d0887"
            ],
            [
             0.1111111111111111,
             "#46039f"
            ],
            [
             0.2222222222222222,
             "#7201a8"
            ],
            [
             0.3333333333333333,
             "#9c179e"
            ],
            [
             0.4444444444444444,
             "#bd3786"
            ],
            [
             0.5555555555555556,
             "#d8576b"
            ],
            [
             0.6666666666666666,
             "#ed7953"
            ],
            [
             0.7777777777777778,
             "#fb9f3a"
            ],
            [
             0.8888888888888888,
             "#fdca26"
            ],
            [
             1,
             "#f0f921"
            ]
           ]
          },
          "colorway": [
           "#636efa",
           "#EF553B",
           "#00cc96",
           "#ab63fa",
           "#FFA15A",
           "#19d3f3",
           "#FF6692",
           "#B6E880",
           "#FF97FF",
           "#FECB52"
          ],
          "font": {
           "color": "#f2f5fa"
          },
          "geo": {
           "bgcolor": "rgb(17,17,17)",
           "lakecolor": "rgb(17,17,17)",
           "landcolor": "rgb(17,17,17)",
           "showlakes": true,
           "showland": true,
           "subunitcolor": "#506784"
          },
          "hoverlabel": {
           "align": "left"
          },
          "hovermode": "closest",
          "mapbox": {
           "style": "dark"
          },
          "paper_bgcolor": "rgb(17,17,17)",
          "plot_bgcolor": "rgb(17,17,17)",
          "polar": {
           "angularaxis": {
            "gridcolor": "#506784",
            "linecolor": "#506784",
            "ticks": ""
           },
           "bgcolor": "rgb(17,17,17)",
           "radialaxis": {
            "gridcolor": "#506784",
            "linecolor": "#506784",
            "ticks": ""
           }
          },
          "scene": {
           "xaxis": {
            "backgroundcolor": "rgb(17,17,17)",
            "gridcolor": "#506784",
            "gridwidth": 2,
            "linecolor": "#506784",
            "showbackground": true,
            "ticks": "",
            "zerolinecolor": "#C8D4E3"
           },
           "yaxis": {
            "backgroundcolor": "rgb(17,17,17)",
            "gridcolor": "#506784",
            "gridwidth": 2,
            "linecolor": "#506784",
            "showbackground": true,
            "ticks": "",
            "zerolinecolor": "#C8D4E3"
           },
           "zaxis": {
            "backgroundcolor": "rgb(17,17,17)",
            "gridcolor": "#506784",
            "gridwidth": 2,
            "linecolor": "#506784",
            "showbackground": true,
            "ticks": "",
            "zerolinecolor": "#C8D4E3"
           }
          },
          "shapedefaults": {
           "line": {
            "color": "#f2f5fa"
           }
          },
          "sliderdefaults": {
           "bgcolor": "#C8D4E3",
           "bordercolor": "rgb(17,17,17)",
           "borderwidth": 1,
           "tickwidth": 0
          },
          "ternary": {
           "aaxis": {
            "gridcolor": "#506784",
            "linecolor": "#506784",
            "ticks": ""
           },
           "baxis": {
            "gridcolor": "#506784",
            "linecolor": "#506784",
            "ticks": ""
           },
           "bgcolor": "rgb(17,17,17)",
           "caxis": {
            "gridcolor": "#506784",
            "linecolor": "#506784",
            "ticks": ""
           }
          },
          "title": {
           "x": 0.05
          },
          "updatemenudefaults": {
           "bgcolor": "#506784",
           "borderwidth": 0
          },
          "xaxis": {
           "automargin": true,
           "gridcolor": "#283442",
           "linecolor": "#506784",
           "ticks": "",
           "title": {
            "standoff": 15
           },
           "zerolinecolor": "#283442",
           "zerolinewidth": 2
          },
          "yaxis": {
           "automargin": true,
           "gridcolor": "#283442",
           "linecolor": "#506784",
           "ticks": "",
           "title": {
            "standoff": 15
           },
           "zerolinecolor": "#283442",
           "zerolinewidth": 2
          }
         }
        },
        "title": {
         "text": "Processor distribution"
        },
        "width": 1500,
        "xaxis": {
         "anchor": "y",
         "domain": [
          0,
          1
         ],
         "title": {
          "text": "Processor"
         }
        },
        "yaxis": {
         "anchor": "x",
         "domain": [
          0,
          1
         ],
         "title": {
          "text": "count"
         }
        }
       }
      }
     },
     "metadata": {},
     "output_type": "display_data"
    }
   ],
   "source": [
    "Processor = df['processor'].value_counts()\n",
    "fig = px.bar(y=Processor.values, \n",
    "             x=Processor.index, \n",
    "             color = Processor.index,\n",
    "             color_discrete_sequence=px.colors.sequential.PuBuGn,\n",
    "             text=Processor.values,\n",
    "             title= 'Processor distribution',\n",
    "             template= 'plotly_dark',\n",
    "             width=1500, height=500)\n",
    "fig.update_layout(\n",
    "    xaxis_title=\"Processor\",\n",
    "    yaxis_title=\"count\",\n",
    "    font = dict(size=17,family=\"Franklin Gothic\"))\n",
    "\n",
    "fig.show()"
   ]
  },
  {
   "cell_type": "code",
   "execution_count": 36,
   "metadata": {},
   "outputs": [
    {
     "data": {
      "application/vnd.plotly.v1+json": {
       "config": {
        "plotlyServerURL": "https://plot.ly"
       },
       "data": [
        {
         "alignmentgroup": "True",
         "hovertemplate": "x=%{x}<br>y=%{y}<br>text=%{text}<br>color=%{marker.color}<extra></extra>",
         "legendgroup": "",
         "marker": {
          "color": [
           84,
           82,
           83,
           75,
           85,
           80,
           86,
           79,
           77,
           78,
           81,
           89,
           87,
           74,
           76,
           88,
           71,
           72,
           69,
           73,
           66,
           61,
           65,
           70,
           68,
           67,
           60,
           62,
           64,
           63
          ],
          "coloraxis": "coloraxis",
          "pattern": {
           "shape": ""
          }
         },
         "name": "",
         "offsetgroup": "",
         "orientation": "v",
         "showlegend": false,
         "text": [
          60,
          58,
          55,
          53,
          50,
          49,
          47,
          45,
          38,
          36,
          35,
          35,
          33,
          30,
          29,
          26,
          21,
          18,
          18,
          16,
          15,
          15,
          14,
          14,
          13,
          13,
          12,
          11,
          10,
          10
         ],
         "textposition": "auto",
         "type": "bar",
         "x": [
          84,
          82,
          83,
          75,
          85,
          80,
          86,
          79,
          77,
          78,
          81,
          89,
          87,
          74,
          76,
          88,
          71,
          72,
          69,
          73,
          66,
          61,
          65,
          70,
          68,
          67,
          60,
          62,
          64,
          63
         ],
         "xaxis": "x",
         "y": [
          60,
          58,
          55,
          53,
          50,
          49,
          47,
          45,
          38,
          36,
          35,
          35,
          33,
          30,
          29,
          26,
          21,
          18,
          18,
          16,
          15,
          15,
          14,
          14,
          13,
          13,
          12,
          11,
          10,
          10
         ],
         "yaxis": "y"
        }
       ],
       "layout": {
        "barmode": "relative",
        "coloraxis": {
         "colorbar": {
          "title": {
           "text": "color"
          }
         },
         "colorscale": [
          [
           0,
           "#0d0887"
          ],
          [
           0.1111111111111111,
           "#46039f"
          ],
          [
           0.2222222222222222,
           "#7201a8"
          ],
          [
           0.3333333333333333,
           "#9c179e"
          ],
          [
           0.4444444444444444,
           "#bd3786"
          ],
          [
           0.5555555555555556,
           "#d8576b"
          ],
          [
           0.6666666666666666,
           "#ed7953"
          ],
          [
           0.7777777777777778,
           "#fb9f3a"
          ],
          [
           0.8888888888888888,
           "#fdca26"
          ],
          [
           1,
           "#f0f921"
          ]
         ]
        },
        "font": {
         "family": "Franklin Gothic",
         "size": 17
        },
        "height": 500,
        "legend": {
         "tracegroupgap": 0
        },
        "template": {
         "data": {
          "bar": [
           {
            "error_x": {
             "color": "#f2f5fa"
            },
            "error_y": {
             "color": "#f2f5fa"
            },
            "marker": {
             "line": {
              "color": "rgb(17,17,17)",
              "width": 0.5
             },
             "pattern": {
              "fillmode": "overlay",
              "size": 10,
              "solidity": 0.2
             }
            },
            "type": "bar"
           }
          ],
          "barpolar": [
           {
            "marker": {
             "line": {
              "color": "rgb(17,17,17)",
              "width": 0.5
             },
             "pattern": {
              "fillmode": "overlay",
              "size": 10,
              "solidity": 0.2
             }
            },
            "type": "barpolar"
           }
          ],
          "carpet": [
           {
            "aaxis": {
             "endlinecolor": "#A2B1C6",
             "gridcolor": "#506784",
             "linecolor": "#506784",
             "minorgridcolor": "#506784",
             "startlinecolor": "#A2B1C6"
            },
            "baxis": {
             "endlinecolor": "#A2B1C6",
             "gridcolor": "#506784",
             "linecolor": "#506784",
             "minorgridcolor": "#506784",
             "startlinecolor": "#A2B1C6"
            },
            "type": "carpet"
           }
          ],
          "choropleth": [
           {
            "colorbar": {
             "outlinewidth": 0,
             "ticks": ""
            },
            "type": "choropleth"
           }
          ],
          "contour": [
           {
            "colorbar": {
             "outlinewidth": 0,
             "ticks": ""
            },
            "colorscale": [
             [
              0,
              "#0d0887"
             ],
             [
              0.1111111111111111,
              "#46039f"
             ],
             [
              0.2222222222222222,
              "#7201a8"
             ],
             [
              0.3333333333333333,
              "#9c179e"
             ],
             [
              0.4444444444444444,
              "#bd3786"
             ],
             [
              0.5555555555555556,
              "#d8576b"
             ],
             [
              0.6666666666666666,
              "#ed7953"
             ],
             [
              0.7777777777777778,
              "#fb9f3a"
             ],
             [
              0.8888888888888888,
              "#fdca26"
             ],
             [
              1,
              "#f0f921"
             ]
            ],
            "type": "contour"
           }
          ],
          "contourcarpet": [
           {
            "colorbar": {
             "outlinewidth": 0,
             "ticks": ""
            },
            "type": "contourcarpet"
           }
          ],
          "heatmap": [
           {
            "colorbar": {
             "outlinewidth": 0,
             "ticks": ""
            },
            "colorscale": [
             [
              0,
              "#0d0887"
             ],
             [
              0.1111111111111111,
              "#46039f"
             ],
             [
              0.2222222222222222,
              "#7201a8"
             ],
             [
              0.3333333333333333,
              "#9c179e"
             ],
             [
              0.4444444444444444,
              "#bd3786"
             ],
             [
              0.5555555555555556,
              "#d8576b"
             ],
             [
              0.6666666666666666,
              "#ed7953"
             ],
             [
              0.7777777777777778,
              "#fb9f3a"
             ],
             [
              0.8888888888888888,
              "#fdca26"
             ],
             [
              1,
              "#f0f921"
             ]
            ],
            "type": "heatmap"
           }
          ],
          "heatmapgl": [
           {
            "colorbar": {
             "outlinewidth": 0,
             "ticks": ""
            },
            "colorscale": [
             [
              0,
              "#0d0887"
             ],
             [
              0.1111111111111111,
              "#46039f"
             ],
             [
              0.2222222222222222,
              "#7201a8"
             ],
             [
              0.3333333333333333,
              "#9c179e"
             ],
             [
              0.4444444444444444,
              "#bd3786"
             ],
             [
              0.5555555555555556,
              "#d8576b"
             ],
             [
              0.6666666666666666,
              "#ed7953"
             ],
             [
              0.7777777777777778,
              "#fb9f3a"
             ],
             [
              0.8888888888888888,
              "#fdca26"
             ],
             [
              1,
              "#f0f921"
             ]
            ],
            "type": "heatmapgl"
           }
          ],
          "histogram": [
           {
            "marker": {
             "pattern": {
              "fillmode": "overlay",
              "size": 10,
              "solidity": 0.2
             }
            },
            "type": "histogram"
           }
          ],
          "histogram2d": [
           {
            "colorbar": {
             "outlinewidth": 0,
             "ticks": ""
            },
            "colorscale": [
             [
              0,
              "#0d0887"
             ],
             [
              0.1111111111111111,
              "#46039f"
             ],
             [
              0.2222222222222222,
              "#7201a8"
             ],
             [
              0.3333333333333333,
              "#9c179e"
             ],
             [
              0.4444444444444444,
              "#bd3786"
             ],
             [
              0.5555555555555556,
              "#d8576b"
             ],
             [
              0.6666666666666666,
              "#ed7953"
             ],
             [
              0.7777777777777778,
              "#fb9f3a"
             ],
             [
              0.8888888888888888,
              "#fdca26"
             ],
             [
              1,
              "#f0f921"
             ]
            ],
            "type": "histogram2d"
           }
          ],
          "histogram2dcontour": [
           {
            "colorbar": {
             "outlinewidth": 0,
             "ticks": ""
            },
            "colorscale": [
             [
              0,
              "#0d0887"
             ],
             [
              0.1111111111111111,
              "#46039f"
             ],
             [
              0.2222222222222222,
              "#7201a8"
             ],
             [
              0.3333333333333333,
              "#9c179e"
             ],
             [
              0.4444444444444444,
              "#bd3786"
             ],
             [
              0.5555555555555556,
              "#d8576b"
             ],
             [
              0.6666666666666666,
              "#ed7953"
             ],
             [
              0.7777777777777778,
              "#fb9f3a"
             ],
             [
              0.8888888888888888,
              "#fdca26"
             ],
             [
              1,
              "#f0f921"
             ]
            ],
            "type": "histogram2dcontour"
           }
          ],
          "mesh3d": [
           {
            "colorbar": {
             "outlinewidth": 0,
             "ticks": ""
            },
            "type": "mesh3d"
           }
          ],
          "parcoords": [
           {
            "line": {
             "colorbar": {
              "outlinewidth": 0,
              "ticks": ""
             }
            },
            "type": "parcoords"
           }
          ],
          "pie": [
           {
            "automargin": true,
            "type": "pie"
           }
          ],
          "scatter": [
           {
            "marker": {
             "line": {
              "color": "#283442"
             }
            },
            "type": "scatter"
           }
          ],
          "scatter3d": [
           {
            "line": {
             "colorbar": {
              "outlinewidth": 0,
              "ticks": ""
             }
            },
            "marker": {
             "colorbar": {
              "outlinewidth": 0,
              "ticks": ""
             }
            },
            "type": "scatter3d"
           }
          ],
          "scattercarpet": [
           {
            "marker": {
             "colorbar": {
              "outlinewidth": 0,
              "ticks": ""
             }
            },
            "type": "scattercarpet"
           }
          ],
          "scattergeo": [
           {
            "marker": {
             "colorbar": {
              "outlinewidth": 0,
              "ticks": ""
             }
            },
            "type": "scattergeo"
           }
          ],
          "scattergl": [
           {
            "marker": {
             "line": {
              "color": "#283442"
             }
            },
            "type": "scattergl"
           }
          ],
          "scattermapbox": [
           {
            "marker": {
             "colorbar": {
              "outlinewidth": 0,
              "ticks": ""
             }
            },
            "type": "scattermapbox"
           }
          ],
          "scatterpolar": [
           {
            "marker": {
             "colorbar": {
              "outlinewidth": 0,
              "ticks": ""
             }
            },
            "type": "scatterpolar"
           }
          ],
          "scatterpolargl": [
           {
            "marker": {
             "colorbar": {
              "outlinewidth": 0,
              "ticks": ""
             }
            },
            "type": "scatterpolargl"
           }
          ],
          "scatterternary": [
           {
            "marker": {
             "colorbar": {
              "outlinewidth": 0,
              "ticks": ""
             }
            },
            "type": "scatterternary"
           }
          ],
          "surface": [
           {
            "colorbar": {
             "outlinewidth": 0,
             "ticks": ""
            },
            "colorscale": [
             [
              0,
              "#0d0887"
             ],
             [
              0.1111111111111111,
              "#46039f"
             ],
             [
              0.2222222222222222,
              "#7201a8"
             ],
             [
              0.3333333333333333,
              "#9c179e"
             ],
             [
              0.4444444444444444,
              "#bd3786"
             ],
             [
              0.5555555555555556,
              "#d8576b"
             ],
             [
              0.6666666666666666,
              "#ed7953"
             ],
             [
              0.7777777777777778,
              "#fb9f3a"
             ],
             [
              0.8888888888888888,
              "#fdca26"
             ],
             [
              1,
              "#f0f921"
             ]
            ],
            "type": "surface"
           }
          ],
          "table": [
           {
            "cells": {
             "fill": {
              "color": "#506784"
             },
             "line": {
              "color": "rgb(17,17,17)"
             }
            },
            "header": {
             "fill": {
              "color": "#2a3f5f"
             },
             "line": {
              "color": "rgb(17,17,17)"
             }
            },
            "type": "table"
           }
          ]
         },
         "layout": {
          "annotationdefaults": {
           "arrowcolor": "#f2f5fa",
           "arrowhead": 0,
           "arrowwidth": 1
          },
          "autotypenumbers": "strict",
          "coloraxis": {
           "colorbar": {
            "outlinewidth": 0,
            "ticks": ""
           }
          },
          "colorscale": {
           "diverging": [
            [
             0,
             "#8e0152"
            ],
            [
             0.1,
             "#c51b7d"
            ],
            [
             0.2,
             "#de77ae"
            ],
            [
             0.3,
             "#f1b6da"
            ],
            [
             0.4,
             "#fde0ef"
            ],
            [
             0.5,
             "#f7f7f7"
            ],
            [
             0.6,
             "#e6f5d0"
            ],
            [
             0.7,
             "#b8e186"
            ],
            [
             0.8,
             "#7fbc41"
            ],
            [
             0.9,
             "#4d9221"
            ],
            [
             1,
             "#276419"
            ]
           ],
           "sequential": [
            [
             0,
             "#0d0887"
            ],
            [
             0.1111111111111111,
             "#46039f"
            ],
            [
             0.2222222222222222,
             "#7201a8"
            ],
            [
             0.3333333333333333,
             "#9c179e"
            ],
            [
             0.4444444444444444,
             "#bd3786"
            ],
            [
             0.5555555555555556,
             "#d8576b"
            ],
            [
             0.6666666666666666,
             "#ed7953"
            ],
            [
             0.7777777777777778,
             "#fb9f3a"
            ],
            [
             0.8888888888888888,
             "#fdca26"
            ],
            [
             1,
             "#f0f921"
            ]
           ],
           "sequentialminus": [
            [
             0,
             "#0d0887"
            ],
            [
             0.1111111111111111,
             "#46039f"
            ],
            [
             0.2222222222222222,
             "#7201a8"
            ],
            [
             0.3333333333333333,
             "#9c179e"
            ],
            [
             0.4444444444444444,
             "#bd3786"
            ],
            [
             0.5555555555555556,
             "#d8576b"
            ],
            [
             0.6666666666666666,
             "#ed7953"
            ],
            [
             0.7777777777777778,
             "#fb9f3a"
            ],
            [
             0.8888888888888888,
             "#fdca26"
            ],
            [
             1,
             "#f0f921"
            ]
           ]
          },
          "colorway": [
           "#636efa",
           "#EF553B",
           "#00cc96",
           "#ab63fa",
           "#FFA15A",
           "#19d3f3",
           "#FF6692",
           "#B6E880",
           "#FF97FF",
           "#FECB52"
          ],
          "font": {
           "color": "#f2f5fa"
          },
          "geo": {
           "bgcolor": "rgb(17,17,17)",
           "lakecolor": "rgb(17,17,17)",
           "landcolor": "rgb(17,17,17)",
           "showlakes": true,
           "showland": true,
           "subunitcolor": "#506784"
          },
          "hoverlabel": {
           "align": "left"
          },
          "hovermode": "closest",
          "mapbox": {
           "style": "dark"
          },
          "paper_bgcolor": "rgb(17,17,17)",
          "plot_bgcolor": "rgb(17,17,17)",
          "polar": {
           "angularaxis": {
            "gridcolor": "#506784",
            "linecolor": "#506784",
            "ticks": ""
           },
           "bgcolor": "rgb(17,17,17)",
           "radialaxis": {
            "gridcolor": "#506784",
            "linecolor": "#506784",
            "ticks": ""
           }
          },
          "scene": {
           "xaxis": {
            "backgroundcolor": "rgb(17,17,17)",
            "gridcolor": "#506784",
            "gridwidth": 2,
            "linecolor": "#506784",
            "showbackground": true,
            "ticks": "",
            "zerolinecolor": "#C8D4E3"
           },
           "yaxis": {
            "backgroundcolor": "rgb(17,17,17)",
            "gridcolor": "#506784",
            "gridwidth": 2,
            "linecolor": "#506784",
            "showbackground": true,
            "ticks": "",
            "zerolinecolor": "#C8D4E3"
           },
           "zaxis": {
            "backgroundcolor": "rgb(17,17,17)",
            "gridcolor": "#506784",
            "gridwidth": 2,
            "linecolor": "#506784",
            "showbackground": true,
            "ticks": "",
            "zerolinecolor": "#C8D4E3"
           }
          },
          "shapedefaults": {
           "line": {
            "color": "#f2f5fa"
           }
          },
          "sliderdefaults": {
           "bgcolor": "#C8D4E3",
           "bordercolor": "rgb(17,17,17)",
           "borderwidth": 1,
           "tickwidth": 0
          },
          "ternary": {
           "aaxis": {
            "gridcolor": "#506784",
            "linecolor": "#506784",
            "ticks": ""
           },
           "baxis": {
            "gridcolor": "#506784",
            "linecolor": "#506784",
            "ticks": ""
           },
           "bgcolor": "rgb(17,17,17)",
           "caxis": {
            "gridcolor": "#506784",
            "linecolor": "#506784",
            "ticks": ""
           }
          },
          "title": {
           "x": 0.05
          },
          "updatemenudefaults": {
           "bgcolor": "#506784",
           "borderwidth": 0
          },
          "xaxis": {
           "automargin": true,
           "gridcolor": "#283442",
           "linecolor": "#506784",
           "ticks": "",
           "title": {
            "standoff": 15
           },
           "zerolinecolor": "#283442",
           "zerolinewidth": 2
          },
          "yaxis": {
           "automargin": true,
           "gridcolor": "#283442",
           "linecolor": "#506784",
           "ticks": "",
           "title": {
            "standoff": 15
           },
           "zerolinecolor": "#283442",
           "zerolinewidth": 2
          }
         }
        },
        "title": {
         "text": "Rating distribution"
        },
        "width": 1500,
        "xaxis": {
         "anchor": "y",
         "domain": [
          0,
          1
         ],
         "title": {
          "text": "Rating"
         }
        },
        "yaxis": {
         "anchor": "x",
         "domain": [
          0,
          1
         ],
         "title": {
          "text": "count"
         }
        }
       }
      }
     },
     "metadata": {},
     "output_type": "display_data"
    }
   ],
   "source": [
    "Rating = df['rating'].value_counts()\n",
    "fig = px.bar(y=Rating.values, \n",
    "             x=Rating.index, \n",
    "             color = Rating.index,\n",
    "             color_discrete_sequence=px.colors.sequential.PuBuGn,\n",
    "             text=Rating.values,\n",
    "             title= 'Rating distribution',\n",
    "             template= 'plotly_dark',\n",
    "             width=1500, height=500)\n",
    "fig.update_layout(\n",
    "    xaxis_title=\"Rating\",\n",
    "    yaxis_title=\"count\",\n",
    "    font = dict(size=17,family=\"Franklin Gothic\"))\n",
    "fig.show()"
   ]
  },
  {
   "cell_type": "code",
   "execution_count": 37,
   "metadata": {},
   "outputs": [
    {
     "data": {
      "application/vnd.plotly.v1+json": {
       "config": {
        "plotlyServerURL": "https://plot.ly"
       },
       "data": [
        {
         "alignmentgroup": "True",
         "hovertemplate": "company=%{x}<br>price=%{y}<extra></extra>",
         "legendgroup": "OnePlus",
         "marker": {
          "color": "darkred"
         },
         "name": "OnePlus",
         "notched": false,
         "offsetgroup": "OnePlus",
         "orientation": "v",
         "showlegend": true,
         "type": "box",
         "x": [
          "OnePlus",
          "OnePlus",
          "OnePlus",
          "OnePlus",
          "OnePlus",
          "OnePlus",
          "OnePlus",
          "OnePlus",
          "OnePlus",
          "OnePlus",
          "OnePlus",
          "OnePlus",
          "OnePlus",
          "OnePlus",
          "OnePlus",
          "OnePlus",
          "OnePlus",
          "OnePlus",
          "OnePlus",
          "OnePlus",
          "OnePlus",
          "OnePlus",
          "OnePlus",
          "OnePlus",
          "OnePlus",
          "OnePlus",
          "OnePlus",
          "OnePlus",
          "OnePlus",
          "OnePlus",
          "OnePlus",
          "OnePlus",
          "OnePlus",
          "OnePlus",
          "OnePlus",
          "OnePlus",
          "OnePlus",
          "OnePlus"
         ],
         "x0": " ",
         "xaxis": "x",
         "y": [
          54999,
          19989,
          28999,
          32999,
          39999,
          21995,
          21999,
          60999,
          44999,
          22990,
          36999,
          33900,
          24999,
          14999,
          27999,
          18999,
          34999,
          55999,
          42999,
          64800,
          20990,
          50999,
          16990,
          27999,
          35389,
          29990,
          19999,
          22999,
          34999,
          25595,
          18990,
          29999,
          28990,
          44999,
          19999,
          16990,
          47990,
          24999
         ],
         "y0": " ",
         "yaxis": "y"
        },
        {
         "alignmentgroup": "True",
         "hovertemplate": "company=%{x}<br>price=%{y}<extra></extra>",
         "legendgroup": "Samsung",
         "marker": {
          "color": "fuchsia"
         },
         "name": "Samsung",
         "notched": false,
         "offsetgroup": "Samsung",
         "orientation": "v",
         "showlegend": true,
         "type": "box",
         "x": [
          "Samsung",
          "Samsung",
          "Samsung",
          "Samsung",
          "Samsung",
          "Samsung",
          "Samsung",
          "Samsung",
          "Samsung",
          "Samsung",
          "Samsung",
          "Samsung",
          "Samsung",
          "Samsung",
          "Samsung",
          "Samsung",
          "Samsung",
          "Samsung",
          "Samsung",
          "Samsung",
          "Samsung",
          "Samsung",
          "Samsung",
          "Samsung",
          "Samsung",
          "Samsung",
          "Samsung",
          "Samsung",
          "Samsung",
          "Samsung",
          "Samsung",
          "Samsung",
          "Samsung",
          "Samsung",
          "Samsung",
          "Samsung",
          "Samsung",
          "Samsung",
          "Samsung",
          "Samsung",
          "Samsung",
          "Samsung",
          "Samsung",
          "Samsung",
          "Samsung",
          "Samsung",
          "Samsung",
          "Samsung",
          "Samsung",
          "Samsung",
          "Samsung",
          "Samsung",
          "Samsung",
          "Samsung",
          "Samsung",
          "Samsung",
          "Samsung",
          "Samsung",
          "Samsung",
          "Samsung",
          "Samsung",
          "Samsung",
          "Samsung",
          "Samsung",
          "Samsung",
          "Samsung",
          "Samsung",
          "Samsung",
          "Samsung",
          "Samsung",
          "Samsung",
          "Samsung",
          "Samsung",
          "Samsung",
          "Samsung",
          "Samsung",
          "Samsung",
          "Samsung",
          "Samsung",
          "Samsung",
          "Samsung",
          "Samsung",
          "Samsung",
          "Samsung",
          "Samsung",
          "Samsung",
          "Samsung",
          "Samsung",
          "Samsung",
          "Samsung",
          "Samsung",
          "Samsung",
          "Samsung",
          "Samsung",
          "Samsung",
          "Samsung",
          "Samsung",
          "Samsung",
          "Samsung",
          "Samsung",
          "Samsung",
          "Samsung",
          "Samsung",
          "Samsung",
          "Samsung",
          "Samsung",
          "Samsung",
          "Samsung",
          "Samsung",
          "Samsung",
          "Samsung",
          "Samsung",
          "Samsung",
          "Samsung",
          "Samsung",
          "Samsung"
         ],
         "x0": " ",
         "xaxis": "x",
         "y": [
          16499,
          16999,
          31239,
          23790,
          39999,
          17478,
          18999,
          84990,
          18499,
          15999,
          24999,
          20999,
          13999,
          22999,
          49999,
          31999,
          25289,
          70990,
          19499,
          25999,
          8499,
          16999,
          10999,
          14999,
          34999,
          8499,
          14450,
          34999,
          9299,
          44999,
          51999,
          64449,
          36499,
          16499,
          19990,
          12999,
          24999,
          69999,
          14999,
          33499,
          12944,
          27499,
          11999,
          119990,
          43999,
          35489,
          42999,
          48900,
          22494,
          12990,
          12120,
          17990,
          7249,
          14859,
          22494,
          16499,
          9499,
          11499,
          11999,
          12364,
          39990,
          21999,
          15990,
          89999,
          14490,
          15490,
          10630,
          14990,
          57999,
          41999,
          24499,
          110999,
          24990,
          9950,
          16499,
          17990,
          11499,
          86000,
          11999,
          39990,
          13999,
          39999,
          92999,
          14499,
          17999,
          11725,
          15990,
          58999,
          74999,
          11499,
          88999,
          13499,
          8499,
          59450,
          83000,
          34999,
          12999,
          54999,
          24990,
          14999,
          23999,
          17990,
          78990,
          47990,
          10999,
          22999,
          12990,
          22999,
          18499,
          10499,
          19999,
          17499,
          9990,
          39990,
          21490,
          24990
         ],
         "y0": " ",
         "yaxis": "y"
        },
        {
         "alignmentgroup": "True",
         "hovertemplate": "company=%{x}<br>price=%{y}<extra></extra>",
         "legendgroup": "Motorola",
         "marker": {
          "color": "green"
         },
         "name": "Motorola",
         "notched": false,
         "offsetgroup": "Motorola",
         "orientation": "v",
         "showlegend": true,
         "type": "box",
         "x": [
          "Motorola",
          "Motorola",
          "Motorola",
          "Motorola",
          "Motorola",
          "Motorola",
          "Motorola",
          "Motorola",
          "Motorola",
          "Motorola",
          "Motorola",
          "Motorola",
          "Motorola",
          "Motorola",
          "Motorola",
          "Motorola",
          "Motorola",
          "Motorola",
          "Motorola",
          "Motorola",
          "Motorola",
          "Motorola",
          "Motorola",
          "Motorola",
          "Motorola",
          "Motorola",
          "Motorola",
          "Motorola",
          "Motorola",
          "Motorola",
          "Motorola",
          "Motorola",
          "Motorola",
          "Motorola",
          "Motorola",
          "Motorola",
          "Motorola",
          "Motorola",
          "Motorola",
          "Motorola",
          "Motorola",
          "Motorola",
          "Motorola",
          "Motorola",
          "Motorola",
          "Motorola",
          "Motorola",
          "Motorola"
         ],
         "x0": " ",
         "xaxis": "x",
         "y": [
          14999,
          18999,
          18999,
          10499,
          15999,
          22999,
          16499,
          23990,
          34999,
          10999,
          7999,
          11999,
          39999,
          20499,
          39999,
          12999,
          24999,
          25999,
          9999,
          19999,
          12999,
          16999,
          15999,
          21999,
          9499,
          19990,
          8999,
          15999,
          10499,
          8859,
          11999,
          23990,
          7990,
          59990,
          57999,
          19499,
          19990,
          31990,
          22490,
          16999,
          34999,
          11490,
          14499,
          9022,
          42990,
          49990,
          34990,
          19990
         ],
         "y0": " ",
         "yaxis": "y"
        },
        {
         "alignmentgroup": "True",
         "hovertemplate": "company=%{x}<br>price=%{y}<extra></extra>",
         "legendgroup": "Realme",
         "marker": {
          "color": "red"
         },
         "name": "Realme",
         "notched": false,
         "offsetgroup": "Realme",
         "orientation": "v",
         "showlegend": true,
         "type": "box",
         "x": [
          "Realme",
          "Realme",
          "Realme",
          "Realme",
          "Realme",
          "Realme",
          "Realme",
          "Realme",
          "Realme",
          "Realme",
          "Realme",
          "Realme",
          "Realme",
          "Realme",
          "Realme",
          "Realme",
          "Realme",
          "Realme",
          "Realme",
          "Realme",
          "Realme",
          "Realme",
          "Realme",
          "Realme",
          "Realme",
          "Realme",
          "Realme",
          "Realme",
          "Realme",
          "Realme",
          "Realme",
          "Realme",
          "Realme",
          "Realme",
          "Realme",
          "Realme",
          "Realme",
          "Realme",
          "Realme",
          "Realme",
          "Realme",
          "Realme",
          "Realme",
          "Realme",
          "Realme",
          "Realme",
          "Realme",
          "Realme",
          "Realme",
          "Realme",
          "Realme",
          "Realme",
          "Realme",
          "Realme",
          "Realme",
          "Realme",
          "Realme",
          "Realme",
          "Realme",
          "Realme",
          "Realme",
          "Realme",
          "Realme",
          "Realme",
          "Realme",
          "Realme",
          "Realme",
          "Realme",
          "Realme",
          "Realme",
          "Realme",
          "Realme",
          "Realme",
          "Realme",
          "Realme",
          "Realme",
          "Realme",
          "Realme",
          "Realme",
          "Realme",
          "Realme",
          "Realme",
          "Realme",
          "Realme",
          "Realme",
          "Realme",
          "Realme",
          "Realme",
          "Realme",
          "Realme",
          "Realme",
          "Realme"
         ],
         "x0": " ",
         "xaxis": "x",
         "y": [
          24999,
          18999,
          19999,
          27999,
          8950,
          13999,
          14965,
          13999,
          9999,
          12499,
          12999,
          13999,
          28999,
          14999,
          16999,
          20490,
          10999,
          14499,
          3499,
          11828,
          15499,
          18999,
          25900,
          16999,
          17999,
          24999,
          8999,
          7749,
          6299,
          22998,
          15999,
          24999,
          28994,
          22994,
          14999,
          18499,
          20999,
          34999,
          13999,
          18999,
          27999,
          12787,
          14999,
          8299,
          15499,
          14990,
          24494,
          49959,
          17499,
          17999,
          15999,
          11499,
          27999,
          31994,
          8999,
          21999,
          22999,
          13999,
          6999,
          26499,
          8990,
          26999,
          16499,
          13499,
          8999,
          9499,
          14999,
          13279,
          46999,
          16999,
          14490,
          29999,
          28499,
          7999,
          11399,
          32990,
          10990,
          9999,
          12989,
          11879,
          31999,
          7999,
          17999,
          19999,
          24999,
          40990,
          12499,
          6499,
          30994,
          10499,
          6490,
          8720
         ],
         "y0": " ",
         "yaxis": "y"
        },
        {
         "alignmentgroup": "True",
         "hovertemplate": "company=%{x}<br>price=%{y}<extra></extra>",
         "legendgroup": "Apple",
         "marker": {
          "color": "lightblue"
         },
         "name": "Apple",
         "notched": false,
         "offsetgroup": "Apple",
         "orientation": "v",
         "showlegend": true,
         "type": "box",
         "x": [
          "Apple",
          "Apple",
          "Apple",
          "Apple",
          "Apple",
          "Apple",
          "Apple",
          "Apple",
          "Apple",
          "Apple",
          "Apple",
          "Apple",
          "Apple",
          "Apple",
          "Apple",
          "Apple",
          "Apple",
          "Apple",
          "Apple",
          "Apple",
          "Apple",
          "Apple",
          "Apple",
          "Apple",
          "Apple",
          "Apple",
          "Apple",
          "Apple",
          "Apple",
          "Apple",
          "Apple",
          "Apple",
          "Apple",
          "Apple",
          "Apple",
          "Apple",
          "Apple",
          "Apple",
          "Apple",
          "Apple",
          "Apple",
          "Apple",
          "Apple",
          "Apple"
         ],
         "x0": " ",
         "xaxis": "x",
         "y": [
          65999,
          62999,
          129990,
          38999,
          74999,
          119900,
          119990,
          51999,
          46999,
          40999,
          142990,
          129900,
          29990,
          139990,
          75999,
          71999,
          64900,
          69990,
          182999,
          55999,
          84999,
          72999,
          45999,
          149900,
          129990,
          130990,
          129900,
          109900,
          139900,
          95999,
          39900,
          139900,
          82990,
          49990,
          169900,
          179900,
          104999,
          172999,
          91999,
          119900,
          55999,
          67999,
          84990,
          147900
         ],
         "y0": " ",
         "yaxis": "y"
        },
        {
         "alignmentgroup": "True",
         "hovertemplate": "company=%{x}<br>price=%{y}<extra></extra>",
         "legendgroup": "Xiaomi",
         "marker": {
          "color": "darkorchid"
         },
         "name": "Xiaomi",
         "notched": false,
         "offsetgroup": "Xiaomi",
         "orientation": "v",
         "showlegend": true,
         "type": "box",
         "x": [
          "Xiaomi",
          "Xiaomi",
          "Xiaomi",
          "Xiaomi",
          "Xiaomi",
          "Xiaomi",
          "Xiaomi",
          "Xiaomi",
          "Xiaomi",
          "Xiaomi",
          "Xiaomi",
          "Xiaomi",
          "Xiaomi",
          "Xiaomi",
          "Xiaomi",
          "Xiaomi",
          "Xiaomi",
          "Xiaomi",
          "Xiaomi",
          "Xiaomi",
          "Xiaomi",
          "Xiaomi",
          "Xiaomi",
          "Xiaomi",
          "Xiaomi",
          "Xiaomi",
          "Xiaomi",
          "Xiaomi",
          "Xiaomi",
          "Xiaomi",
          "Xiaomi",
          "Xiaomi",
          "Xiaomi",
          "Xiaomi",
          "Xiaomi",
          "Xiaomi",
          "Xiaomi",
          "Xiaomi",
          "Xiaomi",
          "Xiaomi",
          "Xiaomi",
          "Xiaomi",
          "Xiaomi",
          "Xiaomi",
          "Xiaomi",
          "Xiaomi",
          "Xiaomi",
          "Xiaomi",
          "Xiaomi",
          "Xiaomi",
          "Xiaomi",
          "Xiaomi",
          "Xiaomi",
          "Xiaomi",
          "Xiaomi",
          "Xiaomi",
          "Xiaomi",
          "Xiaomi",
          "Xiaomi",
          "Xiaomi",
          "Xiaomi",
          "Xiaomi",
          "Xiaomi",
          "Xiaomi",
          "Xiaomi",
          "Xiaomi",
          "Xiaomi",
          "Xiaomi",
          "Xiaomi",
          "Xiaomi",
          "Xiaomi",
          "Xiaomi",
          "Xiaomi",
          "Xiaomi",
          "Xiaomi",
          "Xiaomi",
          "Xiaomi",
          "Xiaomi",
          "Xiaomi",
          "Xiaomi",
          "Xiaomi",
          "Xiaomi",
          "Xiaomi",
          "Xiaomi",
          "Xiaomi",
          "Xiaomi",
          "Xiaomi",
          "Xiaomi",
          "Xiaomi",
          "Xiaomi",
          "Xiaomi",
          "Xiaomi",
          "Xiaomi",
          "Xiaomi",
          "Xiaomi",
          "Xiaomi",
          "Xiaomi",
          "Xiaomi",
          "Xiaomi",
          "Xiaomi",
          "Xiaomi",
          "Xiaomi",
          "Xiaomi",
          "Xiaomi",
          "Xiaomi",
          "Xiaomi",
          "Xiaomi",
          "Xiaomi",
          "Xiaomi",
          "Xiaomi",
          "Xiaomi",
          "Xiaomi",
          "Xiaomi",
          "Xiaomi",
          "Xiaomi",
          "Xiaomi",
          "Xiaomi",
          "Xiaomi",
          "Xiaomi",
          "Xiaomi",
          "Xiaomi",
          "Xiaomi",
          "Xiaomi",
          "Xiaomi",
          "Xiaomi"
         ],
         "x0": " ",
         "xaxis": "x",
         "y": [
          29999,
          24762,
          17859,
          32999,
          19999,
          11936,
          10999,
          17990,
          32999,
          13999,
          8388,
          14290,
          19999,
          22999,
          13466,
          9999,
          22999,
          9589,
          19988,
          11999,
          20499,
          11999,
          27994,
          29990,
          12188,
          11999,
          24999,
          16999,
          17990,
          15990,
          22700,
          50990,
          12999,
          26999,
          19999,
          13999,
          46990,
          7499,
          25999,
          11999,
          21890,
          17999,
          14590,
          7499,
          7499,
          38999,
          9999,
          59990,
          18499,
          11999,
          14990,
          16999,
          23499,
          23890,
          10850,
          34990,
          13990,
          15824,
          6999,
          26999,
          12390,
          22999,
          11999,
          11600,
          7289,
          26990,
          13999,
          14990,
          19980,
          25999,
          16490,
          13990,
          24820,
          10499,
          9990,
          12490,
          13999,
          19990,
          15499,
          14999,
          38999,
          8999,
          13990,
          16999,
          25990,
          16499,
          19999,
          23500,
          12990,
          29990,
          48990,
          12999,
          27990,
          29999,
          12999,
          54990,
          24990,
          6499,
          10990,
          11499,
          28999,
          17990,
          13774,
          39999,
          13990,
          17999,
          12499,
          42990,
          18699,
          30990,
          9299,
          11989,
          11490,
          10300,
          15999,
          14439,
          480000,
          16999,
          8399,
          29999,
          26999,
          10990,
          54999,
          54999,
          32990
         ],
         "y0": " ",
         "yaxis": "y"
        },
        {
         "alignmentgroup": "True",
         "hovertemplate": "company=%{x}<br>price=%{y}<extra></extra>",
         "legendgroup": "Nothing",
         "marker": {
          "color": "gold"
         },
         "name": "Nothing",
         "notched": false,
         "offsetgroup": "Nothing",
         "orientation": "v",
         "showlegend": true,
         "type": "box",
         "x": [
          "Nothing",
          "Nothing",
          "Nothing",
          "Nothing",
          "Nothing"
         ],
         "x0": " ",
         "xaxis": "x",
         "y": [
          26749,
          28249,
          35999,
          39990,
          24990
         ],
         "y0": " ",
         "yaxis": "y"
        },
        {
         "alignmentgroup": "True",
         "hovertemplate": "company=%{x}<br>price=%{y}<extra></extra>",
         "legendgroup": "Oppo",
         "marker": {
          "color": "palegreen"
         },
         "name": "Oppo",
         "notched": false,
         "offsetgroup": "Oppo",
         "orientation": "v",
         "showlegend": true,
         "type": "box",
         "x": [
          "Oppo",
          "Oppo",
          "Oppo",
          "Oppo",
          "Oppo",
          "Oppo",
          "Oppo",
          "Oppo",
          "Oppo",
          "Oppo",
          "Oppo",
          "Oppo",
          "Oppo",
          "Oppo",
          "Oppo",
          "Oppo",
          "Oppo",
          "Oppo",
          "Oppo",
          "Oppo"
         ],
         "x0": " ",
         "xaxis": "x",
         "y": [
          18999,
          29990,
          30990,
          58990,
          21990,
          42990,
          12999,
          19999,
          16990,
          17990,
          19990,
          11490,
          29990,
          12490,
          22990,
          38700,
          9990,
          29990,
          22990,
          69990
         ],
         "y0": " ",
         "yaxis": "y"
        },
        {
         "alignmentgroup": "True",
         "hovertemplate": "company=%{x}<br>price=%{y}<extra></extra>",
         "legendgroup": "Vivo",
         "marker": {
          "color": "darkred"
         },
         "name": "Vivo",
         "notched": false,
         "offsetgroup": "Vivo",
         "orientation": "v",
         "showlegend": true,
         "type": "box",
         "x": [
          "Vivo",
          "Vivo",
          "Vivo",
          "Vivo",
          "Vivo",
          "Vivo",
          "Vivo",
          "Vivo",
          "Vivo",
          "Vivo",
          "Vivo",
          "Vivo",
          "Vivo",
          "Vivo",
          "Vivo",
          "Vivo",
          "Vivo",
          "Vivo",
          "Vivo",
          "Vivo",
          "Vivo",
          "Vivo",
          "Vivo",
          "Vivo",
          "Vivo",
          "Vivo",
          "Vivo",
          "Vivo",
          "Vivo",
          "Vivo",
          "Vivo",
          "Vivo",
          "Vivo",
          "Vivo",
          "Vivo",
          "Vivo",
          "Vivo",
          "Vivo",
          "Vivo",
          "Vivo",
          "Vivo",
          "Vivo",
          "Vivo",
          "Vivo",
          "Vivo",
          "Vivo",
          "Vivo",
          "Vivo",
          "Vivo",
          "Vivo",
          "Vivo",
          "Vivo",
          "Vivo",
          "Vivo",
          "Vivo",
          "Vivo",
          "Vivo",
          "Vivo",
          "Vivo",
          "Vivo",
          "Vivo",
          "Vivo",
          "Vivo",
          "Vivo",
          "Vivo",
          "Vivo",
          "Vivo",
          "Vivo",
          "Vivo",
          "Vivo",
          "Vivo",
          "Vivo",
          "Vivo",
          "Vivo",
          "Vivo",
          "Vivo",
          "Vivo",
          "Vivo",
          "Vivo",
          "Vivo",
          "Vivo",
          "Vivo",
          "Vivo",
          "Vivo",
          "Vivo",
          "Vivo",
          "Vivo",
          "Vivo",
          "Vivo",
          "Vivo",
          "Vivo",
          "Vivo",
          "Vivo",
          "Vivo",
          "Vivo",
          "Vivo"
         ],
         "x0": " ",
         "xaxis": "x",
         "y": [
          16990,
          9999,
          14499,
          35999,
          42990,
          27999,
          27990,
          18499,
          12489,
          29990,
          16499,
          35499,
          27994,
          19990,
          13489,
          15990,
          43999,
          15999,
          24994,
          41990,
          21990,
          31999,
          39999,
          31994,
          11999,
          14499,
          10499,
          19990,
          24999,
          8990,
          21994,
          7790,
          29990,
          14999,
          18000,
          14990,
          32999,
          8990,
          23999,
          36994,
          54999,
          15490,
          24990,
          12990,
          12999,
          17990,
          8499,
          24990,
          7999,
          19990,
          23269,
          20990,
          13990,
          24999,
          28990,
          17999,
          23994,
          12490,
          16685,
          16990,
          19990,
          13999,
          14990,
          12500,
          29999,
          31990,
          29999,
          27000,
          27990,
          9990,
          11000,
          49990,
          18990,
          8499,
          15990,
          12499,
          11990,
          26990,
          9490,
          25000,
          15000,
          20990,
          11999,
          59999,
          29990,
          19990,
          15499,
          20000,
          11990,
          32990,
          10490,
          21999,
          22990,
          9999,
          19000,
          9990
         ],
         "y0": " ",
         "yaxis": "y"
        },
        {
         "alignmentgroup": "True",
         "hovertemplate": "company=%{x}<br>price=%{y}<extra></extra>",
         "legendgroup": "OPPO",
         "marker": {
          "color": "fuchsia"
         },
         "name": "OPPO",
         "notched": false,
         "offsetgroup": "OPPO",
         "orientation": "v",
         "showlegend": true,
         "type": "box",
         "x": [
          "OPPO",
          "OPPO",
          "OPPO",
          "OPPO",
          "OPPO",
          "OPPO",
          "OPPO",
          "OPPO",
          "OPPO",
          "OPPO",
          "OPPO",
          "OPPO",
          "OPPO",
          "OPPO",
          "OPPO",
          "OPPO",
          "OPPO",
          "OPPO",
          "OPPO",
          "OPPO",
          "OPPO",
          "OPPO",
          "OPPO",
          "OPPO",
          "OPPO",
          "OPPO",
          "OPPO",
          "OPPO",
          "OPPO",
          "OPPO",
          "OPPO",
          "OPPO",
          "OPPO",
          "OPPO",
          "OPPO",
          "OPPO",
          "OPPO",
          "OPPO",
          "OPPO",
          "OPPO",
          "OPPO",
          "OPPO",
          "OPPO",
          "OPPO",
          "OPPO",
          "OPPO",
          "OPPO",
          "OPPO",
          "OPPO",
          "OPPO",
          "OPPO",
          "OPPO",
          "OPPO",
          "OPPO",
          "OPPO",
          "OPPO",
          "OPPO",
          "OPPO",
          "OPPO",
          "OPPO",
          "OPPO",
          "OPPO"
         ],
         "x0": " ",
         "xaxis": "x",
         "y": [
          45999,
          28499,
          9499,
          27660,
          16999,
          12499,
          19990,
          29340,
          13490,
          39999,
          25969,
          15490,
          45999,
          17999,
          45999,
          18990,
          26990,
          13969,
          21899,
          20990,
          31994,
          25895,
          25994,
          19990,
          15499,
          89990,
          20999,
          14990,
          70990,
          36760,
          26380,
          14700,
          8999,
          42990,
          17999,
          16490,
          16990,
          27990,
          8999,
          32999,
          15998,
          10999,
          13499,
          11999,
          17990,
          22990,
          17999,
          23990,
          15988,
          17994,
          134999,
          18990,
          44990,
          11990,
          12199,
          11990,
          9999,
          15990,
          32990,
          14999,
          13990,
          13990
         ],
         "y0": " ",
         "yaxis": "y"
        },
        {
         "alignmentgroup": "True",
         "hovertemplate": "company=%{x}<br>price=%{y}<extra></extra>",
         "legendgroup": "Poco",
         "marker": {
          "color": "green"
         },
         "name": "Poco",
         "notched": false,
         "offsetgroup": "Poco",
         "orientation": "v",
         "showlegend": true,
         "type": "box",
         "x": [
          "Poco",
          "Poco",
          "Poco",
          "Poco",
          "Poco",
          "Poco",
          "Poco",
          "Poco",
          "Poco",
          "Poco",
          "Poco",
          "Poco",
          "Poco",
          "Poco",
          "Poco",
          "Poco",
          "Poco",
          "Poco",
          "Poco",
          "Poco",
          "Poco",
          "Poco",
          "Poco",
          "Poco",
          "Poco",
          "Poco",
          "Poco"
         ],
         "x0": " ",
         "xaxis": "x",
         "y": [
          14999,
          20999,
          14999,
          16499,
          12999,
          17999,
          11499,
          13499,
          15999,
          25999,
          29999,
          13499,
          34990,
          19650,
          10799,
          14999,
          29999,
          27999,
          19990,
          10890,
          11499,
          7299,
          19999,
          14499,
          14990,
          32999,
          7999
         ],
         "y0": " ",
         "yaxis": "y"
        },
        {
         "alignmentgroup": "True",
         "hovertemplate": "company=%{x}<br>price=%{y}<extra></extra>",
         "legendgroup": "iQOO",
         "marker": {
          "color": "red"
         },
         "name": "iQOO",
         "notched": false,
         "offsetgroup": "iQOO",
         "orientation": "v",
         "showlegend": true,
         "type": "box",
         "x": [
          "iQOO",
          "iQOO",
          "iQOO",
          "iQOO",
          "iQOO",
          "iQOO",
          "iQOO",
          "iQOO",
          "iQOO",
          "iQOO",
          "iQOO",
          "iQOO",
          "iQOO",
          "iQOO",
          "iQOO",
          "iQOO",
          "iQOO",
          "iQOO",
          "iQOO",
          "iQOO",
          "iQOO",
          "iQOO",
          "iQOO",
          "iQOO",
          "iQOO",
          "iQOO",
          "iQOO",
          "iQOO",
          "iQOO",
          "iQOO",
          "iQOO",
          "iQOO"
         ],
         "x0": " ",
         "xaxis": "x",
         "y": [
          29999,
          13989,
          59999,
          21788,
          28999,
          15499,
          24990,
          30990,
          15499,
          58990,
          16940,
          24990,
          64999,
          23399,
          34990,
          18498,
          34949,
          15999,
          33749,
          14489,
          35990,
          27999,
          22990,
          59990,
          47990,
          32990,
          24999,
          19990,
          39990,
          14999,
          17999,
          39990
         ],
         "y0": " ",
         "yaxis": "y"
        },
        {
         "alignmentgroup": "True",
         "hovertemplate": "company=%{x}<br>price=%{y}<extra></extra>",
         "legendgroup": "Jio",
         "marker": {
          "color": "lightblue"
         },
         "name": "Jio",
         "notched": false,
         "offsetgroup": "Jio",
         "orientation": "v",
         "showlegend": true,
         "type": "box",
         "x": [
          "Jio"
         ],
         "x0": " ",
         "xaxis": "x",
         "y": [
          11990
         ],
         "y0": " ",
         "yaxis": "y"
        },
        {
         "alignmentgroup": "True",
         "hovertemplate": "company=%{x}<br>price=%{y}<extra></extra>",
         "legendgroup": "Tecno",
         "marker": {
          "color": "darkorchid"
         },
         "name": "Tecno",
         "notched": false,
         "offsetgroup": "Tecno",
         "orientation": "v",
         "showlegend": true,
         "type": "box",
         "x": [
          "Tecno",
          "Tecno",
          "Tecno",
          "Tecno",
          "Tecno",
          "Tecno",
          "Tecno",
          "Tecno",
          "Tecno",
          "Tecno",
          "Tecno",
          "Tecno",
          "Tecno",
          "Tecno",
          "Tecno",
          "Tecno",
          "Tecno",
          "Tecno",
          "Tecno",
          "Tecno",
          "Tecno",
          "Tecno",
          "Tecno",
          "Tecno",
          "Tecno",
          "Tecno",
          "Tecno",
          "Tecno",
          "Tecno",
          "Tecno",
          "Tecno"
         ],
         "x0": " ",
         "xaxis": "x",
         "y": [
          39999,
          6999,
          11999,
          9999,
          49999,
          15499,
          13799,
          8999,
          21999,
          7999,
          8890,
          17999,
          25999,
          8799,
          15999,
          9999,
          17990,
          8968,
          14746,
          8999,
          15499,
          6249,
          14999,
          13990,
          11499,
          22999,
          7999,
          10999,
          20999,
          8390,
          7399
         ],
         "y0": " ",
         "yaxis": "y"
        },
        {
         "alignmentgroup": "True",
         "hovertemplate": "company=%{x}<br>price=%{y}<extra></extra>",
         "legendgroup": "Tesla",
         "marker": {
          "color": "gold"
         },
         "name": "Tesla",
         "notched": false,
         "offsetgroup": "Tesla",
         "orientation": "v",
         "showlegend": true,
         "type": "box",
         "x": [
          "Tesla"
         ],
         "x0": " ",
         "xaxis": "x",
         "y": [
          69999
         ],
         "y0": " ",
         "yaxis": "y"
        },
        {
         "alignmentgroup": "True",
         "hovertemplate": "company=%{x}<br>price=%{y}<extra></extra>",
         "legendgroup": "Google",
         "marker": {
          "color": "palegreen"
         },
         "name": "Google",
         "notched": false,
         "offsetgroup": "Google",
         "orientation": "v",
         "showlegend": true,
         "type": "box",
         "x": [
          "Google",
          "Google",
          "Google",
          "Google",
          "Google",
          "Google",
          "Google",
          "Google",
          "Google",
          "Google",
          "Google",
          "Google"
         ],
         "x0": " ",
         "xaxis": "x",
         "y": [
          29999,
          34990,
          53100,
          54300,
          40480,
          20120,
          15990,
          36000,
          53990,
          15999,
          32999,
          70990
         ],
         "y0": " ",
         "yaxis": "y"
        },
        {
         "alignmentgroup": "True",
         "hovertemplate": "company=%{x}<br>price=%{y}<extra></extra>",
         "legendgroup": "Infinix",
         "marker": {
          "color": "darkred"
         },
         "name": "Infinix",
         "notched": false,
         "offsetgroup": "Infinix",
         "orientation": "v",
         "showlegend": true,
         "type": "box",
         "x": [
          "Infinix",
          "Infinix",
          "Infinix",
          "Infinix",
          "Infinix",
          "Infinix",
          "Infinix",
          "Infinix",
          "Infinix",
          "Infinix",
          "Infinix",
          "Infinix",
          "Infinix",
          "Infinix",
          "Infinix",
          "Infinix",
          "Infinix",
          "Infinix",
          "Infinix",
          "Infinix",
          "Infinix",
          "Infinix",
          "Infinix",
          "Infinix",
          "Infinix",
          "Infinix",
          "Infinix",
          "Infinix"
         ],
         "x0": " ",
         "xaxis": "x",
         "y": [
          18999,
          19499,
          17999,
          36999,
          17999,
          15999,
          9999,
          16900,
          19999,
          8999,
          11700,
          9999,
          8910,
          21990,
          12340,
          10850,
          7320,
          16999,
          8299,
          15999,
          12999,
          12999,
          16999,
          9690,
          19999,
          9999,
          14999,
          12799
         ],
         "y0": " ",
         "yaxis": "y"
        },
        {
         "alignmentgroup": "True",
         "hovertemplate": "company=%{x}<br>price=%{y}<extra></extra>",
         "legendgroup": "Cola",
         "marker": {
          "color": "fuchsia"
         },
         "name": "Cola",
         "notched": false,
         "offsetgroup": "Cola",
         "orientation": "v",
         "showlegend": true,
         "type": "box",
         "x": [
          "Cola"
         ],
         "x0": " ",
         "xaxis": "x",
         "y": [
          14999
         ],
         "y0": " ",
         "yaxis": "y"
        },
        {
         "alignmentgroup": "True",
         "hovertemplate": "company=%{x}<br>price=%{y}<extra></extra>",
         "legendgroup": "POCO",
         "marker": {
          "color": "green"
         },
         "name": "POCO",
         "notched": false,
         "offsetgroup": "POCO",
         "orientation": "v",
         "showlegend": true,
         "type": "box",
         "x": [
          "POCO",
          "POCO",
          "POCO",
          "POCO",
          "POCO",
          "POCO",
          "POCO",
          "POCO",
          "POCO",
          "POCO",
          "POCO",
          "POCO",
          "POCO"
         ],
         "x0": " ",
         "xaxis": "x",
         "y": [
          11999,
          7499,
          6499,
          29990,
          12999,
          24990,
          15999,
          13999,
          14799,
          39999,
          12799,
          42999,
          28990
         ],
         "y0": " ",
         "yaxis": "y"
        },
        {
         "alignmentgroup": "True",
         "hovertemplate": "company=%{x}<br>price=%{y}<extra></extra>",
         "legendgroup": "iKall",
         "marker": {
          "color": "red"
         },
         "name": "iKall",
         "notched": false,
         "offsetgroup": "iKall",
         "orientation": "v",
         "showlegend": true,
         "type": "box",
         "x": [
          "iKall",
          "iKall",
          "iKall"
         ],
         "x0": " ",
         "xaxis": "x",
         "y": [
          8099,
          7999,
          6799
         ],
         "y0": " ",
         "yaxis": "y"
        },
        {
         "alignmentgroup": "True",
         "hovertemplate": "company=%{x}<br>price=%{y}<extra></extra>",
         "legendgroup": "LeEco",
         "marker": {
          "color": "lightblue"
         },
         "name": "LeEco",
         "notched": false,
         "offsetgroup": "LeEco",
         "orientation": "v",
         "showlegend": true,
         "type": "box",
         "x": [
          "LeEco"
         ],
         "x0": " ",
         "xaxis": "x",
         "y": [
          10999
         ],
         "y0": " ",
         "yaxis": "y"
        },
        {
         "alignmentgroup": "True",
         "hovertemplate": "company=%{x}<br>price=%{y}<extra></extra>",
         "legendgroup": "Lava",
         "marker": {
          "color": "darkorchid"
         },
         "name": "Lava",
         "notched": false,
         "offsetgroup": "Lava",
         "orientation": "v",
         "showlegend": true,
         "type": "box",
         "x": [
          "Lava",
          "Lava",
          "Lava"
         ],
         "x0": " ",
         "xaxis": "x",
         "y": [
          10999,
          17990,
          8999
         ],
         "y0": " ",
         "yaxis": "y"
        },
        {
         "alignmentgroup": "True",
         "hovertemplate": "company=%{x}<br>price=%{y}<extra></extra>",
         "legendgroup": "Honor",
         "marker": {
          "color": "gold"
         },
         "name": "Honor",
         "notched": false,
         "offsetgroup": "Honor",
         "orientation": "v",
         "showlegend": true,
         "type": "box",
         "x": [
          "Honor",
          "Honor",
          "Honor",
          "Honor",
          "Honor",
          "Honor",
          "Honor",
          "Honor",
          "Honor",
          "Honor",
          "Honor"
         ],
         "x0": " ",
         "xaxis": "x",
         "y": [
          27999,
          16999,
          39990,
          24990,
          30990,
          9999,
          16999,
          13999,
          32990,
          13999,
          14990
         ],
         "y0": " ",
         "yaxis": "y"
        },
        {
         "alignmentgroup": "True",
         "hovertemplate": "company=%{x}<br>price=%{y}<extra></extra>",
         "legendgroup": "Nubia",
         "marker": {
          "color": "palegreen"
         },
         "name": "Nubia",
         "notched": false,
         "offsetgroup": "Nubia",
         "orientation": "v",
         "showlegend": true,
         "type": "box",
         "x": [
          "Nubia",
          "Nubia",
          "Nubia",
          "Nubia",
          "Nubia",
          "Nubia"
         ],
         "x0": " ",
         "xaxis": "x",
         "y": [
          46990,
          34999,
          60990,
          60999,
          49990,
          44999
         ],
         "y0": " ",
         "yaxis": "y"
        },
        {
         "alignmentgroup": "True",
         "hovertemplate": "company=%{x}<br>price=%{y}<extra></extra>",
         "legendgroup": "Redmi",
         "marker": {
          "color": "darkred"
         },
         "name": "Redmi",
         "notched": false,
         "offsetgroup": "Redmi",
         "orientation": "v",
         "showlegend": true,
         "type": "box",
         "x": [
          "Redmi",
          "Redmi",
          "Redmi"
         ],
         "x0": " ",
         "xaxis": "x",
         "y": [
          18999,
          19999,
          7999
         ],
         "y0": " ",
         "yaxis": "y"
        },
        {
         "alignmentgroup": "True",
         "hovertemplate": "company=%{x}<br>price=%{y}<extra></extra>",
         "legendgroup": "Asus",
         "marker": {
          "color": "fuchsia"
         },
         "name": "Asus",
         "notched": false,
         "offsetgroup": "Asus",
         "orientation": "v",
         "showlegend": true,
         "type": "box",
         "x": [
          "Asus",
          "Asus",
          "Asus",
          "Asus",
          "Asus",
          "Asus"
         ],
         "x0": " ",
         "xaxis": "x",
         "y": [
          89999,
          75990,
          72999,
          63990,
          39999,
          71999
         ],
         "y0": " ",
         "yaxis": "y"
        },
        {
         "alignmentgroup": "True",
         "hovertemplate": "company=%{x}<br>price=%{y}<extra></extra>",
         "legendgroup": "Royole",
         "marker": {
          "color": "green"
         },
         "name": "Royole",
         "notched": false,
         "offsetgroup": "Royole",
         "orientation": "v",
         "showlegend": true,
         "type": "box",
         "x": [
          "Royole",
          "Royole"
         ],
         "x0": " ",
         "xaxis": "x",
         "y": [
          109999,
          149999
         ],
         "y0": " ",
         "yaxis": "y"
        },
        {
         "alignmentgroup": "True",
         "hovertemplate": "company=%{x}<br>price=%{y}<extra></extra>",
         "legendgroup": "Oukitel",
         "marker": {
          "color": "red"
         },
         "name": "Oukitel",
         "notched": false,
         "offsetgroup": "Oukitel",
         "orientation": "v",
         "showlegend": true,
         "type": "box",
         "x": [
          "Oukitel",
          "Oukitel",
          "Oukitel"
         ],
         "x0": " ",
         "xaxis": "x",
         "y": [
          29990,
          22990,
          25899
         ],
         "y0": " ",
         "yaxis": "y"
        },
        {
         "alignmentgroup": "True",
         "hovertemplate": "company=%{x}<br>price=%{y}<extra></extra>",
         "legendgroup": "Nokia",
         "marker": {
          "color": "lightblue"
         },
         "name": "Nokia",
         "notched": false,
         "offsetgroup": "Nokia",
         "orientation": "v",
         "showlegend": true,
         "type": "box",
         "x": [
          "Nokia",
          "Nokia",
          "Nokia",
          "Nokia",
          "Nokia",
          "Nokia",
          "Nokia",
          "Nokia",
          "Nokia",
          "Nokia"
         ],
         "x0": " ",
         "xaxis": "x",
         "y": [
          34999,
          10499,
          9499,
          17990,
          28498,
          13499,
          11999,
          8999,
          41990,
          39990
         ],
         "y0": " ",
         "yaxis": "y"
        },
        {
         "alignmentgroup": "True",
         "hovertemplate": "company=%{x}<br>price=%{y}<extra></extra>",
         "legendgroup": "Vertu",
         "marker": {
          "color": "darkorchid"
         },
         "name": "Vertu",
         "notched": false,
         "offsetgroup": "Vertu",
         "orientation": "v",
         "showlegend": true,
         "type": "box",
         "x": [
          "Vertu"
         ],
         "x0": " ",
         "xaxis": "x",
         "y": [
          650000
         ],
         "y0": " ",
         "yaxis": "y"
        },
        {
         "alignmentgroup": "True",
         "hovertemplate": "company=%{x}<br>price=%{y}<extra></extra>",
         "legendgroup": "BLU",
         "marker": {
          "color": "gold"
         },
         "name": "BLU",
         "notched": false,
         "offsetgroup": "BLU",
         "orientation": "v",
         "showlegend": true,
         "type": "box",
         "x": [
          "BLU"
         ],
         "x0": " ",
         "xaxis": "x",
         "y": [
          14990
         ],
         "y0": " ",
         "yaxis": "y"
        },
        {
         "alignmentgroup": "True",
         "hovertemplate": "company=%{x}<br>price=%{y}<extra></extra>",
         "legendgroup": "Sony",
         "marker": {
          "color": "palegreen"
         },
         "name": "Sony",
         "notched": false,
         "offsetgroup": "Sony",
         "orientation": "v",
         "showlegend": true,
         "type": "box",
         "x": [
          "Sony",
          "Sony",
          "Sony",
          "Sony",
          "Sony",
          "Sony",
          "Sony"
         ],
         "x0": " ",
         "xaxis": "x",
         "y": [
          15990,
          69990,
          19990,
          69999,
          82199,
          27999,
          30990
         ],
         "y0": " ",
         "yaxis": "y"
        },
        {
         "alignmentgroup": "True",
         "hovertemplate": "company=%{x}<br>price=%{y}<extra></extra>",
         "legendgroup": "Lyf",
         "marker": {
          "color": "darkred"
         },
         "name": "Lyf",
         "notched": false,
         "offsetgroup": "Lyf",
         "orientation": "v",
         "showlegend": true,
         "type": "box",
         "x": [
          "Lyf"
         ],
         "x0": " ",
         "xaxis": "x",
         "y": [
          3990
         ],
         "y0": " ",
         "yaxis": "y"
        },
        {
         "alignmentgroup": "True",
         "hovertemplate": "company=%{x}<br>price=%{y}<extra></extra>",
         "legendgroup": "Huawei",
         "marker": {
          "color": "fuchsia"
         },
         "name": "Huawei",
         "notched": false,
         "offsetgroup": "Huawei",
         "orientation": "v",
         "showlegend": true,
         "type": "box",
         "x": [
          "Huawei",
          "Huawei",
          "Huawei",
          "Huawei",
          "Huawei",
          "Huawei",
          "Huawei",
          "Huawei",
          "Huawei",
          "Huawei",
          "Huawei"
         ],
         "x0": " ",
         "xaxis": "x",
         "y": [
          239999,
          23999,
          19990,
          99990,
          162990,
          29990,
          21990,
          10949,
          21990,
          29990,
          22990
         ],
         "y0": " ",
         "yaxis": "y"
        },
        {
         "alignmentgroup": "True",
         "hovertemplate": "company=%{x}<br>price=%{y}<extra></extra>",
         "legendgroup": "ZTE",
         "marker": {
          "color": "green"
         },
         "name": "ZTE",
         "notched": false,
         "offsetgroup": "ZTE",
         "orientation": "v",
         "showlegend": true,
         "type": "box",
         "x": [
          "ZTE",
          "ZTE"
         ],
         "x0": " ",
         "xaxis": "x",
         "y": [
          61990,
          19999
         ],
         "y0": " ",
         "yaxis": "y"
        },
        {
         "alignmentgroup": "True",
         "hovertemplate": "company=%{x}<br>price=%{y}<extra></extra>",
         "legendgroup": "Lenovo",
         "marker": {
          "color": "red"
         },
         "name": "Lenovo",
         "notched": false,
         "offsetgroup": "Lenovo",
         "orientation": "v",
         "showlegend": true,
         "type": "box",
         "x": [
          "Lenovo",
          "Lenovo"
         ],
         "x0": " ",
         "xaxis": "x",
         "y": [
          46990,
          59999
         ],
         "y0": " ",
         "yaxis": "y"
        },
        {
         "alignmentgroup": "True",
         "hovertemplate": "company=%{x}<br>price=%{y}<extra></extra>",
         "legendgroup": "LG",
         "marker": {
          "color": "lightblue"
         },
         "name": "LG",
         "notched": false,
         "offsetgroup": "LG",
         "orientation": "v",
         "showlegend": true,
         "type": "box",
         "x": [
          "LG",
          "LG"
         ],
         "x0": " ",
         "xaxis": "x",
         "y": [
          54999,
          54999
         ],
         "y0": " ",
         "yaxis": "y"
        },
        {
         "alignmentgroup": "True",
         "hovertemplate": "company=%{x}<br>price=%{y}<extra></extra>",
         "legendgroup": "Micromax",
         "marker": {
          "color": "darkorchid"
         },
         "name": "Micromax",
         "notched": false,
         "offsetgroup": "Micromax",
         "orientation": "v",
         "showlegend": true,
         "type": "box",
         "x": [
          "Micromax",
          "Micromax",
          "Micromax"
         ],
         "x0": " ",
         "xaxis": "x",
         "y": [
          6999,
          5999,
          7790
         ],
         "y0": " ",
         "yaxis": "y"
        },
        {
         "alignmentgroup": "True",
         "hovertemplate": "company=%{x}<br>price=%{y}<extra></extra>",
         "legendgroup": "Letv",
         "marker": {
          "color": "gold"
         },
         "name": "Letv",
         "notched": false,
         "offsetgroup": "Letv",
         "orientation": "v",
         "showlegend": true,
         "type": "box",
         "x": [
          "Letv"
         ],
         "x0": " ",
         "xaxis": "x",
         "y": [
          5999
         ],
         "y0": " ",
         "yaxis": "y"
        },
        {
         "alignmentgroup": "True",
         "hovertemplate": "company=%{x}<br>price=%{y}<extra></extra>",
         "legendgroup": "itel",
         "marker": {
          "color": "palegreen"
         },
         "name": "itel",
         "notched": false,
         "offsetgroup": "itel",
         "orientation": "v",
         "showlegend": true,
         "type": "box",
         "x": [
          "itel"
         ],
         "x0": " ",
         "xaxis": "x",
         "y": [
          6699
         ],
         "y0": " ",
         "yaxis": "y"
        },
        {
         "alignmentgroup": "True",
         "hovertemplate": "company=%{x}<br>price=%{y}<extra></extra>",
         "legendgroup": "Gionee",
         "marker": {
          "color": "darkred"
         },
         "name": "Gionee",
         "notched": false,
         "offsetgroup": "Gionee",
         "orientation": "v",
         "showlegend": true,
         "type": "box",
         "x": [
          "Gionee"
         ],
         "x0": " ",
         "xaxis": "x",
         "y": [
          7499
         ],
         "y0": " ",
         "yaxis": "y"
        },
        {
         "alignmentgroup": "True",
         "hovertemplate": "company=%{x}<br>price=%{y}<extra></extra>",
         "legendgroup": "Leitz",
         "marker": {
          "color": "fuchsia"
         },
         "name": "Leitz",
         "notched": false,
         "offsetgroup": "Leitz",
         "orientation": "v",
         "showlegend": true,
         "type": "box",
         "x": [
          "Leitz"
         ],
         "x0": " ",
         "xaxis": "x",
         "y": [
          124990
         ],
         "y0": " ",
         "yaxis": "y"
        },
        {
         "alignmentgroup": "True",
         "hovertemplate": "company=%{x}<br>price=%{y}<extra></extra>",
         "legendgroup": "Doogee",
         "marker": {
          "color": "green"
         },
         "name": "Doogee",
         "notched": false,
         "offsetgroup": "Doogee",
         "orientation": "v",
         "showlegend": true,
         "type": "box",
         "x": [
          "Doogee",
          "Doogee"
         ],
         "x0": " ",
         "xaxis": "x",
         "y": [
          45999,
          14999
         ],
         "y0": " ",
         "yaxis": "y"
        },
        {
         "alignmentgroup": "True",
         "hovertemplate": "company=%{x}<br>price=%{y}<extra></extra>",
         "legendgroup": "TCL",
         "marker": {
          "color": "red"
         },
         "name": "TCL",
         "notched": false,
         "offsetgroup": "TCL",
         "orientation": "v",
         "showlegend": true,
         "type": "box",
         "x": [
          "TCL"
         ],
         "x0": " ",
         "xaxis": "x",
         "y": [
          8990
         ],
         "y0": " ",
         "yaxis": "y"
        },
        {
         "alignmentgroup": "True",
         "hovertemplate": "company=%{x}<br>price=%{y}<extra></extra>",
         "legendgroup": "Sharp",
         "marker": {
          "color": "lightblue"
         },
         "name": "Sharp",
         "notched": false,
         "offsetgroup": "Sharp",
         "orientation": "v",
         "showlegend": true,
         "type": "box",
         "x": [
          "Sharp"
         ],
         "x0": " ",
         "xaxis": "x",
         "y": [
          59990
         ],
         "y0": " ",
         "yaxis": "y"
        },
        {
         "alignmentgroup": "True",
         "hovertemplate": "company=%{x}<br>price=%{y}<extra></extra>",
         "legendgroup": "Blackview",
         "marker": {
          "color": "darkorchid"
         },
         "name": "Blackview",
         "notched": false,
         "offsetgroup": "Blackview",
         "orientation": "v",
         "showlegend": true,
         "type": "box",
         "x": [
          "Blackview"
         ],
         "x0": " ",
         "xaxis": "x",
         "y": [
          8990
         ],
         "y0": " ",
         "yaxis": "y"
        }
       ],
       "layout": {
        "boxmode": "overlay",
        "height": 500,
        "legend": {
         "title": {
          "text": "company"
         },
         "tracegroupgap": 0
        },
        "margin": {
         "t": 60
        },
        "template": {
         "data": {
          "bar": [
           {
            "error_x": {
             "color": "#f2f5fa"
            },
            "error_y": {
             "color": "#f2f5fa"
            },
            "marker": {
             "line": {
              "color": "rgb(17,17,17)",
              "width": 0.5
             },
             "pattern": {
              "fillmode": "overlay",
              "size": 10,
              "solidity": 0.2
             }
            },
            "type": "bar"
           }
          ],
          "barpolar": [
           {
            "marker": {
             "line": {
              "color": "rgb(17,17,17)",
              "width": 0.5
             },
             "pattern": {
              "fillmode": "overlay",
              "size": 10,
              "solidity": 0.2
             }
            },
            "type": "barpolar"
           }
          ],
          "carpet": [
           {
            "aaxis": {
             "endlinecolor": "#A2B1C6",
             "gridcolor": "#506784",
             "linecolor": "#506784",
             "minorgridcolor": "#506784",
             "startlinecolor": "#A2B1C6"
            },
            "baxis": {
             "endlinecolor": "#A2B1C6",
             "gridcolor": "#506784",
             "linecolor": "#506784",
             "minorgridcolor": "#506784",
             "startlinecolor": "#A2B1C6"
            },
            "type": "carpet"
           }
          ],
          "choropleth": [
           {
            "colorbar": {
             "outlinewidth": 0,
             "ticks": ""
            },
            "type": "choropleth"
           }
          ],
          "contour": [
           {
            "colorbar": {
             "outlinewidth": 0,
             "ticks": ""
            },
            "colorscale": [
             [
              0,
              "#0d0887"
             ],
             [
              0.1111111111111111,
              "#46039f"
             ],
             [
              0.2222222222222222,
              "#7201a8"
             ],
             [
              0.3333333333333333,
              "#9c179e"
             ],
             [
              0.4444444444444444,
              "#bd3786"
             ],
             [
              0.5555555555555556,
              "#d8576b"
             ],
             [
              0.6666666666666666,
              "#ed7953"
             ],
             [
              0.7777777777777778,
              "#fb9f3a"
             ],
             [
              0.8888888888888888,
              "#fdca26"
             ],
             [
              1,
              "#f0f921"
             ]
            ],
            "type": "contour"
           }
          ],
          "contourcarpet": [
           {
            "colorbar": {
             "outlinewidth": 0,
             "ticks": ""
            },
            "type": "contourcarpet"
           }
          ],
          "heatmap": [
           {
            "colorbar": {
             "outlinewidth": 0,
             "ticks": ""
            },
            "colorscale": [
             [
              0,
              "#0d0887"
             ],
             [
              0.1111111111111111,
              "#46039f"
             ],
             [
              0.2222222222222222,
              "#7201a8"
             ],
             [
              0.3333333333333333,
              "#9c179e"
             ],
             [
              0.4444444444444444,
              "#bd3786"
             ],
             [
              0.5555555555555556,
              "#d8576b"
             ],
             [
              0.6666666666666666,
              "#ed7953"
             ],
             [
              0.7777777777777778,
              "#fb9f3a"
             ],
             [
              0.8888888888888888,
              "#fdca26"
             ],
             [
              1,
              "#f0f921"
             ]
            ],
            "type": "heatmap"
           }
          ],
          "heatmapgl": [
           {
            "colorbar": {
             "outlinewidth": 0,
             "ticks": ""
            },
            "colorscale": [
             [
              0,
              "#0d0887"
             ],
             [
              0.1111111111111111,
              "#46039f"
             ],
             [
              0.2222222222222222,
              "#7201a8"
             ],
             [
              0.3333333333333333,
              "#9c179e"
             ],
             [
              0.4444444444444444,
              "#bd3786"
             ],
             [
              0.5555555555555556,
              "#d8576b"
             ],
             [
              0.6666666666666666,
              "#ed7953"
             ],
             [
              0.7777777777777778,
              "#fb9f3a"
             ],
             [
              0.8888888888888888,
              "#fdca26"
             ],
             [
              1,
              "#f0f921"
             ]
            ],
            "type": "heatmapgl"
           }
          ],
          "histogram": [
           {
            "marker": {
             "pattern": {
              "fillmode": "overlay",
              "size": 10,
              "solidity": 0.2
             }
            },
            "type": "histogram"
           }
          ],
          "histogram2d": [
           {
            "colorbar": {
             "outlinewidth": 0,
             "ticks": ""
            },
            "colorscale": [
             [
              0,
              "#0d0887"
             ],
             [
              0.1111111111111111,
              "#46039f"
             ],
             [
              0.2222222222222222,
              "#7201a8"
             ],
             [
              0.3333333333333333,
              "#9c179e"
             ],
             [
              0.4444444444444444,
              "#bd3786"
             ],
             [
              0.5555555555555556,
              "#d8576b"
             ],
             [
              0.6666666666666666,
              "#ed7953"
             ],
             [
              0.7777777777777778,
              "#fb9f3a"
             ],
             [
              0.8888888888888888,
              "#fdca26"
             ],
             [
              1,
              "#f0f921"
             ]
            ],
            "type": "histogram2d"
           }
          ],
          "histogram2dcontour": [
           {
            "colorbar": {
             "outlinewidth": 0,
             "ticks": ""
            },
            "colorscale": [
             [
              0,
              "#0d0887"
             ],
             [
              0.1111111111111111,
              "#46039f"
             ],
             [
              0.2222222222222222,
              "#7201a8"
             ],
             [
              0.3333333333333333,
              "#9c179e"
             ],
             [
              0.4444444444444444,
              "#bd3786"
             ],
             [
              0.5555555555555556,
              "#d8576b"
             ],
             [
              0.6666666666666666,
              "#ed7953"
             ],
             [
              0.7777777777777778,
              "#fb9f3a"
             ],
             [
              0.8888888888888888,
              "#fdca26"
             ],
             [
              1,
              "#f0f921"
             ]
            ],
            "type": "histogram2dcontour"
           }
          ],
          "mesh3d": [
           {
            "colorbar": {
             "outlinewidth": 0,
             "ticks": ""
            },
            "type": "mesh3d"
           }
          ],
          "parcoords": [
           {
            "line": {
             "colorbar": {
              "outlinewidth": 0,
              "ticks": ""
             }
            },
            "type": "parcoords"
           }
          ],
          "pie": [
           {
            "automargin": true,
            "type": "pie"
           }
          ],
          "scatter": [
           {
            "marker": {
             "line": {
              "color": "#283442"
             }
            },
            "type": "scatter"
           }
          ],
          "scatter3d": [
           {
            "line": {
             "colorbar": {
              "outlinewidth": 0,
              "ticks": ""
             }
            },
            "marker": {
             "colorbar": {
              "outlinewidth": 0,
              "ticks": ""
             }
            },
            "type": "scatter3d"
           }
          ],
          "scattercarpet": [
           {
            "marker": {
             "colorbar": {
              "outlinewidth": 0,
              "ticks": ""
             }
            },
            "type": "scattercarpet"
           }
          ],
          "scattergeo": [
           {
            "marker": {
             "colorbar": {
              "outlinewidth": 0,
              "ticks": ""
             }
            },
            "type": "scattergeo"
           }
          ],
          "scattergl": [
           {
            "marker": {
             "line": {
              "color": "#283442"
             }
            },
            "type": "scattergl"
           }
          ],
          "scattermapbox": [
           {
            "marker": {
             "colorbar": {
              "outlinewidth": 0,
              "ticks": ""
             }
            },
            "type": "scattermapbox"
           }
          ],
          "scatterpolar": [
           {
            "marker": {
             "colorbar": {
              "outlinewidth": 0,
              "ticks": ""
             }
            },
            "type": "scatterpolar"
           }
          ],
          "scatterpolargl": [
           {
            "marker": {
             "colorbar": {
              "outlinewidth": 0,
              "ticks": ""
             }
            },
            "type": "scatterpolargl"
           }
          ],
          "scatterternary": [
           {
            "marker": {
             "colorbar": {
              "outlinewidth": 0,
              "ticks": ""
             }
            },
            "type": "scatterternary"
           }
          ],
          "surface": [
           {
            "colorbar": {
             "outlinewidth": 0,
             "ticks": ""
            },
            "colorscale": [
             [
              0,
              "#0d0887"
             ],
             [
              0.1111111111111111,
              "#46039f"
             ],
             [
              0.2222222222222222,
              "#7201a8"
             ],
             [
              0.3333333333333333,
              "#9c179e"
             ],
             [
              0.4444444444444444,
              "#bd3786"
             ],
             [
              0.5555555555555556,
              "#d8576b"
             ],
             [
              0.6666666666666666,
              "#ed7953"
             ],
             [
              0.7777777777777778,
              "#fb9f3a"
             ],
             [
              0.8888888888888888,
              "#fdca26"
             ],
             [
              1,
              "#f0f921"
             ]
            ],
            "type": "surface"
           }
          ],
          "table": [
           {
            "cells": {
             "fill": {
              "color": "#506784"
             },
             "line": {
              "color": "rgb(17,17,17)"
             }
            },
            "header": {
             "fill": {
              "color": "#2a3f5f"
             },
             "line": {
              "color": "rgb(17,17,17)"
             }
            },
            "type": "table"
           }
          ]
         },
         "layout": {
          "annotationdefaults": {
           "arrowcolor": "#f2f5fa",
           "arrowhead": 0,
           "arrowwidth": 1
          },
          "autotypenumbers": "strict",
          "coloraxis": {
           "colorbar": {
            "outlinewidth": 0,
            "ticks": ""
           }
          },
          "colorscale": {
           "diverging": [
            [
             0,
             "#8e0152"
            ],
            [
             0.1,
             "#c51b7d"
            ],
            [
             0.2,
             "#de77ae"
            ],
            [
             0.3,
             "#f1b6da"
            ],
            [
             0.4,
             "#fde0ef"
            ],
            [
             0.5,
             "#f7f7f7"
            ],
            [
             0.6,
             "#e6f5d0"
            ],
            [
             0.7,
             "#b8e186"
            ],
            [
             0.8,
             "#7fbc41"
            ],
            [
             0.9,
             "#4d9221"
            ],
            [
             1,
             "#276419"
            ]
           ],
           "sequential": [
            [
             0,
             "#0d0887"
            ],
            [
             0.1111111111111111,
             "#46039f"
            ],
            [
             0.2222222222222222,
             "#7201a8"
            ],
            [
             0.3333333333333333,
             "#9c179e"
            ],
            [
             0.4444444444444444,
             "#bd3786"
            ],
            [
             0.5555555555555556,
             "#d8576b"
            ],
            [
             0.6666666666666666,
             "#ed7953"
            ],
            [
             0.7777777777777778,
             "#fb9f3a"
            ],
            [
             0.8888888888888888,
             "#fdca26"
            ],
            [
             1,
             "#f0f921"
            ]
           ],
           "sequentialminus": [
            [
             0,
             "#0d0887"
            ],
            [
             0.1111111111111111,
             "#46039f"
            ],
            [
             0.2222222222222222,
             "#7201a8"
            ],
            [
             0.3333333333333333,
             "#9c179e"
            ],
            [
             0.4444444444444444,
             "#bd3786"
            ],
            [
             0.5555555555555556,
             "#d8576b"
            ],
            [
             0.6666666666666666,
             "#ed7953"
            ],
            [
             0.7777777777777778,
             "#fb9f3a"
            ],
            [
             0.8888888888888888,
             "#fdca26"
            ],
            [
             1,
             "#f0f921"
            ]
           ]
          },
          "colorway": [
           "#636efa",
           "#EF553B",
           "#00cc96",
           "#ab63fa",
           "#FFA15A",
           "#19d3f3",
           "#FF6692",
           "#B6E880",
           "#FF97FF",
           "#FECB52"
          ],
          "font": {
           "color": "#f2f5fa"
          },
          "geo": {
           "bgcolor": "rgb(17,17,17)",
           "lakecolor": "rgb(17,17,17)",
           "landcolor": "rgb(17,17,17)",
           "showlakes": true,
           "showland": true,
           "subunitcolor": "#506784"
          },
          "hoverlabel": {
           "align": "left"
          },
          "hovermode": "closest",
          "mapbox": {
           "style": "dark"
          },
          "paper_bgcolor": "rgb(17,17,17)",
          "plot_bgcolor": "rgb(17,17,17)",
          "polar": {
           "angularaxis": {
            "gridcolor": "#506784",
            "linecolor": "#506784",
            "ticks": ""
           },
           "bgcolor": "rgb(17,17,17)",
           "radialaxis": {
            "gridcolor": "#506784",
            "linecolor": "#506784",
            "ticks": ""
           }
          },
          "scene": {
           "xaxis": {
            "backgroundcolor": "rgb(17,17,17)",
            "gridcolor": "#506784",
            "gridwidth": 2,
            "linecolor": "#506784",
            "showbackground": true,
            "ticks": "",
            "zerolinecolor": "#C8D4E3"
           },
           "yaxis": {
            "backgroundcolor": "rgb(17,17,17)",
            "gridcolor": "#506784",
            "gridwidth": 2,
            "linecolor": "#506784",
            "showbackground": true,
            "ticks": "",
            "zerolinecolor": "#C8D4E3"
           },
           "zaxis": {
            "backgroundcolor": "rgb(17,17,17)",
            "gridcolor": "#506784",
            "gridwidth": 2,
            "linecolor": "#506784",
            "showbackground": true,
            "ticks": "",
            "zerolinecolor": "#C8D4E3"
           }
          },
          "shapedefaults": {
           "line": {
            "color": "#f2f5fa"
           }
          },
          "sliderdefaults": {
           "bgcolor": "#C8D4E3",
           "bordercolor": "rgb(17,17,17)",
           "borderwidth": 1,
           "tickwidth": 0
          },
          "ternary": {
           "aaxis": {
            "gridcolor": "#506784",
            "linecolor": "#506784",
            "ticks": ""
           },
           "baxis": {
            "gridcolor": "#506784",
            "linecolor": "#506784",
            "ticks": ""
           },
           "bgcolor": "rgb(17,17,17)",
           "caxis": {
            "gridcolor": "#506784",
            "linecolor": "#506784",
            "ticks": ""
           }
          },
          "title": {
           "x": 0.05
          },
          "updatemenudefaults": {
           "bgcolor": "#506784",
           "borderwidth": 0
          },
          "xaxis": {
           "automargin": true,
           "gridcolor": "#283442",
           "linecolor": "#506784",
           "ticks": "",
           "title": {
            "standoff": 15
           },
           "zerolinecolor": "#283442",
           "zerolinewidth": 2
          },
          "yaxis": {
           "automargin": true,
           "gridcolor": "#283442",
           "linecolor": "#506784",
           "ticks": "",
           "title": {
            "standoff": 15
           },
           "zerolinecolor": "#283442",
           "zerolinewidth": 2
          }
         }
        },
        "width": 1500,
        "xaxis": {
         "anchor": "y",
         "categoryarray": [
          "OnePlus",
          "Samsung",
          "Motorola",
          "Realme",
          "Apple",
          "Xiaomi",
          "Nothing",
          "Oppo",
          "Vivo",
          "OPPO",
          "Poco",
          "iQOO",
          "Jio",
          "Tecno",
          "Tesla",
          "Google",
          "Infinix",
          "Cola",
          "POCO",
          "iKall",
          "LeEco",
          "Lava",
          "Honor",
          "Nubia",
          "Redmi",
          "Asus",
          "Royole",
          "Oukitel",
          "Nokia",
          "Vertu",
          "BLU",
          "Sony",
          "Lyf",
          "Huawei",
          "ZTE",
          "Lenovo",
          "LG",
          "Micromax",
          "Letv",
          "itel",
          "Gionee",
          "Leitz",
          "Doogee",
          "TCL",
          "Sharp",
          "Blackview"
         ],
         "categoryorder": "array",
         "domain": [
          0,
          1
         ],
         "title": {
          "text": "company"
         }
        },
        "yaxis": {
         "anchor": "x",
         "domain": [
          0,
          1
         ],
         "title": {
          "text": "price"
         }
        }
       }
      }
     },
     "metadata": {},
     "output_type": "display_data"
    }
   ],
   "source": [
    "fig=px.box(data_frame=df,y=\"price\",x=\"company\",color=\"company\",color_discrete_sequence=[\"darkred\",\"fuchsia\",\"green\",\"red\",\"lightblue\",\"darkorchid\",\"gold\",\"palegreen\"],\n",
    "          width=1500, height=500)\n",
    "fig.update_layout(template=\"plotly_dark\") \n",
    "fig.show()"
   ]
  },
  {
   "cell_type": "code",
   "execution_count": 38,
   "metadata": {},
   "outputs": [
    {
     "data": {
      "application/vnd.plotly.v1+json": {
       "config": {
        "plotlyServerURL": "https://plot.ly"
       },
       "data": [
        {
         "alignmentgroup": "True",
         "hovertemplate": "processor=%{x}<br>price=%{y}<extra></extra>",
         "legendgroup": "Snapdragon",
         "marker": {
          "color": "darkred"
         },
         "name": "Snapdragon",
         "notched": false,
         "offsetgroup": "Snapdragon",
         "orientation": "v",
         "showlegend": true,
         "type": "box",
         "x": [
          "Snapdragon",
          "Snapdragon",
          "Snapdragon",
          "Snapdragon",
          "Snapdragon",
          "Snapdragon",
          "Snapdragon",
          "Snapdragon",
          "Snapdragon",
          "Snapdragon",
          "Snapdragon",
          "Snapdragon",
          "Snapdragon",
          "Snapdragon",
          "Snapdragon",
          "Snapdragon",
          "Snapdragon",
          "Snapdragon",
          "Snapdragon",
          "Snapdragon",
          "Snapdragon",
          "Snapdragon",
          "Snapdragon",
          "Snapdragon",
          "Snapdragon",
          "Snapdragon",
          "Snapdragon",
          "Snapdragon",
          "Snapdragon",
          "Snapdragon",
          "Snapdragon",
          "Snapdragon",
          "Snapdragon",
          "Snapdragon",
          "Snapdragon",
          "Snapdragon",
          "Snapdragon",
          "Snapdragon",
          "Snapdragon",
          "Snapdragon",
          "Snapdragon",
          "Snapdragon",
          "Snapdragon",
          "Snapdragon",
          "Snapdragon",
          "Snapdragon",
          "Snapdragon",
          "Snapdragon",
          "Snapdragon",
          "Snapdragon",
          "Snapdragon",
          "Snapdragon",
          "Snapdragon",
          "Snapdragon",
          "Snapdragon",
          "Snapdragon",
          "Snapdragon",
          "Snapdragon",
          "Snapdragon",
          "Snapdragon",
          "Snapdragon",
          "Snapdragon",
          "Snapdragon",
          "Snapdragon",
          "Snapdragon",
          "Snapdragon",
          "Snapdragon",
          "Snapdragon",
          "Snapdragon",
          "Snapdragon",
          "Snapdragon",
          "Snapdragon",
          "Snapdragon",
          "Snapdragon",
          "Snapdragon",
          "Snapdragon",
          "Snapdragon",
          "Snapdragon",
          "Snapdragon",
          "Snapdragon",
          "Snapdragon",
          "Snapdragon",
          "Snapdragon",
          "Snapdragon",
          "Snapdragon",
          "Snapdragon",
          "Snapdragon",
          "Snapdragon",
          "Snapdragon",
          "Snapdragon",
          "Snapdragon",
          "Snapdragon",
          "Snapdragon",
          "Snapdragon",
          "Snapdragon",
          "Snapdragon",
          "Snapdragon",
          "Snapdragon",
          "Snapdragon",
          "Snapdragon",
          "Snapdragon",
          "Snapdragon",
          "Snapdragon",
          "Snapdragon",
          "Snapdragon",
          "Snapdragon",
          "Snapdragon",
          "Snapdragon",
          "Snapdragon",
          "Snapdragon",
          "Snapdragon",
          "Snapdragon",
          "Snapdragon",
          "Snapdragon",
          "Snapdragon",
          "Snapdragon",
          "Snapdragon",
          "Snapdragon",
          "Snapdragon",
          "Snapdragon",
          "Snapdragon",
          "Snapdragon",
          "Snapdragon",
          "Snapdragon",
          "Snapdragon",
          "Snapdragon",
          "Snapdragon",
          "Snapdragon",
          "Snapdragon",
          "Snapdragon",
          "Snapdragon",
          "Snapdragon",
          "Snapdragon",
          "Snapdragon",
          "Snapdragon",
          "Snapdragon",
          "Snapdragon",
          "Snapdragon",
          "Snapdragon",
          "Snapdragon",
          "Snapdragon",
          "Snapdragon",
          "Snapdragon",
          "Snapdragon",
          "Snapdragon",
          "Snapdragon",
          "Snapdragon",
          "Snapdragon",
          "Snapdragon",
          "Snapdragon",
          "Snapdragon",
          "Snapdragon",
          "Snapdragon",
          "Snapdragon",
          "Snapdragon",
          "Snapdragon",
          "Snapdragon",
          "Snapdragon",
          "Snapdragon",
          "Snapdragon",
          "Snapdragon",
          "Snapdragon",
          "Snapdragon",
          "Snapdragon",
          "Snapdragon",
          "Snapdragon",
          "Snapdragon",
          "Snapdragon",
          "Snapdragon",
          "Snapdragon",
          "Snapdragon",
          "Snapdragon",
          "Snapdragon",
          "Snapdragon",
          "Snapdragon",
          "Snapdragon",
          "Snapdragon",
          "Snapdragon",
          "Snapdragon",
          "Snapdragon",
          "Snapdragon",
          "Snapdragon",
          "Snapdragon",
          "Snapdragon",
          "Snapdragon",
          "Snapdragon",
          "Snapdragon",
          "Snapdragon",
          "Snapdragon",
          "Snapdragon",
          "Snapdragon",
          "Snapdragon",
          "Snapdragon",
          "Snapdragon",
          "Snapdragon",
          "Snapdragon",
          "Snapdragon",
          "Snapdragon",
          "Snapdragon",
          "Snapdragon",
          "Snapdragon",
          "Snapdragon",
          "Snapdragon",
          "Snapdragon",
          "Snapdragon",
          "Snapdragon",
          "Snapdragon",
          "Snapdragon",
          "Snapdragon",
          "Snapdragon",
          "Snapdragon",
          "Snapdragon",
          "Snapdragon",
          "Snapdragon",
          "Snapdragon",
          "Snapdragon",
          "Snapdragon",
          "Snapdragon",
          "Snapdragon",
          "Snapdragon",
          "Snapdragon",
          "Snapdragon",
          "Snapdragon",
          "Snapdragon",
          "Snapdragon",
          "Snapdragon",
          "Snapdragon",
          "Snapdragon",
          "Snapdragon",
          "Snapdragon",
          "Snapdragon",
          "Snapdragon",
          "Snapdragon",
          "Snapdragon",
          "Snapdragon",
          "Snapdragon",
          "Snapdragon",
          "Snapdragon",
          "Snapdragon",
          "Snapdragon",
          "Snapdragon",
          "Snapdragon",
          "Snapdragon",
          "Snapdragon",
          "Snapdragon",
          "Snapdragon",
          "Snapdragon",
          "Snapdragon",
          "Snapdragon",
          "Snapdragon",
          "Snapdragon",
          "Snapdragon",
          "Snapdragon",
          "Snapdragon",
          "Snapdragon",
          "Snapdragon",
          "Snapdragon",
          "Snapdragon",
          "Snapdragon",
          "Snapdragon",
          "Snapdragon",
          "Snapdragon",
          "Snapdragon",
          "Snapdragon",
          "Snapdragon",
          "Snapdragon",
          "Snapdragon",
          "Snapdragon",
          "Snapdragon",
          "Snapdragon",
          "Snapdragon",
          "Snapdragon",
          "Snapdragon",
          "Snapdragon",
          "Snapdragon",
          "Snapdragon",
          "Snapdragon",
          "Snapdragon",
          "Snapdragon",
          "Snapdragon",
          "Snapdragon",
          "Snapdragon",
          "Snapdragon",
          "Snapdragon",
          "Snapdragon",
          "Snapdragon",
          "Snapdragon",
          "Snapdragon",
          "Snapdragon",
          "Snapdragon",
          "Snapdragon",
          "Snapdragon",
          "Snapdragon",
          "Snapdragon",
          "Snapdragon",
          "Snapdragon",
          "Snapdragon",
          "Snapdragon",
          "Snapdragon",
          "Snapdragon",
          "Snapdragon",
          "Snapdragon",
          "Snapdragon",
          "Snapdragon",
          "Snapdragon",
          "Snapdragon",
          "Snapdragon",
          "Snapdragon",
          "Snapdragon",
          "Snapdragon",
          "Snapdragon",
          "Snapdragon",
          "Snapdragon",
          "Snapdragon",
          "Snapdragon",
          "Snapdragon",
          "Snapdragon",
          "Snapdragon",
          "Snapdragon",
          "Snapdragon",
          "Snapdragon",
          "Snapdragon",
          "Snapdragon",
          "Snapdragon",
          "Snapdragon",
          "Snapdragon",
          "Snapdragon",
          "Snapdragon",
          "Snapdragon",
          "Snapdragon",
          "Snapdragon",
          "Snapdragon",
          "Snapdragon",
          "Snapdragon",
          "Snapdragon",
          "Snapdragon",
          "Snapdragon",
          "Snapdragon",
          "Snapdragon",
          "Snapdragon",
          "Snapdragon",
          "Snapdragon",
          "Snapdragon",
          "Snapdragon",
          "Snapdragon",
          "Snapdragon",
          "Snapdragon",
          "Snapdragon",
          "Snapdragon",
          "Snapdragon",
          "Snapdragon",
          "Snapdragon",
          "Snapdragon",
          "Snapdragon",
          "Snapdragon",
          "Snapdragon"
         ],
         "x0": " ",
         "xaxis": "x",
         "y": [
          54999,
          19989,
          14999,
          16999,
          26749,
          18999,
          16990,
          45999,
          39999,
          14999,
          17859,
          31239,
          21995,
          19999,
          20999,
          29990,
          32999,
          28499,
          21999,
          19999,
          18499,
          11936,
          11990,
          18999,
          84990,
          10499,
          29990,
          18499,
          60999,
          15999,
          13989,
          44999,
          27660,
          19990,
          22999,
          22999,
          14290,
          16499,
          12499,
          59999,
          15990,
          19999,
          23990,
          49999,
          15999,
          21788,
          70990,
          34999,
          10999,
          24999,
          9999,
          28249,
          16499,
          22999,
          13490,
          28999,
          15499,
          14999,
          24990,
          9589,
          19988,
          11999,
          30990,
          25969,
          28999,
          14999,
          58990,
          30990,
          20499,
          15490,
          15499,
          39999,
          14999,
          20499,
          34999,
          39999,
          18999,
          17999,
          17999,
          12999,
          35999,
          18999,
          27999,
          29990,
          24999,
          12188,
          24999,
          58990,
          11999,
          11999,
          14499,
          26990,
          44999,
          24999,
          21899,
          46990,
          16940,
          17990,
          20990,
          64449,
          8990,
          34999,
          18999,
          39990,
          22700,
          50990,
          89999,
          19990,
          19999,
          24999,
          25895,
          46990,
          12999,
          11999,
          21890,
          69999,
          55999,
          42999,
          16999,
          16999,
          64999,
          109999,
          17999,
          14999,
          19990,
          23399,
          22998,
          25999,
          15999,
          64800,
          20990,
          21999,
          38999,
          14990,
          29999,
          15999,
          59990,
          34990,
          119990,
          50999,
          32999,
          13499,
          20120,
          20999,
          28994,
          22494,
          18498,
          23999,
          14999,
          14990,
          20999,
          11999,
          34999,
          13999,
          75990,
          21990,
          18999,
          16990,
          23890,
          27999,
          19999,
          19990,
          39990,
          34990,
          34999,
          13990,
          650000,
          34990,
          22494,
          19650,
          63990,
          34949,
          34999,
          24990,
          17999,
          22999,
          39990,
          11999,
          3990,
          239999,
          15999,
          69990,
          12999,
          60990,
          33749,
          89999,
          27999,
          15990,
          30990,
          14990,
          36000,
          14489,
          16490,
          23990,
          49959,
          23269,
          13999,
          14990,
          61990,
          16990,
          19990,
          57999,
          46990,
          17990,
          14999,
          19980,
          35990,
          27990,
          29999,
          39999,
          27999,
          60999,
          110999,
          54999,
          16490,
          24990,
          32999,
          28498,
          59990,
          16990,
          27999,
          13990,
          22990,
          59990,
          21999,
          19999,
          19990,
          28990,
          27999,
          17999,
          69999,
          57999,
          14999,
          26499,
          47990,
          22999,
          39999,
          38999,
          39990,
          71999,
          22990,
          17999,
          25990,
          16499,
          19999,
          23500,
          54999,
          19499,
          32990,
          9999,
          82199,
          49990,
          29990,
          15988,
          134999,
          25595,
          19990,
          29999,
          31990,
          31990,
          162990,
          24999,
          29990,
          14999,
          44990,
          22490,
          11499,
          27000,
          29999,
          27990,
          9990,
          19990,
          13279,
          12999,
          54990,
          16999,
          34999,
          46999,
          16999,
          88999,
          15990,
          12499,
          11990,
          11499,
          12799,
          14490,
          9490,
          25000,
          15000,
          29999,
          124990,
          28499,
          17990,
          39999,
          19999,
          29990,
          15499,
          12499,
          32990,
          42990,
          18699,
          30990,
          59999,
          29990,
          27999,
          11990,
          11490,
          19990,
          32990,
          41990,
          29990,
          22990,
          29999,
          39990,
          22990,
          149999,
          31999,
          30990,
          14499,
          44999,
          19999,
          16990,
          14439,
          24999,
          480000,
          19999,
          29999,
          24990,
          47990,
          40990,
          14999,
          22990,
          29990,
          17999,
          44999,
          39990,
          9999,
          22990,
          32990,
          39990,
          30994,
          32999,
          19000,
          13990,
          54999,
          9990,
          24999,
          59990,
          39990,
          42990,
          54999,
          49990,
          69990,
          34990,
          14990,
          19990
         ],
         "y0": " ",
         "yaxis": "y"
        },
        {
         "alignmentgroup": "True",
         "hovertemplate": "processor=%{x}<br>price=%{y}<extra></extra>",
         "legendgroup": "Exynos",
         "marker": {
          "color": "fuchsia"
         },
         "name": "Exynos",
         "notched": false,
         "offsetgroup": "Exynos",
         "orientation": "v",
         "showlegend": true,
         "type": "box",
         "x": [
          "Exynos",
          "Exynos",
          "Exynos",
          "Exynos",
          "Exynos",
          "Exynos",
          "Exynos",
          "Exynos",
          "Exynos",
          "Exynos",
          "Exynos",
          "Exynos",
          "Exynos",
          "Exynos",
          "Exynos",
          "Exynos",
          "Exynos",
          "Exynos",
          "Exynos",
          "Exynos",
          "Exynos",
          "Exynos",
          "Exynos",
          "Exynos",
          "Exynos",
          "Exynos",
          "Exynos",
          "Exynos",
          "Exynos",
          "Exynos",
          "Exynos",
          "Exynos",
          "Exynos",
          "Exynos",
          "Exynos",
          "Exynos",
          "Exynos",
          "Exynos",
          "Exynos",
          "Exynos",
          "Exynos",
          "Exynos",
          "Exynos",
          "Exynos",
          "Exynos"
         ],
         "x0": " ",
         "xaxis": "x",
         "y": [
          16499,
          39999,
          17478,
          18999,
          24999,
          20999,
          31999,
          19499,
          25999,
          16999,
          10999,
          34999,
          51999,
          36499,
          12999,
          33499,
          27499,
          43999,
          35489,
          42999,
          48900,
          12990,
          11999,
          10630,
          41999,
          86000,
          39999,
          92999,
          14499,
          17999,
          11725,
          15990,
          58999,
          74999,
          59450,
          83000,
          34999,
          14999,
          23999,
          78990,
          10999,
          10499,
          19999,
          17499,
          21490
         ],
         "y0": " ",
         "yaxis": "y"
        },
        {
         "alignmentgroup": "True",
         "hovertemplate": "processor=%{x}<br>price=%{y}<extra></extra>",
         "legendgroup": "Dimensity",
         "marker": {
          "color": "green"
         },
         "name": "Dimensity",
         "notched": false,
         "offsetgroup": "Dimensity",
         "orientation": "v",
         "showlegend": true,
         "type": "box",
         "x": [
          "Dimensity",
          "Dimensity",
          "Dimensity",
          "Dimensity",
          "Dimensity",
          "Dimensity",
          "Dimensity",
          "Dimensity",
          "Dimensity",
          "Dimensity",
          "Dimensity",
          "Dimensity",
          "Dimensity",
          "Dimensity",
          "Dimensity",
          "Dimensity",
          "Dimensity",
          "Dimensity",
          "Dimensity",
          "Dimensity",
          "Dimensity",
          "Dimensity",
          "Dimensity",
          "Dimensity",
          "Dimensity",
          "Dimensity",
          "Dimensity",
          "Dimensity",
          "Dimensity",
          "Dimensity",
          "Dimensity",
          "Dimensity",
          "Dimensity",
          "Dimensity",
          "Dimensity",
          "Dimensity",
          "Dimensity",
          "Dimensity",
          "Dimensity",
          "Dimensity",
          "Dimensity",
          "Dimensity",
          "Dimensity",
          "Dimensity",
          "Dimensity",
          "Dimensity",
          "Dimensity",
          "Dimensity",
          "Dimensity",
          "Dimensity",
          "Dimensity",
          "Dimensity",
          "Dimensity",
          "Dimensity",
          "Dimensity",
          "Dimensity",
          "Dimensity",
          "Dimensity",
          "Dimensity",
          "Dimensity",
          "Dimensity",
          "Dimensity",
          "Dimensity",
          "Dimensity",
          "Dimensity",
          "Dimensity",
          "Dimensity",
          "Dimensity",
          "Dimensity",
          "Dimensity",
          "Dimensity",
          "Dimensity",
          "Dimensity",
          "Dimensity",
          "Dimensity",
          "Dimensity",
          "Dimensity",
          "Dimensity",
          "Dimensity",
          "Dimensity",
          "Dimensity",
          "Dimensity",
          "Dimensity",
          "Dimensity",
          "Dimensity",
          "Dimensity",
          "Dimensity",
          "Dimensity",
          "Dimensity",
          "Dimensity",
          "Dimensity",
          "Dimensity",
          "Dimensity",
          "Dimensity",
          "Dimensity",
          "Dimensity",
          "Dimensity",
          "Dimensity",
          "Dimensity",
          "Dimensity",
          "Dimensity",
          "Dimensity",
          "Dimensity",
          "Dimensity",
          "Dimensity",
          "Dimensity",
          "Dimensity",
          "Dimensity",
          "Dimensity",
          "Dimensity",
          "Dimensity",
          "Dimensity",
          "Dimensity",
          "Dimensity",
          "Dimensity",
          "Dimensity",
          "Dimensity",
          "Dimensity",
          "Dimensity",
          "Dimensity",
          "Dimensity",
          "Dimensity",
          "Dimensity",
          "Dimensity",
          "Dimensity",
          "Dimensity",
          "Dimensity",
          "Dimensity",
          "Dimensity",
          "Dimensity",
          "Dimensity",
          "Dimensity",
          "Dimensity",
          "Dimensity",
          "Dimensity",
          "Dimensity",
          "Dimensity",
          "Dimensity",
          "Dimensity",
          "Dimensity",
          "Dimensity",
          "Dimensity",
          "Dimensity",
          "Dimensity",
          "Dimensity",
          "Dimensity",
          "Dimensity",
          "Dimensity",
          "Dimensity",
          "Dimensity",
          "Dimensity",
          "Dimensity",
          "Dimensity",
          "Dimensity",
          "Dimensity",
          "Dimensity",
          "Dimensity",
          "Dimensity",
          "Dimensity",
          "Dimensity",
          "Dimensity",
          "Dimensity",
          "Dimensity",
          "Dimensity",
          "Dimensity",
          "Dimensity",
          "Dimensity",
          "Dimensity",
          "Dimensity",
          "Dimensity",
          "Dimensity",
          "Dimensity",
          "Dimensity",
          "Dimensity",
          "Dimensity"
         ],
         "x0": " ",
         "xaxis": "x",
         "y": [
          24999,
          29999,
          28999,
          18999,
          24762,
          32999,
          35999,
          42990,
          27999,
          27990,
          23790,
          18999,
          27999,
          29999,
          14965,
          17990,
          14999,
          35499,
          32999,
          27994,
          13999,
          13999,
          13999,
          16999,
          22990,
          12999,
          19990,
          43999,
          36999,
          39999,
          22999,
          29340,
          25289,
          33900,
          18999,
          24994,
          13466,
          39999,
          12999,
          19499,
          41990,
          17999,
          20490,
          21990,
          31999,
          36999,
          14499,
          27999,
          45999,
          11499,
          27994,
          39999,
          15499,
          10999,
          31994,
          25900,
          16999,
          17999,
          45999,
          18990,
          24999,
          16999,
          25999,
          49999,
          13499,
          15499,
          15999,
          31994,
          15990,
          21994,
          12999,
          24990,
          26999,
          19999,
          15999,
          25999,
          25994,
          29990,
          12944,
          29990,
          21999,
          89990,
          18499,
          24999,
          22994,
          18499,
          70990,
          17990,
          14990,
          16999,
          36760,
          23499,
          26380,
          36994,
          14990,
          72999,
          26999,
          54999,
          42990,
          21999,
          24990,
          14999,
          17990,
          24990,
          15490,
          15999,
          26990,
          42990,
          24990,
          24494,
          35389,
          20990,
          17499,
          17999,
          25999,
          29990,
          24499,
          12999,
          31994,
          24820,
          12490,
          17990,
          24999,
          19990,
          22999,
          17990,
          14799,
          23994,
          26999,
          16499,
          17990,
          34999,
          16990,
          13499,
          13990,
          16999,
          13999,
          12990,
          19990,
          23990,
          29999,
          48990,
          17990,
          27990,
          49990,
          15499,
          18990,
          24990,
          10990,
          16999,
          11999,
          28999,
          18990,
          59999,
          13990,
          19990,
          10990,
          9999,
          45999,
          47990,
          28990,
          15999,
          14990,
          19999,
          38700,
          21999,
          20999,
          32990,
          42999,
          26999,
          22999,
          32999,
          13990,
          32990,
          28990
         ],
         "y0": " ",
         "yaxis": "y"
        },
        {
         "alignmentgroup": "True",
         "hovertemplate": "processor=%{x}<br>price=%{y}<extra></extra>",
         "legendgroup": "Bionic",
         "marker": {
          "color": "red"
         },
         "name": "Bionic",
         "notched": false,
         "offsetgroup": "Bionic",
         "orientation": "v",
         "showlegend": true,
         "type": "box",
         "x": [
          "Bionic",
          "Bionic",
          "Bionic",
          "Bionic",
          "Bionic",
          "Bionic",
          "Bionic",
          "Bionic",
          "Bionic",
          "Bionic",
          "Bionic",
          "Bionic",
          "Bionic",
          "Bionic",
          "Bionic",
          "Bionic",
          "Bionic",
          "Bionic",
          "Bionic",
          "Bionic",
          "Bionic",
          "Bionic",
          "Bionic",
          "Bionic",
          "Bionic",
          "Bionic",
          "Bionic",
          "Bionic",
          "Bionic",
          "Bionic",
          "Bionic",
          "Bionic",
          "Bionic",
          "Bionic",
          "Bionic",
          "Bionic",
          "Bionic",
          "Bionic"
         ],
         "x0": " ",
         "xaxis": "x",
         "y": [
          65999,
          62999,
          129990,
          74999,
          119900,
          119990,
          51999,
          40999,
          142990,
          129900,
          139990,
          75999,
          64900,
          69990,
          182999,
          55999,
          84999,
          72999,
          45999,
          149900,
          129990,
          130990,
          129900,
          139900,
          95999,
          139900,
          82990,
          49990,
          169900,
          179900,
          104999,
          172999,
          91999,
          119900,
          55999,
          67999,
          84990,
          147900
         ],
         "y0": " ",
         "yaxis": "y"
        },
        {
         "alignmentgroup": "True",
         "hovertemplate": "processor=%{x}<br>price=%{y}<extra></extra>",
         "legendgroup": "Helio",
         "marker": {
          "color": "lightblue"
         },
         "name": "Helio",
         "notched": false,
         "offsetgroup": "Helio",
         "orientation": "v",
         "showlegend": true,
         "type": "box",
         "x": [
          "Helio",
          "Helio",
          "Helio",
          "Helio",
          "Helio",
          "Helio",
          "Helio",
          "Helio",
          "Helio",
          "Helio",
          "Helio",
          "Helio",
          "Helio",
          "Helio",
          "Helio",
          "Helio",
          "Helio",
          "Helio",
          "Helio",
          "Helio",
          "Helio",
          "Helio",
          "Helio",
          "Helio",
          "Helio",
          "Helio",
          "Helio",
          "Helio",
          "Helio",
          "Helio",
          "Helio",
          "Helio",
          "Helio",
          "Helio",
          "Helio",
          "Helio",
          "Helio",
          "Helio",
          "Helio",
          "Helio",
          "Helio",
          "Helio",
          "Helio",
          "Helio",
          "Helio",
          "Helio",
          "Helio",
          "Helio",
          "Helio",
          "Helio",
          "Helio",
          "Helio",
          "Helio",
          "Helio",
          "Helio",
          "Helio",
          "Helio",
          "Helio",
          "Helio",
          "Helio",
          "Helio",
          "Helio",
          "Helio",
          "Helio",
          "Helio",
          "Helio",
          "Helio",
          "Helio",
          "Helio",
          "Helio",
          "Helio",
          "Helio",
          "Helio",
          "Helio",
          "Helio",
          "Helio",
          "Helio",
          "Helio",
          "Helio",
          "Helio",
          "Helio",
          "Helio",
          "Helio",
          "Helio",
          "Helio",
          "Helio",
          "Helio",
          "Helio",
          "Helio",
          "Helio",
          "Helio",
          "Helio",
          "Helio",
          "Helio",
          "Helio",
          "Helio",
          "Helio",
          "Helio",
          "Helio",
          "Helio",
          "Helio",
          "Helio",
          "Helio",
          "Helio",
          "Helio",
          "Helio",
          "Helio",
          "Helio",
          "Helio",
          "Helio",
          "Helio",
          "Helio",
          "Helio",
          "Helio",
          "Helio",
          "Helio",
          "Helio",
          "Helio",
          "Helio",
          "Helio",
          "Helio",
          "Helio",
          "Helio",
          "Helio",
          "Helio",
          "Helio",
          "Helio",
          "Helio",
          "Helio",
          "Helio",
          "Helio",
          "Helio",
          "Helio",
          "Helio",
          "Helio",
          "Helio",
          "Helio",
          "Helio",
          "Helio",
          "Helio",
          "Helio",
          "Helio",
          "Helio",
          "Helio",
          "Helio",
          "Helio",
          "Helio",
          "Helio",
          "Helio",
          "Helio",
          "Helio",
          "Helio",
          "Helio",
          "Helio",
          "Helio",
          "Helio",
          "Helio",
          "Helio",
          "Helio",
          "Helio",
          "Helio",
          "Helio",
          "Helio",
          "Helio",
          "Helio",
          "Helio",
          "Helio",
          "Helio",
          "Helio",
          "Helio",
          "Helio",
          "Helio",
          "Helio",
          "Helio",
          "Helio",
          "Helio",
          "Helio",
          "Helio",
          "Helio",
          "Helio",
          "Helio",
          "Helio",
          "Helio",
          "Helio",
          "Helio",
          "Helio",
          "Helio",
          "Helio",
          "Helio"
         ],
         "x0": " ",
         "xaxis": "x",
         "y": [
          9999,
          14499,
          12489,
          13999,
          10999,
          16499,
          9499,
          8388,
          15999,
          13489,
          12499,
          8499,
          14999,
          11999,
          16999,
          11999,
          10999,
          11999,
          6999,
          3499,
          8499,
          11999,
          9999,
          9299,
          7499,
          10499,
          19990,
          13969,
          9999,
          17999,
          19999,
          6499,
          16499,
          9999,
          13799,
          16900,
          13999,
          7499,
          7790,
          8999,
          8999,
          11700,
          14590,
          7499,
          11999,
          12999,
          9499,
          7499,
          18000,
          15499,
          9999,
          7999,
          8990,
          12120,
          29990,
          10850,
          14700,
          14859,
          17999,
          8999,
          8999,
          15824,
          6999,
          16499,
          15999,
          9999,
          15490,
          25999,
          9499,
          7999,
          15990,
          8799,
          12390,
          11499,
          21990,
          12364,
          12990,
          15999,
          8859,
          11600,
          11999,
          7289,
          15499,
          8499,
          14490,
          7999,
          19990,
          10799,
          15999,
          7990,
          8999,
          13999,
          11499,
          9950,
          19999,
          15998,
          10999,
          9999,
          10499,
          9990,
          13990,
          11499,
          13999,
          22990,
          15499,
          13999,
          13499,
          11999,
          11999,
          17990,
          12490,
          16685,
          8999,
          19990,
          8968,
          7320,
          13999,
          14746,
          16999,
          8299,
          14990,
          17994,
          7499,
          10890,
          18990,
          12500,
          15999,
          8999,
          12999,
          11000,
          7299,
          8499,
          6499,
          26990,
          13499,
          8499,
          11990,
          12199,
          11490,
          20990,
          12999,
          12999,
          13774,
          14999,
          11990,
          12999,
          16999,
          17999,
          9690,
          9299,
          12989,
          12490,
          20000,
          11989,
          11490,
          14499,
          13990,
          10490,
          19999,
          11499,
          22999,
          7999,
          7999,
          10999,
          17999,
          9999,
          9990,
          16999,
          15990,
          8999,
          9022,
          8399,
          9999,
          8390,
          13999,
          8990,
          14999,
          12799,
          14999,
          12499,
          18499,
          10990,
          10499,
          6490,
          7999,
          8990,
          13999,
          14999,
          25899
         ],
         "y0": " ",
         "yaxis": "y"
        },
        {
         "alignmentgroup": "True",
         "hovertemplate": "processor=%{x}<br>price=%{y}<extra></extra>",
         "legendgroup": "A13",
         "marker": {
          "color": "darkorchid"
         },
         "name": "A13",
         "notched": false,
         "offsetgroup": "A13",
         "orientation": "v",
         "showlegend": true,
         "type": "box",
         "x": [
          "A13",
          "A13",
          "A13",
          "A13",
          "A13"
         ],
         "x0": " ",
         "xaxis": "x",
         "y": [
          38999,
          46999,
          29990,
          109900,
          39900
         ],
         "y0": " ",
         "yaxis": "y"
        },
        {
         "alignmentgroup": "True",
         "hovertemplate": "processor=%{x}<br>price=%{y}<extra></extra>",
         "legendgroup": "Unisoc",
         "marker": {
          "color": "gold"
         },
         "name": "Unisoc",
         "notched": false,
         "offsetgroup": "Unisoc",
         "orientation": "v",
         "showlegend": true,
         "type": "box",
         "x": [
          "Unisoc",
          "Unisoc",
          "Unisoc",
          "Unisoc",
          "Unisoc",
          "Unisoc",
          "Unisoc",
          "Unisoc",
          "Unisoc",
          "Unisoc",
          "Unisoc",
          "Unisoc",
          "Unisoc",
          "Unisoc",
          "Unisoc",
          "Unisoc",
          "Unisoc"
         ],
         "x0": " ",
         "xaxis": "x",
         "y": [
          8950,
          9999,
          8890,
          7249,
          10499,
          9499,
          13499,
          8999,
          6999,
          8990,
          6999,
          6699,
          11999,
          11499,
          8999,
          7399,
          7790
         ],
         "y0": " ",
         "yaxis": "y"
        },
        {
         "alignmentgroup": "True",
         "hovertemplate": "processor=%{x}<br>price=%{y}<extra></extra>",
         "legendgroup": "Octa",
         "marker": {
          "color": "palegreen"
         },
         "name": "Octa",
         "notched": false,
         "offsetgroup": "Octa",
         "orientation": "v",
         "showlegend": true,
         "type": "box",
         "x": [
          "Octa",
          "Octa",
          "Octa",
          "Octa",
          "Octa",
          "Octa",
          "Octa",
          "Octa",
          "Octa",
          "Octa",
          "Octa",
          "Octa",
          "Octa",
          "Octa"
         ],
         "x0": " ",
         "xaxis": "x",
         "y": [
          69999,
          14450,
          14999,
          15990,
          14990,
          16499,
          6249,
          54999,
          24990,
          21990,
          22999,
          12990,
          9990,
          24990
         ],
         "y0": " ",
         "yaxis": "y"
        },
        {
         "alignmentgroup": "True",
         "hovertemplate": "processor=%{x}<br>price=%{y}<extra></extra>",
         "legendgroup": "Google",
         "marker": {
          "color": "darkred"
         },
         "name": "Google",
         "notched": false,
         "offsetgroup": "Google",
         "orientation": "v",
         "showlegend": true,
         "type": "box",
         "x": [
          "Google",
          "Google",
          "Google",
          "Google",
          "Google",
          "Google",
          "Google"
         ],
         "x0": " ",
         "xaxis": "x",
         "y": [
          29999,
          34990,
          53100,
          54300,
          40480,
          53990,
          70990
         ],
         "y0": " ",
         "yaxis": "y"
        },
        {
         "alignmentgroup": "True",
         "hovertemplate": "processor=%{x}<br>price=%{y}<extra></extra>",
         "legendgroup": "Tiger",
         "marker": {
          "color": "fuchsia"
         },
         "name": "Tiger",
         "notched": false,
         "offsetgroup": "Tiger",
         "orientation": "v",
         "showlegend": true,
         "type": "box",
         "x": [
          "Tiger",
          "Tiger",
          "Tiger",
          "Tiger",
          "Tiger",
          "Tiger",
          "Tiger",
          "Tiger",
          "Tiger",
          "Tiger",
          "Tiger",
          "Tiger",
          "Tiger",
          "Tiger",
          "Tiger",
          "Tiger",
          "Tiger",
          "Tiger",
          "Tiger",
          "Tiger"
         ],
         "x0": " ",
         "xaxis": "x",
         "y": [
          7999,
          13999,
          10999,
          11828,
          8999,
          6299,
          12787,
          8910,
          10499,
          8299,
          12340,
          5999,
          10850,
          8999,
          9499,
          5999,
          7999,
          11399,
          11879,
          8720
         ],
         "y0": " ",
         "yaxis": "y"
        },
        {
         "alignmentgroup": "True",
         "hovertemplate": "processor=%{x}<br>price=%{y}<extra></extra>",
         "legendgroup": "Quad",
         "marker": {
          "color": "green"
         },
         "name": "Quad",
         "notched": false,
         "offsetgroup": "Quad",
         "orientation": "v",
         "showlegend": true,
         "type": "box",
         "x": [
          "Quad",
          "Quad",
          "Quad"
         ],
         "x0": " ",
         "xaxis": "x",
         "y": [
          8099,
          7999,
          6799
         ],
         "y0": " ",
         "yaxis": "y"
        },
        {
         "alignmentgroup": "True",
         "hovertemplate": "processor=%{x}<br>price=%{y}<extra></extra>",
         "legendgroup": "Apple",
         "marker": {
          "color": "red"
         },
         "name": "Apple",
         "notched": false,
         "offsetgroup": "Apple",
         "orientation": "v",
         "showlegend": true,
         "type": "box",
         "x": [
          "Apple"
         ],
         "x0": " ",
         "xaxis": "x",
         "y": [
          71999
         ],
         "y0": " ",
         "yaxis": "y"
        },
        {
         "alignmentgroup": "True",
         "hovertemplate": "processor=%{x}<br>price=%{y}<extra></extra>",
         "legendgroup": "SC9863A,",
         "marker": {
          "color": "lightblue"
         },
         "name": "SC9863A,",
         "notched": false,
         "offsetgroup": "SC9863A,",
         "orientation": "v",
         "showlegend": true,
         "type": "box",
         "x": [
          "SC9863A,",
          "SC9863A,"
         ],
         "x0": " ",
         "xaxis": "x",
         "y": [
          7749,
          6499
         ],
         "y0": " ",
         "yaxis": "y"
        },
        {
         "alignmentgroup": "True",
         "hovertemplate": "processor=%{x}<br>price=%{y}<extra></extra>",
         "legendgroup": "Sanpdragon",
         "marker": {
          "color": "darkorchid"
         },
         "name": "Sanpdragon",
         "notched": false,
         "offsetgroup": "Sanpdragon",
         "orientation": "v",
         "showlegend": true,
         "type": "box",
         "x": [
          "Sanpdragon"
         ],
         "x0": " ",
         "xaxis": "x",
         "y": [
          23999
         ],
         "y0": " ",
         "yaxis": "y"
        },
        {
         "alignmentgroup": "True",
         "hovertemplate": "processor=%{x}<br>price=%{y}<extra></extra>",
         "legendgroup": "Kirin",
         "marker": {
          "color": "gold"
         },
         "name": "Kirin",
         "notched": false,
         "offsetgroup": "Kirin",
         "orientation": "v",
         "showlegend": true,
         "type": "box",
         "x": [
          "Kirin",
          "Kirin",
          "Kirin"
         ],
         "x0": " ",
         "xaxis": "x",
         "y": [
          99990,
          21990,
          10949
         ],
         "y0": " ",
         "yaxis": "y"
        },
        {
         "alignmentgroup": "True",
         "hovertemplate": "processor=%{x}<br>price=%{y}<extra></extra>",
         "legendgroup": "Qualcomm",
         "marker": {
          "color": "palegreen"
         },
         "name": "Qualcomm",
         "notched": false,
         "offsetgroup": "Qualcomm",
         "orientation": "v",
         "showlegend": true,
         "type": "box",
         "x": [
          "Qualcomm",
          "Qualcomm"
         ],
         "x0": " ",
         "xaxis": "x",
         "y": [
          15999,
          10300
         ],
         "y0": " ",
         "yaxis": "y"
        },
        {
         "alignmentgroup": "True",
         "hovertemplate": "processor=%{x}<br>price=%{y}<extra></extra>",
         "legendgroup": "Samsung",
         "marker": {
          "color": "darkred"
         },
         "name": "Samsung",
         "notched": false,
         "offsetgroup": "Samsung",
         "orientation": "v",
         "showlegend": true,
         "type": "box",
         "x": [
          "Samsung"
         ],
         "x0": " ",
         "xaxis": "x",
         "y": [
          17990
         ],
         "y0": " ",
         "yaxis": "y"
        }
       ],
       "layout": {
        "boxmode": "overlay",
        "height": 500,
        "legend": {
         "title": {
          "text": "processor"
         },
         "tracegroupgap": 0
        },
        "margin": {
         "t": 60
        },
        "template": {
         "data": {
          "bar": [
           {
            "error_x": {
             "color": "#f2f5fa"
            },
            "error_y": {
             "color": "#f2f5fa"
            },
            "marker": {
             "line": {
              "color": "rgb(17,17,17)",
              "width": 0.5
             },
             "pattern": {
              "fillmode": "overlay",
              "size": 10,
              "solidity": 0.2
             }
            },
            "type": "bar"
           }
          ],
          "barpolar": [
           {
            "marker": {
             "line": {
              "color": "rgb(17,17,17)",
              "width": 0.5
             },
             "pattern": {
              "fillmode": "overlay",
              "size": 10,
              "solidity": 0.2
             }
            },
            "type": "barpolar"
           }
          ],
          "carpet": [
           {
            "aaxis": {
             "endlinecolor": "#A2B1C6",
             "gridcolor": "#506784",
             "linecolor": "#506784",
             "minorgridcolor": "#506784",
             "startlinecolor": "#A2B1C6"
            },
            "baxis": {
             "endlinecolor": "#A2B1C6",
             "gridcolor": "#506784",
             "linecolor": "#506784",
             "minorgridcolor": "#506784",
             "startlinecolor": "#A2B1C6"
            },
            "type": "carpet"
           }
          ],
          "choropleth": [
           {
            "colorbar": {
             "outlinewidth": 0,
             "ticks": ""
            },
            "type": "choropleth"
           }
          ],
          "contour": [
           {
            "colorbar": {
             "outlinewidth": 0,
             "ticks": ""
            },
            "colorscale": [
             [
              0,
              "#0d0887"
             ],
             [
              0.1111111111111111,
              "#46039f"
             ],
             [
              0.2222222222222222,
              "#7201a8"
             ],
             [
              0.3333333333333333,
              "#9c179e"
             ],
             [
              0.4444444444444444,
              "#bd3786"
             ],
             [
              0.5555555555555556,
              "#d8576b"
             ],
             [
              0.6666666666666666,
              "#ed7953"
             ],
             [
              0.7777777777777778,
              "#fb9f3a"
             ],
             [
              0.8888888888888888,
              "#fdca26"
             ],
             [
              1,
              "#f0f921"
             ]
            ],
            "type": "contour"
           }
          ],
          "contourcarpet": [
           {
            "colorbar": {
             "outlinewidth": 0,
             "ticks": ""
            },
            "type": "contourcarpet"
           }
          ],
          "heatmap": [
           {
            "colorbar": {
             "outlinewidth": 0,
             "ticks": ""
            },
            "colorscale": [
             [
              0,
              "#0d0887"
             ],
             [
              0.1111111111111111,
              "#46039f"
             ],
             [
              0.2222222222222222,
              "#7201a8"
             ],
             [
              0.3333333333333333,
              "#9c179e"
             ],
             [
              0.4444444444444444,
              "#bd3786"
             ],
             [
              0.5555555555555556,
              "#d8576b"
             ],
             [
              0.6666666666666666,
              "#ed7953"
             ],
             [
              0.7777777777777778,
              "#fb9f3a"
             ],
             [
              0.8888888888888888,
              "#fdca26"
             ],
             [
              1,
              "#f0f921"
             ]
            ],
            "type": "heatmap"
           }
          ],
          "heatmapgl": [
           {
            "colorbar": {
             "outlinewidth": 0,
             "ticks": ""
            },
            "colorscale": [
             [
              0,
              "#0d0887"
             ],
             [
              0.1111111111111111,
              "#46039f"
             ],
             [
              0.2222222222222222,
              "#7201a8"
             ],
             [
              0.3333333333333333,
              "#9c179e"
             ],
             [
              0.4444444444444444,
              "#bd3786"
             ],
             [
              0.5555555555555556,
              "#d8576b"
             ],
             [
              0.6666666666666666,
              "#ed7953"
             ],
             [
              0.7777777777777778,
              "#fb9f3a"
             ],
             [
              0.8888888888888888,
              "#fdca26"
             ],
             [
              1,
              "#f0f921"
             ]
            ],
            "type": "heatmapgl"
           }
          ],
          "histogram": [
           {
            "marker": {
             "pattern": {
              "fillmode": "overlay",
              "size": 10,
              "solidity": 0.2
             }
            },
            "type": "histogram"
           }
          ],
          "histogram2d": [
           {
            "colorbar": {
             "outlinewidth": 0,
             "ticks": ""
            },
            "colorscale": [
             [
              0,
              "#0d0887"
             ],
             [
              0.1111111111111111,
              "#46039f"
             ],
             [
              0.2222222222222222,
              "#7201a8"
             ],
             [
              0.3333333333333333,
              "#9c179e"
             ],
             [
              0.4444444444444444,
              "#bd3786"
             ],
             [
              0.5555555555555556,
              "#d8576b"
             ],
             [
              0.6666666666666666,
              "#ed7953"
             ],
             [
              0.7777777777777778,
              "#fb9f3a"
             ],
             [
              0.8888888888888888,
              "#fdca26"
             ],
             [
              1,
              "#f0f921"
             ]
            ],
            "type": "histogram2d"
           }
          ],
          "histogram2dcontour": [
           {
            "colorbar": {
             "outlinewidth": 0,
             "ticks": ""
            },
            "colorscale": [
             [
              0,
              "#0d0887"
             ],
             [
              0.1111111111111111,
              "#46039f"
             ],
             [
              0.2222222222222222,
              "#7201a8"
             ],
             [
              0.3333333333333333,
              "#9c179e"
             ],
             [
              0.4444444444444444,
              "#bd3786"
             ],
             [
              0.5555555555555556,
              "#d8576b"
             ],
             [
              0.6666666666666666,
              "#ed7953"
             ],
             [
              0.7777777777777778,
              "#fb9f3a"
             ],
             [
              0.8888888888888888,
              "#fdca26"
             ],
             [
              1,
              "#f0f921"
             ]
            ],
            "type": "histogram2dcontour"
           }
          ],
          "mesh3d": [
           {
            "colorbar": {
             "outlinewidth": 0,
             "ticks": ""
            },
            "type": "mesh3d"
           }
          ],
          "parcoords": [
           {
            "line": {
             "colorbar": {
              "outlinewidth": 0,
              "ticks": ""
             }
            },
            "type": "parcoords"
           }
          ],
          "pie": [
           {
            "automargin": true,
            "type": "pie"
           }
          ],
          "scatter": [
           {
            "marker": {
             "line": {
              "color": "#283442"
             }
            },
            "type": "scatter"
           }
          ],
          "scatter3d": [
           {
            "line": {
             "colorbar": {
              "outlinewidth": 0,
              "ticks": ""
             }
            },
            "marker": {
             "colorbar": {
              "outlinewidth": 0,
              "ticks": ""
             }
            },
            "type": "scatter3d"
           }
          ],
          "scattercarpet": [
           {
            "marker": {
             "colorbar": {
              "outlinewidth": 0,
              "ticks": ""
             }
            },
            "type": "scattercarpet"
           }
          ],
          "scattergeo": [
           {
            "marker": {
             "colorbar": {
              "outlinewidth": 0,
              "ticks": ""
             }
            },
            "type": "scattergeo"
           }
          ],
          "scattergl": [
           {
            "marker": {
             "line": {
              "color": "#283442"
             }
            },
            "type": "scattergl"
           }
          ],
          "scattermapbox": [
           {
            "marker": {
             "colorbar": {
              "outlinewidth": 0,
              "ticks": ""
             }
            },
            "type": "scattermapbox"
           }
          ],
          "scatterpolar": [
           {
            "marker": {
             "colorbar": {
              "outlinewidth": 0,
              "ticks": ""
             }
            },
            "type": "scatterpolar"
           }
          ],
          "scatterpolargl": [
           {
            "marker": {
             "colorbar": {
              "outlinewidth": 0,
              "ticks": ""
             }
            },
            "type": "scatterpolargl"
           }
          ],
          "scatterternary": [
           {
            "marker": {
             "colorbar": {
              "outlinewidth": 0,
              "ticks": ""
             }
            },
            "type": "scatterternary"
           }
          ],
          "surface": [
           {
            "colorbar": {
             "outlinewidth": 0,
             "ticks": ""
            },
            "colorscale": [
             [
              0,
              "#0d0887"
             ],
             [
              0.1111111111111111,
              "#46039f"
             ],
             [
              0.2222222222222222,
              "#7201a8"
             ],
             [
              0.3333333333333333,
              "#9c179e"
             ],
             [
              0.4444444444444444,
              "#bd3786"
             ],
             [
              0.5555555555555556,
              "#d8576b"
             ],
             [
              0.6666666666666666,
              "#ed7953"
             ],
             [
              0.7777777777777778,
              "#fb9f3a"
             ],
             [
              0.8888888888888888,
              "#fdca26"
             ],
             [
              1,
              "#f0f921"
             ]
            ],
            "type": "surface"
           }
          ],
          "table": [
           {
            "cells": {
             "fill": {
              "color": "#506784"
             },
             "line": {
              "color": "rgb(17,17,17)"
             }
            },
            "header": {
             "fill": {
              "color": "#2a3f5f"
             },
             "line": {
              "color": "rgb(17,17,17)"
             }
            },
            "type": "table"
           }
          ]
         },
         "layout": {
          "annotationdefaults": {
           "arrowcolor": "#f2f5fa",
           "arrowhead": 0,
           "arrowwidth": 1
          },
          "autotypenumbers": "strict",
          "coloraxis": {
           "colorbar": {
            "outlinewidth": 0,
            "ticks": ""
           }
          },
          "colorscale": {
           "diverging": [
            [
             0,
             "#8e0152"
            ],
            [
             0.1,
             "#c51b7d"
            ],
            [
             0.2,
             "#de77ae"
            ],
            [
             0.3,
             "#f1b6da"
            ],
            [
             0.4,
             "#fde0ef"
            ],
            [
             0.5,
             "#f7f7f7"
            ],
            [
             0.6,
             "#e6f5d0"
            ],
            [
             0.7,
             "#b8e186"
            ],
            [
             0.8,
             "#7fbc41"
            ],
            [
             0.9,
             "#4d9221"
            ],
            [
             1,
             "#276419"
            ]
           ],
           "sequential": [
            [
             0,
             "#0d0887"
            ],
            [
             0.1111111111111111,
             "#46039f"
            ],
            [
             0.2222222222222222,
             "#7201a8"
            ],
            [
             0.3333333333333333,
             "#9c179e"
            ],
            [
             0.4444444444444444,
             "#bd3786"
            ],
            [
             0.5555555555555556,
             "#d8576b"
            ],
            [
             0.6666666666666666,
             "#ed7953"
            ],
            [
             0.7777777777777778,
             "#fb9f3a"
            ],
            [
             0.8888888888888888,
             "#fdca26"
            ],
            [
             1,
             "#f0f921"
            ]
           ],
           "sequentialminus": [
            [
             0,
             "#0d0887"
            ],
            [
             0.1111111111111111,
             "#46039f"
            ],
            [
             0.2222222222222222,
             "#7201a8"
            ],
            [
             0.3333333333333333,
             "#9c179e"
            ],
            [
             0.4444444444444444,
             "#bd3786"
            ],
            [
             0.5555555555555556,
             "#d8576b"
            ],
            [
             0.6666666666666666,
             "#ed7953"
            ],
            [
             0.7777777777777778,
             "#fb9f3a"
            ],
            [
             0.8888888888888888,
             "#fdca26"
            ],
            [
             1,
             "#f0f921"
            ]
           ]
          },
          "colorway": [
           "#636efa",
           "#EF553B",
           "#00cc96",
           "#ab63fa",
           "#FFA15A",
           "#19d3f3",
           "#FF6692",
           "#B6E880",
           "#FF97FF",
           "#FECB52"
          ],
          "font": {
           "color": "#f2f5fa"
          },
          "geo": {
           "bgcolor": "rgb(17,17,17)",
           "lakecolor": "rgb(17,17,17)",
           "landcolor": "rgb(17,17,17)",
           "showlakes": true,
           "showland": true,
           "subunitcolor": "#506784"
          },
          "hoverlabel": {
           "align": "left"
          },
          "hovermode": "closest",
          "mapbox": {
           "style": "dark"
          },
          "paper_bgcolor": "rgb(17,17,17)",
          "plot_bgcolor": "rgb(17,17,17)",
          "polar": {
           "angularaxis": {
            "gridcolor": "#506784",
            "linecolor": "#506784",
            "ticks": ""
           },
           "bgcolor": "rgb(17,17,17)",
           "radialaxis": {
            "gridcolor": "#506784",
            "linecolor": "#506784",
            "ticks": ""
           }
          },
          "scene": {
           "xaxis": {
            "backgroundcolor": "rgb(17,17,17)",
            "gridcolor": "#506784",
            "gridwidth": 2,
            "linecolor": "#506784",
            "showbackground": true,
            "ticks": "",
            "zerolinecolor": "#C8D4E3"
           },
           "yaxis": {
            "backgroundcolor": "rgb(17,17,17)",
            "gridcolor": "#506784",
            "gridwidth": 2,
            "linecolor": "#506784",
            "showbackground": true,
            "ticks": "",
            "zerolinecolor": "#C8D4E3"
           },
           "zaxis": {
            "backgroundcolor": "rgb(17,17,17)",
            "gridcolor": "#506784",
            "gridwidth": 2,
            "linecolor": "#506784",
            "showbackground": true,
            "ticks": "",
            "zerolinecolor": "#C8D4E3"
           }
          },
          "shapedefaults": {
           "line": {
            "color": "#f2f5fa"
           }
          },
          "sliderdefaults": {
           "bgcolor": "#C8D4E3",
           "bordercolor": "rgb(17,17,17)",
           "borderwidth": 1,
           "tickwidth": 0
          },
          "ternary": {
           "aaxis": {
            "gridcolor": "#506784",
            "linecolor": "#506784",
            "ticks": ""
           },
           "baxis": {
            "gridcolor": "#506784",
            "linecolor": "#506784",
            "ticks": ""
           },
           "bgcolor": "rgb(17,17,17)",
           "caxis": {
            "gridcolor": "#506784",
            "linecolor": "#506784",
            "ticks": ""
           }
          },
          "title": {
           "x": 0.05
          },
          "updatemenudefaults": {
           "bgcolor": "#506784",
           "borderwidth": 0
          },
          "xaxis": {
           "automargin": true,
           "gridcolor": "#283442",
           "linecolor": "#506784",
           "ticks": "",
           "title": {
            "standoff": 15
           },
           "zerolinecolor": "#283442",
           "zerolinewidth": 2
          },
          "yaxis": {
           "automargin": true,
           "gridcolor": "#283442",
           "linecolor": "#506784",
           "ticks": "",
           "title": {
            "standoff": 15
           },
           "zerolinecolor": "#283442",
           "zerolinewidth": 2
          }
         }
        },
        "width": 1500,
        "xaxis": {
         "anchor": "y",
         "categoryarray": [
          "Snapdragon",
          "Exynos",
          "Dimensity",
          "Bionic",
          "Helio",
          "A13",
          "Unisoc",
          "Octa",
          "Google",
          "Tiger",
          "Quad",
          "Apple",
          "SC9863A,",
          "Sanpdragon",
          "Kirin",
          "Qualcomm",
          "Samsung"
         ],
         "categoryorder": "array",
         "domain": [
          0,
          1
         ],
         "title": {
          "text": "processor"
         }
        },
        "yaxis": {
         "anchor": "x",
         "domain": [
          0,
          1
         ],
         "title": {
          "text": "price"
         }
        }
       }
      }
     },
     "metadata": {},
     "output_type": "display_data"
    }
   ],
   "source": [
    "fig=px.box(data_frame=df,y=\"price\",x=\"processor\",color=\"processor\",color_discrete_sequence=[\"darkred\",\"fuchsia\",\"green\",\"red\",\"lightblue\",\"darkorchid\",\"gold\",\"palegreen\"],\n",
    "          width=1500, height=500)\n",
    "fig.update_layout(template=\"plotly_dark\")                        \n",
    "fig.show()"
   ]
  },
  {
   "cell_type": "code",
   "execution_count": 39,
   "metadata": {},
   "outputs": [
    {
     "data": {
      "application/vnd.plotly.v1+json": {
       "config": {
        "plotlyServerURL": "https://plot.ly"
       },
       "data": [
        {
         "hovertemplate": "price=%{x}<br>rating=%{y}<extra></extra>",
         "legendgroup": "",
         "marker": {
          "color": "#B0E471",
          "symbol": "circle"
         },
         "mode": "markers",
         "name": "",
         "orientation": "v",
         "showlegend": false,
         "type": "scatter",
         "x": [
          54999,
          19989,
          16499,
          14999,
          24999,
          16999,
          65999,
          29999,
          26749,
          28999,
          18999,
          18999,
          24762,
          16990,
          62999,
          9999,
          45999,
          32999,
          14499,
          39999,
          35999,
          14999,
          17859,
          42990,
          31239,
          21995,
          129990,
          27999,
          19999,
          20999,
          27990,
          38999,
          23790,
          39999,
          29990,
          32999,
          28499,
          21999,
          19999,
          18999,
          27999,
          18499,
          17478,
          11936,
          8950,
          12489,
          18999,
          29999,
          11990,
          18999,
          13999,
          14965,
          74999,
          10999,
          84990,
          10499,
          17990,
          29990,
          18499,
          16499,
          14999,
          35499,
          60999,
          32999,
          15999,
          9499,
          27994,
          13989,
          44999,
          13999,
          119900,
          27660,
          24999,
          8388,
          15999,
          20999,
          13999,
          19990,
          13999,
          22999,
          22999,
          16999,
          14290,
          13489,
          22990,
          16499,
          9999,
          12499,
          12499,
          59999,
          15990,
          119990,
          19999,
          23990,
          12999,
          19990,
          43999,
          49999,
          15999,
          36999,
          39999,
          51999,
          22999,
          31999,
          29340,
          25289,
          21788,
          69999,
          70990,
          34999,
          33900,
          29999,
          18999,
          19499,
          24994,
          10999,
          24999,
          25999,
          34990,
          13466,
          9999,
          7999,
          28249,
          16499,
          22999,
          46999,
          13999,
          13490,
          28999,
          15499,
          39999,
          12999,
          14999,
          8499,
          24990,
          16999,
          9589,
          40999,
          19988,
          11999,
          142990,
          30990,
          19499,
          25969,
          28999,
          14999,
          14999,
          129900,
          58990,
          41990,
          10999,
          11999,
          16999,
          30990,
          17999,
          20499,
          20490,
          15490,
          29990,
          15499,
          11999,
          10999,
          21990,
          31999,
          11999,
          36999,
          6999,
          39999,
          14999,
          14499,
          27999,
          20499,
          8099,
          10999,
          3499,
          34999,
          39999,
          11828,
          45999,
          18999,
          17999,
          8499,
          17999,
          14450,
          12999,
          11499,
          35999,
          34999,
          11999,
          27994,
          139990,
          39999,
          15499,
          18999,
          10999,
          27999,
          9999,
          31994,
          9299,
          29990,
          25900,
          16999,
          24999,
          12188,
          7499,
          17999,
          24999,
          45999,
          58990,
          11999,
          11999,
          18990,
          14499,
          10499,
          26990,
          19990,
          24999,
          13969,
          44999,
          24999,
          53100,
          16999,
          21899,
          75999,
          25999,
          46990,
          9999,
          49999,
          17999,
          16940,
          17990,
          20990,
          51999,
          64449,
          8990,
          19999,
          13499,
          15499,
          6499,
          71999,
          36499,
          15999,
          31994,
          34999,
          18999,
          39990,
          16499,
          54300,
          9999,
          15990,
          22700,
          50990,
          64900,
          13799,
          8999,
          89999,
          21994,
          69990,
          12999,
          24990,
          19990,
          26999,
          19999,
          16900,
          19999,
          182999,
          12999,
          15999,
          13999,
          7749,
          24999,
          25895,
          46990,
          7499,
          7790,
          25999,
          6299,
          12999,
          11999,
          21890,
          69999,
          55999,
          55999,
          14999,
          25994,
          42999,
          33499,
          16999,
          29990,
          12944,
          29990,
          16999,
          64999,
          109999,
          84999,
          27499,
          8999,
          40480,
          17999,
          8999,
          14999,
          19990,
          23399,
          22998,
          25999,
          11700,
          15999,
          64800,
          14590,
          7499,
          21999,
          11999,
          12999,
          20990,
          72999,
          21999,
          9499,
          7499,
          18000,
          38999,
          14990,
          15499,
          9999,
          29999,
          15999,
          59990,
          34990,
          45999,
          119990,
          89990,
          50999,
          7999,
          43999,
          18499,
          32999,
          13499,
          35489,
          20120,
          42999,
          24999,
          20999,
          28994,
          48900,
          22494,
          8990,
          8890,
          18498,
          23999,
          22994,
          12990,
          14999,
          18499,
          14990,
          70990,
          12120,
          29990,
          20999,
          11999,
          17990,
          14990,
          34999,
          149900,
          13999,
          16999,
          36760,
          23499,
          75990,
          21990,
          18999,
          7249,
          16990,
          23890,
          26380,
          27999,
          10850,
          19999,
          129990,
          19990,
          39990,
          36994,
          14700,
          34990,
          34999,
          13990,
          650000,
          14859,
          17999,
          34990,
          14990,
          8999,
          8999,
          15824,
          22494,
          19650,
          6999,
          16499,
          15999,
          72999,
          26999,
          130990,
          12787,
          9999,
          54999,
          15490,
          25999,
          9499,
          7999,
          63990,
          15990,
          34949,
          8799,
          12390,
          11499,
          42990,
          34999,
          11999,
          10499,
          8910,
          24990,
          17999,
          22999,
          21990,
          12364,
          39990,
          11999,
          3990,
          10499,
          239999,
          21999,
          15999,
          69990,
          12990,
          15999,
          23999,
          12999,
          60990,
          8859,
          33749,
          15990,
          24990,
          14999,
          17990,
          24990,
          11600,
          8299,
          11999,
          89999,
          27999,
          15990,
          7289,
          30990,
          15499,
          8499,
          14490,
          15490,
          14990,
          15999,
          36000,
          26990,
          10630,
          42990,
          24990,
          14489,
          16490,
          24494,
          7999,
          23990,
          49959,
          129900,
          19990,
          14990,
          23269,
          13999,
          35389,
          9499,
          12340,
          10799,
          14990,
          61990,
          16990,
          19990,
          57999,
          46990,
          20990,
          17990,
          17499,
          17999,
          14999,
          19980,
          35990,
          15999,
          41999,
          25999,
          7990,
          29990,
          27990,
          29999,
          8999,
          13999,
          11499,
          39999,
          27999,
          24499,
          60999,
          110999,
          54999,
          16490,
          24990,
          9950,
          12999,
          19999,
          32999,
          28498,
          15998,
          59990,
          16990,
          27999,
          13499,
          16499,
          10999,
          13990,
          9999,
          31994,
          24820,
          22990,
          59990,
          8999,
          10499,
          9990,
          12490,
          13990,
          17990,
          24999,
          21999,
          19999,
          109900,
          19990,
          11499,
          13999,
          22990,
          28990,
          27999,
          19990,
          22999,
          17999,
          15499,
          17990,
          13999,
          13499,
          14799,
          6999,
          11999,
          23994,
          139900,
          69999,
          57999,
          86000,
          11999,
          14999,
          26499,
          8990,
          95999,
          47990,
          17990,
          22999,
          39999,
          38999,
          12490,
          39990,
          16685,
          6999,
          71999,
          26999,
          16499,
          17990,
          8999,
          39900,
          5999,
          34999,
          16990,
          22990,
          19990,
          10850,
          13499,
          6699,
          17999,
          13990,
          8968,
          7320,
          8999,
          13999,
          14746,
          16999,
          25990,
          16499,
          19999,
          23500,
          54999,
          19499,
          39999,
          92999,
          32990,
          14499,
          13999,
          12990,
          19990,
          23990,
          17999,
          16999,
          9999,
          8299,
          82199,
          49990,
          11999,
          29990,
          139900,
          14990,
          15988,
          11725,
          17994,
          134999,
          25595,
          7499,
          10890,
          18990,
          19990,
          15990,
          58999,
          12500,
          29999,
          31990,
          29999,
          31990,
          48990,
          99990,
          9499,
          162990,
          24999,
          82990,
          15999,
          8999,
          17990,
          12999,
          29990,
          27990,
          14999,
          44990,
          22490,
          11499,
          27000,
          29999,
          27990,
          74999,
          9990,
          19990,
          13279,
          11000,
          12999,
          7299,
          7999,
          54990,
          49990,
          49990,
          15499,
          169900,
          53990,
          18990,
          16999,
          34999,
          46999,
          8499,
          16999,
          11499,
          88999,
          15990,
          24990,
          6249,
          12499,
          6499,
          179900,
          11990,
          26990,
          13499,
          5999,
          8499,
          11990,
          10990,
          16999,
          12199,
          11490,
          11499,
          59450,
          12799,
          83000,
          14490,
          9490,
          25000,
          15000,
          20990,
          34999,
          29999,
          11999,
          12999,
          124990,
          28999,
          12999,
          28499,
          104999,
          172999,
          17990,
          13774,
          8999,
          18990,
          14999,
          7999,
          39999,
          11990,
          12999,
          54999,
          24990,
          59999,
          19999,
          16999,
          14999,
          29990,
          13990,
          17999,
          11399,
          19990,
          15499,
          12499,
          91999,
          9690,
          32990,
          42990,
          18699,
          10990,
          30990,
          59999,
          23999,
          9999,
          119900,
          9299,
          12989,
          29990,
          12490,
          27999,
          21990,
          20000,
          11990,
          11989,
          11490,
          11490,
          15999,
          17990,
          78990,
          10949,
          10300,
          45999,
          21990,
          19990,
          32990,
          14499,
          41990,
          13990,
          10490,
          29990,
          22990,
          47990,
          19999,
          29999,
          11879,
          28990,
          39990,
          15999,
          22990,
          149999,
          11499,
          22999,
          7999,
          31999,
          30990,
          7999,
          10999,
          14990,
          14499,
          44999,
          17999,
          19999,
          38700,
          19999,
          10999,
          16990,
          55999,
          67999,
          9999,
          14439,
          9990,
          24999,
          480000,
          16999,
          15990,
          84990,
          21999,
          8999,
          20999,
          32990,
          9022,
          8399,
          9999,
          8390,
          19999,
          13999,
          29999,
          8990,
          24990,
          47990,
          40990,
          22999,
          12990,
          14999,
          42999,
          14999,
          22990,
          29990,
          7399,
          17999,
          12799,
          26999,
          22999,
          147900,
          44999,
          7790,
          39990,
          9999,
          22990,
          32999,
          32990,
          14999,
          12499,
          39990,
          6499,
          18499,
          30994,
          32999,
          10499,
          19999,
          17499,
          10990,
          19000,
          13990,
          10499,
          6490,
          54999,
          9990,
          24999,
          59990,
          9990,
          39990,
          21490,
          7999,
          8990,
          13999,
          13990,
          14999,
          42990,
          6799,
          25899,
          54999,
          49990,
          32990,
          8720,
          69990,
          70990,
          34990,
          14990,
          28990,
          19990,
          24990
         ],
         "xaxis": "x",
         "y": [
          89,
          81,
          75,
          81,
          82,
          80,
          81,
          86,
          85,
          84,
          82,
          79,
          79,
          80,
          79,
          65,
          86,
          86,
          72,
          85,
          85,
          80,
          76,
          87,
          88,
          84,
          76,
          83,
          84,
          81,
          83,
          73,
          85,
          87,
          87,
          83,
          83,
          83,
          83,
          87,
          85,
          80,
          81,
          76,
          64,
          68,
          79,
          82,
          64,
          83,
          74,
          75,
          82,
          78,
          89,
          75,
          78,
          85,
          79,
          75,
          81,
          86,
          89,
          87,
          78,
          62,
          86,
          75,
          85,
          79,
          83,
          83,
          75,
          66,
          83,
          82,
          75,
          83,
          75,
          83,
          79,
          79,
          80,
          69,
          83,
          84,
          67,
          75,
          72,
          88,
          78,
          75,
          83,
          83,
          80,
          82,
          87,
          86,
          79,
          87,
          85,
          74,
          82,
          87,
          83,
          87,
          78,
          83,
          88,
          89,
          85,
          71,
          84,
          84,
          83,
          78,
          85,
          82,
          69,
          74,
          76,
          71,
          86,
          82,
          87,
          75,
          74,
          78,
          82,
          78,
          86,
          76,
          69,
          68,
          83,
          84,
          71,
          74,
          79,
          75,
          79,
          87,
          85,
          82,
          82,
          81,
          74,
          84,
          88,
          88,
          74,
          79,
          79,
          83,
          75,
          83,
          81,
          77,
          61,
          79,
          80,
          74,
          82,
          85,
          77,
          89,
          62,
          89,
          78,
          79,
          84,
          86,
          60,
          65,
          63,
          85,
          88,
          70,
          86,
          81,
          84,
          66,
          76,
          75,
          79,
          75,
          87,
          76,
          73,
          82,
          77,
          86,
          79,
          80,
          73,
          81,
          74,
          85,
          65,
          84,
          78,
          78,
          85,
          79,
          68,
          79,
          79,
          86,
          89,
          74,
          77,
          76,
          77,
          66,
          86,
          82,
          89,
          69,
          83,
          84,
          86,
          81,
          82,
          82,
          85,
          84,
          75,
          89,
          87,
          80,
          81,
          84,
          79,
          87,
          71,
          77,
          79,
          78,
          65,
          60,
          89,
          78,
          87,
          84,
          81,
          88,
          82,
          89,
          73,
          77,
          86,
          89,
          79,
          77,
          65,
          88,
          84,
          70,
          75,
          83,
          82,
          82,
          81,
          83,
          78,
          78,
          75,
          82,
          82,
          61,
          81,
          82,
          89,
          64,
          60,
          85,
          60,
          77,
          75,
          83,
          84,
          75,
          87,
          75,
          85,
          85,
          89,
          80,
          82,
          71,
          84,
          80,
          89,
          87,
          83,
          85,
          69,
          84,
          81,
          67,
          77,
          82,
          80,
          82,
          82,
          74,
          84,
          89,
          80,
          68,
          82,
          71,
          79,
          81,
          79,
          79,
          75,
          66,
          62,
          85,
          77,
          70,
          69,
          86,
          84,
          89,
          84,
          75,
          85,
          88,
          87,
          65,
          88,
          83,
          85,
          80,
          86,
          78,
          81,
          78,
          82,
          84,
          88,
          86,
          61,
          63,
          82,
          81,
          81,
          71,
          78,
          80,
          78,
          88,
          75,
          84,
          82,
          80,
          73,
          77,
          83,
          79,
          75,
          79,
          87,
          81,
          87,
          76,
          80,
          66,
          75,
          80,
          83,
          87,
          70,
          81,
          76,
          81,
          88,
          87,
          76,
          86,
          76,
          75,
          62,
          79,
          84,
          85,
          85,
          65,
          71,
          84,
          86,
          82,
          61,
          80,
          75,
          88,
          84,
          75,
          71,
          72,
          86,
          79,
          84,
          68,
          70,
          86,
          73,
          85,
          72,
          74,
          73,
          86,
          82,
          75,
          70,
          66,
          85,
          84,
          86,
          85,
          76,
          86,
          77,
          60,
          65,
          81,
          84,
          80,
          86,
          71,
          74,
          84,
          75,
          86,
          67,
          84,
          63,
          84,
          76,
          76,
          75,
          74,
          62,
          78,
          88,
          77,
          69,
          60,
          86,
          77,
          66,
          80,
          80,
          78,
          75,
          82,
          86,
          71,
          85,
          77,
          77,
          73,
          82,
          61,
          85,
          89,
          83,
          80,
          67,
          85,
          75,
          85,
          62,
          76,
          74,
          73,
          89,
          80,
          84,
          87,
          87,
          77,
          82,
          82,
          80,
          74,
          82,
          85,
          78,
          88,
          83,
          65,
          84,
          83,
          84,
          68,
          81,
          71,
          87,
          84,
          79,
          86,
          89,
          89,
          80,
          83,
          66,
          75,
          83,
          84,
          81,
          71,
          89,
          78,
          82,
          75,
          78,
          66,
          71,
          74,
          83,
          83,
          83,
          88,
          62,
          72,
          75,
          76,
          69,
          79,
          83,
          85,
          77,
          77,
          80,
          69,
          75,
          82,
          84,
          85,
          82,
          83,
          82,
          81,
          84,
          77,
          73,
          79,
          62,
          69,
          85,
          80,
          89,
          89,
          87,
          71,
          77,
          81,
          62,
          82,
          85,
          81,
          83,
          86,
          88,
          63,
          86,
          80,
          66,
          86,
          84,
          75,
          74,
          68,
          63,
          60,
          76,
          77,
          84,
          84,
          74,
          75,
          61,
          80,
          69,
          72,
          60,
          69,
          75,
          79,
          83,
          83,
          78,
          81,
          80,
          85,
          80,
          83,
          89,
          84,
          72,
          70,
          73,
          84,
          79,
          77,
          80,
          68,
          63,
          89,
          84,
          71,
          82,
          84,
          74,
          79,
          76,
          80,
          86,
          81,
          67,
          74,
          83,
          82,
          80,
          89,
          71,
          82,
          86,
          86,
          84,
          87,
          85,
          65,
          89,
          80,
          72,
          79,
          64,
          73,
          77,
          83,
          83,
          80,
          87,
          87,
          75,
          84,
          86,
          84,
          89,
          72,
          82,
          75,
          68,
          78,
          61,
          61,
          86,
          77,
          60,
          71,
          78,
          75,
          80,
          76,
          86,
          89,
          66,
          76,
          69,
          88,
          81,
          83,
          61,
          69,
          61,
          86,
          68,
          82,
          76,
          60,
          67,
          71,
          77,
          80,
          70,
          72,
          74,
          88,
          76,
          88,
          80,
          64,
          78,
          65,
          70,
          78,
          80,
          67,
          72,
          89,
          85,
          77,
          82,
          83,
          77,
          79,
          76,
          64,
          75,
          77,
          61,
          85,
          67,
          77,
          77,
          72,
          88,
          72,
          79,
          60,
          76,
          69,
          81,
          73,
          79,
          74,
          77,
          80,
          71,
          85,
          87,
          82,
          76,
          85,
          89,
          83,
          69,
          80,
          67,
          77,
          83,
          72,
          75,
          81,
          73,
          74,
          75,
          66,
          68,
          67,
          69,
          86,
          66,
          65,
          88,
          63,
          76,
          84,
          77,
          85,
          67,
          67,
          82,
          82,
          80,
          84,
          83,
          74,
          84,
          85,
          78,
          82,
          87,
          75,
          84,
          70,
          82,
          78,
          64,
          74,
          79,
          77,
          86,
          83,
          83,
          84,
          73,
          72,
          68,
          75,
          76,
          66,
          77,
          64,
          85,
          88,
          78,
          62,
          75,
          78,
          66,
          79,
          84,
          70,
          61,
          64,
          63,
          82,
          71,
          85,
          60,
          80,
          86,
          86,
          74,
          63,
          79,
          86,
          78,
          83,
          81,
          62,
          80,
          77,
          86,
          82,
          84,
          84,
          68,
          87,
          65,
          80,
          79,
          85,
          74,
          74,
          84,
          61,
          76,
          85,
          78,
          73,
          82,
          75,
          69,
          82,
          70,
          72,
          61,
          88,
          65,
          79,
          88,
          63,
          78,
          70,
          70,
          67,
          75,
          72,
          84,
          87,
          61,
          72,
          89,
          89,
          86,
          64,
          89,
          80,
          83,
          75,
          85,
          80,
          74
         ],
         "yaxis": "y"
        }
       ],
       "layout": {
        "height": 500,
        "legend": {
         "tracegroupgap": 0
        },
        "template": {
         "data": {
          "bar": [
           {
            "error_x": {
             "color": "#f2f5fa"
            },
            "error_y": {
             "color": "#f2f5fa"
            },
            "marker": {
             "line": {
              "color": "rgb(17,17,17)",
              "width": 0.5
             },
             "pattern": {
              "fillmode": "overlay",
              "size": 10,
              "solidity": 0.2
             }
            },
            "type": "bar"
           }
          ],
          "barpolar": [
           {
            "marker": {
             "line": {
              "color": "rgb(17,17,17)",
              "width": 0.5
             },
             "pattern": {
              "fillmode": "overlay",
              "size": 10,
              "solidity": 0.2
             }
            },
            "type": "barpolar"
           }
          ],
          "carpet": [
           {
            "aaxis": {
             "endlinecolor": "#A2B1C6",
             "gridcolor": "#506784",
             "linecolor": "#506784",
             "minorgridcolor": "#506784",
             "startlinecolor": "#A2B1C6"
            },
            "baxis": {
             "endlinecolor": "#A2B1C6",
             "gridcolor": "#506784",
             "linecolor": "#506784",
             "minorgridcolor": "#506784",
             "startlinecolor": "#A2B1C6"
            },
            "type": "carpet"
           }
          ],
          "choropleth": [
           {
            "colorbar": {
             "outlinewidth": 0,
             "ticks": ""
            },
            "type": "choropleth"
           }
          ],
          "contour": [
           {
            "colorbar": {
             "outlinewidth": 0,
             "ticks": ""
            },
            "colorscale": [
             [
              0,
              "#0d0887"
             ],
             [
              0.1111111111111111,
              "#46039f"
             ],
             [
              0.2222222222222222,
              "#7201a8"
             ],
             [
              0.3333333333333333,
              "#9c179e"
             ],
             [
              0.4444444444444444,
              "#bd3786"
             ],
             [
              0.5555555555555556,
              "#d8576b"
             ],
             [
              0.6666666666666666,
              "#ed7953"
             ],
             [
              0.7777777777777778,
              "#fb9f3a"
             ],
             [
              0.8888888888888888,
              "#fdca26"
             ],
             [
              1,
              "#f0f921"
             ]
            ],
            "type": "contour"
           }
          ],
          "contourcarpet": [
           {
            "colorbar": {
             "outlinewidth": 0,
             "ticks": ""
            },
            "type": "contourcarpet"
           }
          ],
          "heatmap": [
           {
            "colorbar": {
             "outlinewidth": 0,
             "ticks": ""
            },
            "colorscale": [
             [
              0,
              "#0d0887"
             ],
             [
              0.1111111111111111,
              "#46039f"
             ],
             [
              0.2222222222222222,
              "#7201a8"
             ],
             [
              0.3333333333333333,
              "#9c179e"
             ],
             [
              0.4444444444444444,
              "#bd3786"
             ],
             [
              0.5555555555555556,
              "#d8576b"
             ],
             [
              0.6666666666666666,
              "#ed7953"
             ],
             [
              0.7777777777777778,
              "#fb9f3a"
             ],
             [
              0.8888888888888888,
              "#fdca26"
             ],
             [
              1,
              "#f0f921"
             ]
            ],
            "type": "heatmap"
           }
          ],
          "heatmapgl": [
           {
            "colorbar": {
             "outlinewidth": 0,
             "ticks": ""
            },
            "colorscale": [
             [
              0,
              "#0d0887"
             ],
             [
              0.1111111111111111,
              "#46039f"
             ],
             [
              0.2222222222222222,
              "#7201a8"
             ],
             [
              0.3333333333333333,
              "#9c179e"
             ],
             [
              0.4444444444444444,
              "#bd3786"
             ],
             [
              0.5555555555555556,
              "#d8576b"
             ],
             [
              0.6666666666666666,
              "#ed7953"
             ],
             [
              0.7777777777777778,
              "#fb9f3a"
             ],
             [
              0.8888888888888888,
              "#fdca26"
             ],
             [
              1,
              "#f0f921"
             ]
            ],
            "type": "heatmapgl"
           }
          ],
          "histogram": [
           {
            "marker": {
             "pattern": {
              "fillmode": "overlay",
              "size": 10,
              "solidity": 0.2
             }
            },
            "type": "histogram"
           }
          ],
          "histogram2d": [
           {
            "colorbar": {
             "outlinewidth": 0,
             "ticks": ""
            },
            "colorscale": [
             [
              0,
              "#0d0887"
             ],
             [
              0.1111111111111111,
              "#46039f"
             ],
             [
              0.2222222222222222,
              "#7201a8"
             ],
             [
              0.3333333333333333,
              "#9c179e"
             ],
             [
              0.4444444444444444,
              "#bd3786"
             ],
             [
              0.5555555555555556,
              "#d8576b"
             ],
             [
              0.6666666666666666,
              "#ed7953"
             ],
             [
              0.7777777777777778,
              "#fb9f3a"
             ],
             [
              0.8888888888888888,
              "#fdca26"
             ],
             [
              1,
              "#f0f921"
             ]
            ],
            "type": "histogram2d"
           }
          ],
          "histogram2dcontour": [
           {
            "colorbar": {
             "outlinewidth": 0,
             "ticks": ""
            },
            "colorscale": [
             [
              0,
              "#0d0887"
             ],
             [
              0.1111111111111111,
              "#46039f"
             ],
             [
              0.2222222222222222,
              "#7201a8"
             ],
             [
              0.3333333333333333,
              "#9c179e"
             ],
             [
              0.4444444444444444,
              "#bd3786"
             ],
             [
              0.5555555555555556,
              "#d8576b"
             ],
             [
              0.6666666666666666,
              "#ed7953"
             ],
             [
              0.7777777777777778,
              "#fb9f3a"
             ],
             [
              0.8888888888888888,
              "#fdca26"
             ],
             [
              1,
              "#f0f921"
             ]
            ],
            "type": "histogram2dcontour"
           }
          ],
          "mesh3d": [
           {
            "colorbar": {
             "outlinewidth": 0,
             "ticks": ""
            },
            "type": "mesh3d"
           }
          ],
          "parcoords": [
           {
            "line": {
             "colorbar": {
              "outlinewidth": 0,
              "ticks": ""
             }
            },
            "type": "parcoords"
           }
          ],
          "pie": [
           {
            "automargin": true,
            "type": "pie"
           }
          ],
          "scatter": [
           {
            "marker": {
             "line": {
              "color": "#283442"
             }
            },
            "type": "scatter"
           }
          ],
          "scatter3d": [
           {
            "line": {
             "colorbar": {
              "outlinewidth": 0,
              "ticks": ""
             }
            },
            "marker": {
             "colorbar": {
              "outlinewidth": 0,
              "ticks": ""
             }
            },
            "type": "scatter3d"
           }
          ],
          "scattercarpet": [
           {
            "marker": {
             "colorbar": {
              "outlinewidth": 0,
              "ticks": ""
             }
            },
            "type": "scattercarpet"
           }
          ],
          "scattergeo": [
           {
            "marker": {
             "colorbar": {
              "outlinewidth": 0,
              "ticks": ""
             }
            },
            "type": "scattergeo"
           }
          ],
          "scattergl": [
           {
            "marker": {
             "line": {
              "color": "#283442"
             }
            },
            "type": "scattergl"
           }
          ],
          "scattermapbox": [
           {
            "marker": {
             "colorbar": {
              "outlinewidth": 0,
              "ticks": ""
             }
            },
            "type": "scattermapbox"
           }
          ],
          "scatterpolar": [
           {
            "marker": {
             "colorbar": {
              "outlinewidth": 0,
              "ticks": ""
             }
            },
            "type": "scatterpolar"
           }
          ],
          "scatterpolargl": [
           {
            "marker": {
             "colorbar": {
              "outlinewidth": 0,
              "ticks": ""
             }
            },
            "type": "scatterpolargl"
           }
          ],
          "scatterternary": [
           {
            "marker": {
             "colorbar": {
              "outlinewidth": 0,
              "ticks": ""
             }
            },
            "type": "scatterternary"
           }
          ],
          "surface": [
           {
            "colorbar": {
             "outlinewidth": 0,
             "ticks": ""
            },
            "colorscale": [
             [
              0,
              "#0d0887"
             ],
             [
              0.1111111111111111,
              "#46039f"
             ],
             [
              0.2222222222222222,
              "#7201a8"
             ],
             [
              0.3333333333333333,
              "#9c179e"
             ],
             [
              0.4444444444444444,
              "#bd3786"
             ],
             [
              0.5555555555555556,
              "#d8576b"
             ],
             [
              0.6666666666666666,
              "#ed7953"
             ],
             [
              0.7777777777777778,
              "#fb9f3a"
             ],
             [
              0.8888888888888888,
              "#fdca26"
             ],
             [
              1,
              "#f0f921"
             ]
            ],
            "type": "surface"
           }
          ],
          "table": [
           {
            "cells": {
             "fill": {
              "color": "#506784"
             },
             "line": {
              "color": "rgb(17,17,17)"
             }
            },
            "header": {
             "fill": {
              "color": "#2a3f5f"
             },
             "line": {
              "color": "rgb(17,17,17)"
             }
            },
            "type": "table"
           }
          ]
         },
         "layout": {
          "annotationdefaults": {
           "arrowcolor": "#f2f5fa",
           "arrowhead": 0,
           "arrowwidth": 1
          },
          "autotypenumbers": "strict",
          "coloraxis": {
           "colorbar": {
            "outlinewidth": 0,
            "ticks": ""
           }
          },
          "colorscale": {
           "diverging": [
            [
             0,
             "#8e0152"
            ],
            [
             0.1,
             "#c51b7d"
            ],
            [
             0.2,
             "#de77ae"
            ],
            [
             0.3,
             "#f1b6da"
            ],
            [
             0.4,
             "#fde0ef"
            ],
            [
             0.5,
             "#f7f7f7"
            ],
            [
             0.6,
             "#e6f5d0"
            ],
            [
             0.7,
             "#b8e186"
            ],
            [
             0.8,
             "#7fbc41"
            ],
            [
             0.9,
             "#4d9221"
            ],
            [
             1,
             "#276419"
            ]
           ],
           "sequential": [
            [
             0,
             "#0d0887"
            ],
            [
             0.1111111111111111,
             "#46039f"
            ],
            [
             0.2222222222222222,
             "#7201a8"
            ],
            [
             0.3333333333333333,
             "#9c179e"
            ],
            [
             0.4444444444444444,
             "#bd3786"
            ],
            [
             0.5555555555555556,
             "#d8576b"
            ],
            [
             0.6666666666666666,
             "#ed7953"
            ],
            [
             0.7777777777777778,
             "#fb9f3a"
            ],
            [
             0.8888888888888888,
             "#fdca26"
            ],
            [
             1,
             "#f0f921"
            ]
           ],
           "sequentialminus": [
            [
             0,
             "#0d0887"
            ],
            [
             0.1111111111111111,
             "#46039f"
            ],
            [
             0.2222222222222222,
             "#7201a8"
            ],
            [
             0.3333333333333333,
             "#9c179e"
            ],
            [
             0.4444444444444444,
             "#bd3786"
            ],
            [
             0.5555555555555556,
             "#d8576b"
            ],
            [
             0.6666666666666666,
             "#ed7953"
            ],
            [
             0.7777777777777778,
             "#fb9f3a"
            ],
            [
             0.8888888888888888,
             "#fdca26"
            ],
            [
             1,
             "#f0f921"
            ]
           ]
          },
          "colorway": [
           "#636efa",
           "#EF553B",
           "#00cc96",
           "#ab63fa",
           "#FFA15A",
           "#19d3f3",
           "#FF6692",
           "#B6E880",
           "#FF97FF",
           "#FECB52"
          ],
          "font": {
           "color": "#f2f5fa"
          },
          "geo": {
           "bgcolor": "rgb(17,17,17)",
           "lakecolor": "rgb(17,17,17)",
           "landcolor": "rgb(17,17,17)",
           "showlakes": true,
           "showland": true,
           "subunitcolor": "#506784"
          },
          "hoverlabel": {
           "align": "left"
          },
          "hovermode": "closest",
          "mapbox": {
           "style": "dark"
          },
          "paper_bgcolor": "rgb(17,17,17)",
          "plot_bgcolor": "rgb(17,17,17)",
          "polar": {
           "angularaxis": {
            "gridcolor": "#506784",
            "linecolor": "#506784",
            "ticks": ""
           },
           "bgcolor": "rgb(17,17,17)",
           "radialaxis": {
            "gridcolor": "#506784",
            "linecolor": "#506784",
            "ticks": ""
           }
          },
          "scene": {
           "xaxis": {
            "backgroundcolor": "rgb(17,17,17)",
            "gridcolor": "#506784",
            "gridwidth": 2,
            "linecolor": "#506784",
            "showbackground": true,
            "ticks": "",
            "zerolinecolor": "#C8D4E3"
           },
           "yaxis": {
            "backgroundcolor": "rgb(17,17,17)",
            "gridcolor": "#506784",
            "gridwidth": 2,
            "linecolor": "#506784",
            "showbackground": true,
            "ticks": "",
            "zerolinecolor": "#C8D4E3"
           },
           "zaxis": {
            "backgroundcolor": "rgb(17,17,17)",
            "gridcolor": "#506784",
            "gridwidth": 2,
            "linecolor": "#506784",
            "showbackground": true,
            "ticks": "",
            "zerolinecolor": "#C8D4E3"
           }
          },
          "shapedefaults": {
           "line": {
            "color": "#f2f5fa"
           }
          },
          "sliderdefaults": {
           "bgcolor": "#C8D4E3",
           "bordercolor": "rgb(17,17,17)",
           "borderwidth": 1,
           "tickwidth": 0
          },
          "ternary": {
           "aaxis": {
            "gridcolor": "#506784",
            "linecolor": "#506784",
            "ticks": ""
           },
           "baxis": {
            "gridcolor": "#506784",
            "linecolor": "#506784",
            "ticks": ""
           },
           "bgcolor": "rgb(17,17,17)",
           "caxis": {
            "gridcolor": "#506784",
            "linecolor": "#506784",
            "ticks": ""
           }
          },
          "title": {
           "x": 0.05
          },
          "updatemenudefaults": {
           "bgcolor": "#506784",
           "borderwidth": 0
          },
          "xaxis": {
           "automargin": true,
           "gridcolor": "#283442",
           "linecolor": "#506784",
           "ticks": "",
           "title": {
            "standoff": 15
           },
           "zerolinecolor": "#283442",
           "zerolinewidth": 2
          },
          "yaxis": {
           "automargin": true,
           "gridcolor": "#283442",
           "linecolor": "#506784",
           "ticks": "",
           "title": {
            "standoff": 15
           },
           "zerolinecolor": "#283442",
           "zerolinewidth": 2
          }
         }
        },
        "title": {
         "font": {
          "size": 20
         },
         "text": "<b>Relationship between Rating and Price"
        },
        "width": 750,
        "xaxis": {
         "anchor": "y",
         "domain": [
          0,
          1
         ],
         "title": {
          "text": "price"
         }
        },
        "yaxis": {
         "anchor": "x",
         "domain": [
          0,
          1
         ],
         "title": {
          "text": "rating"
         }
        }
       }
      }
     },
     "metadata": {},
     "output_type": "display_data"
    }
   ],
   "source": [
    "fig=px.scatter(df, y=\"rating\",x=\"price\",color_discrete_sequence=[\"#B0E471\"],\n",
    "               title=\"<b>Relationship between Rating and Price\",\n",
    "               width=750, height=500)\n",
    "fig.update_layout(template=\"plotly_dark\")\n",
    "fig.update_layout(title_font_size=20)\n",
    "fig.show()"
   ]
  },
  {
   "cell_type": "code",
   "execution_count": 40,
   "metadata": {},
   "outputs": [
    {
     "data": {
      "application/vnd.plotly.v1+json": {
       "config": {
        "plotlyServerURL": "https://plot.ly"
       },
       "data": [
        {
         "alignmentgroup": "True",
         "bingroup": "x",
         "hovertemplate": "ram=12 GB RAM<br>company=%{x}<br>count=%{y}<extra></extra>",
         "legendgroup": "12 GB RAM",
         "marker": {
          "color": "rgb(229, 134, 6)",
          "pattern": {
           "shape": ""
          }
         },
         "name": "12 GB RAM",
         "offsetgroup": "12 GB RAM",
         "orientation": "v",
         "showlegend": true,
         "type": "histogram",
         "x": [
          "OnePlus",
          "Vivo",
          "Xiaomi",
          "Vivo",
          "Vivo",
          "OnePlus",
          "OnePlus",
          "Oppo",
          "Vivo",
          "OPPO",
          "Nothing",
          "Vivo",
          "OPPO",
          "Tecno",
          "OPPO",
          "Google",
          "Poco",
          "Samsung",
          "OnePlus",
          "OPPO",
          "Realme",
          "Honor",
          "Vivo",
          "iQOO",
          "Nubia",
          "iQOO",
          "Lenovo",
          "iQOO",
          "Nubia",
          "Samsung",
          "iQOO",
          "Oukitel",
          "Motorola",
          "Xiaomi",
          "Asus",
          "Samsung",
          "OPPO",
          "Samsung",
          "Vivo",
          "Realme",
          "Leitz",
          "Vivo",
          "Doogee",
          "iQOO",
          "OnePlus",
          "Sharp",
          "Xiaomi",
          "Google"
         ],
         "xaxis": "x",
         "yaxis": "y"
        },
        {
         "alignmentgroup": "True",
         "bingroup": "x",
         "hovertemplate": "ram=6 GB RAM<br>company=%{x}<br>count=%{y}<extra></extra>",
         "legendgroup": "6 GB RAM",
         "marker": {
          "color": "rgb(93, 105, 177)",
          "pattern": {
           "shape": ""
          }
         },
         "name": "6 GB RAM",
         "offsetgroup": "6 GB RAM",
         "orientation": "v",
         "showlegend": true,
         "type": "histogram",
         "x": [
          "OnePlus",
          "Motorola",
          "Realme",
          "Samsung",
          "Apple",
          "Realme",
          "Xiaomi",
          "Vivo",
          "Poco",
          "Apple",
          "Poco",
          "Samsung",
          "Xiaomi",
          "OnePlus",
          "Xiaomi",
          "Motorola",
          "Samsung",
          "Samsung",
          "Motorola",
          "Apple",
          "Xiaomi",
          "Xiaomi",
          "Samsung",
          "Vivo",
          "Poco",
          "Xiaomi",
          "Apple",
          "Samsung",
          "Motorola",
          "Samsung",
          "Motorola",
          "Samsung",
          "Xiaomi",
          "Apple",
          "Xiaomi",
          "Vivo",
          "Xiaomi",
          "Samsung",
          "iQOO",
          "Google",
          "Samsung",
          "Google",
          "Poco",
          "Realme",
          "OPPO",
          "Samsung",
          "Xiaomi",
          "Realme",
          "Realme",
          "Apple",
          "Xiaomi",
          "Xiaomi",
          "Realme",
          "OPPO",
          "iQOO",
          "Xiaomi",
          "POCO",
          "Samsung",
          "OnePlus",
          "Motorola",
          "Samsung",
          "Apple",
          "Realme",
          "Realme",
          "Realme",
          "Realme",
          "Xiaomi",
          "Realme",
          "Realme",
          "OPPO",
          "Xiaomi",
          "Apple",
          "iQOO",
          "Xiaomi",
          "Vivo",
          "Poco",
          "Infinix",
          "Redmi",
          "Xiaomi",
          "Tecno",
          "Apple",
          "Infinix",
          "Apple",
          "Samsung",
          "Xiaomi",
          "Xiaomi",
          "Motorola",
          "Apple",
          "Tecno",
          "Xiaomi",
          "Vivo",
          "Poco",
          "Motorola",
          "Xiaomi",
          "POCO",
          "OnePlus",
          "Xiaomi",
          "Poco",
          "Google",
          "Realme",
          "Vivo",
          "Realme",
          "OPPO",
          "Xiaomi",
          "Xiaomi",
          "Xiaomi",
          "Oppo",
          "Realme",
          "Xiaomi",
          "Xiaomi",
          "Redmi",
          "Apple",
          "Motorola",
          "OPPO",
          "Nokia",
          "Samsung",
          "Poco",
          "Samsung",
          "Xiaomi",
          "Samsung",
          "Xiaomi",
          "Samsung",
          "iQOO",
          "Samsung",
          "Vivo",
          "Motorola",
          "Realme",
          "Samsung",
          "Samsung",
          "Realme",
          "OPPO",
          "Motorola",
          "Apple",
          "Nokia",
          "Realme",
          "Xiaomi",
          "Samsung",
          "Xiaomi",
          "Samsung",
          "Nokia",
          "Oppo",
          "Nokia",
          "Samsung",
          "Xiaomi",
          "Xiaomi",
          "Samsung",
          "Xiaomi",
          "Xiaomi",
          "Realme",
          "POCO",
          "Apple",
          "Xiaomi",
          "Apple",
          "Samsung",
          "OPPO",
          "Letv",
          "Infinix",
          "Samsung",
          "Tecno",
          "Xiaomi",
          "Xiaomi",
          "Xiaomi",
          "Xiaomi",
          "LG",
          "Motorola",
          "Samsung",
          "Samsung",
          "Infinix",
          "Xiaomi",
          "Apple",
          "OPPO",
          "OnePlus",
          "Gionee",
          "Poco",
          "Motorola",
          "iQOO",
          "Apple",
          "Oppo",
          "Xiaomi",
          "Realme",
          "Motorola",
          "Poco",
          "Xiaomi",
          "Apple",
          "Honor",
          "Apple",
          "Samsung",
          "Realme",
          "Realme",
          "Samsung",
          "Apple",
          "Apple",
          "Xiaomi",
          "Xiaomi",
          "Tecno",
          "Infinix",
          "Samsung",
          "Poco",
          "Xiaomi",
          "Samsung",
          "Apple",
          "Realme",
          "Oppo",
          "Vivo",
          "Poco",
          "Nokia",
          "Tecno",
          "Xiaomi",
          "Sony",
          "Poco",
          "Xiaomi",
          "Tecno",
          "ZTE",
          "Nothing",
          "Infinix",
          "Apple",
          "Micromax",
          "Nokia",
          "Oppo",
          "Poco",
          "Honor",
          "OPPO",
          "Samsung",
          "Google",
          "Samsung",
          "Samsung",
          "Xiaomi",
          "OPPO",
          "Samsung",
          "Honor",
          "OPPO",
          "Oukitel",
          "Honor",
          "Motorola"
         ],
         "xaxis": "x",
         "yaxis": "y"
        },
        {
         "alignmentgroup": "True",
         "bingroup": "x",
         "hovertemplate": "ram=4 GB RAM<br>company=%{x}<br>count=%{y}<extra></extra>",
         "legendgroup": "4 GB RAM",
         "marker": {
          "color": "rgb(82, 188, 163)",
          "pattern": {
           "shape": ""
          }
         },
         "name": "4 GB RAM",
         "offsetgroup": "4 GB RAM",
         "orientation": "v",
         "showlegend": true,
         "type": "histogram",
         "x": [
          "Samsung",
          "Apple",
          "Vivo",
          "Xiaomi",
          "Apple",
          "Xiaomi",
          "Vivo",
          "Jio",
          "Realme",
          "Realme",
          "Motorola",
          "Samsung",
          "iQOO",
          "Xiaomi",
          "Realme",
          "Vivo",
          "Realme",
          "Realme",
          "OPPO",
          "Vivo",
          "Apple",
          "Motorola",
          "Xiaomi",
          "Xiaomi",
          "Motorola",
          "Apple",
          "iQOO",
          "Poco",
          "OnePlus",
          "Samsung",
          "Xiaomi",
          "Apple",
          "Motorola",
          "Cola",
          "Samsung",
          "Infinix",
          "Realme",
          "Samsung",
          "iKall",
          "Realme",
          "Samsung",
          "Samsung",
          "Poco",
          "Lava",
          "Tecno",
          "POCO",
          "Vivo",
          "Vivo",
          "OPPO",
          "Motorola",
          "Motorola",
          "Apple",
          "Infinix",
          "Apple",
          "Realme",
          "Xiaomi",
          "Realme",
          "Motorola",
          "Apple",
          "Samsung",
          "Samsung",
          "Infinix",
          "Infinix",
          "Xiaomi",
          "Samsung",
          "Apple",
          "Motorola",
          "Motorola",
          "Xiaomi",
          "Vivo",
          "OPPO",
          "Apple",
          "Tecno",
          "Tecno",
          "Samsung",
          "Samsung",
          "Samsung",
          "Xiaomi",
          "Realme",
          "OnePlus",
          "Xiaomi",
          "Motorola",
          "Motorola",
          "Realme",
          "Infinix",
          "Samsung",
          "Redmi",
          "Sony",
          "Tecno",
          "Xiaomi",
          "Samsung",
          "Samsung",
          "Nokia",
          "Infinix",
          "Samsung",
          "Vivo",
          "Vivo",
          "Motorola",
          "Realme",
          "Xiaomi",
          "Google",
          "POCO",
          "Samsung",
          "iQOO",
          "Samsung",
          "Xiaomi",
          "Poco",
          "Xiaomi",
          "Vivo",
          "Poco",
          "Realme",
          "OPPO",
          "Realme",
          "OPPO",
          "OPPO",
          "Xiaomi",
          "Tecno",
          "Realme",
          "Xiaomi",
          "Xiaomi",
          "Vivo",
          "Apple",
          "Samsung",
          "Xiaomi",
          "OPPO",
          "OPPO",
          "Samsung",
          "Realme",
          "Vivo",
          "Micromax",
          "Realme",
          "Xiaomi",
          "Realme",
          "Xiaomi",
          "Tecno",
          "Realme",
          "Samsung",
          "Vivo",
          "Xiaomi",
          "Honor",
          "Nokia",
          "Vivo",
          "Samsung",
          "Samsung",
          "Vivo",
          "Realme",
          "Tecno",
          "Vivo",
          "Realme",
          "iKall",
          "Tecno",
          "Motorola",
          "Samsung",
          "OPPO",
          "Xiaomi",
          "OPPO",
          "Oppo",
          "Xiaomi",
          "POCO",
          "Vivo",
          "Vivo",
          "Vivo",
          "Samsung",
          "Nokia",
          "OnePlus",
          "Samsung",
          "Xiaomi",
          "Realme",
          "Vivo",
          "Xiaomi",
          "Apple",
          "Infinix",
          "Realme",
          "Realme",
          "Xiaomi",
          "Sony",
          "Vivo",
          "Xiaomi",
          "Xiaomi",
          "Motorola",
          "Google",
          "Samsung",
          "Huawei",
          "Xiaomi",
          "Huawei",
          "Realme",
          "Tecno",
          "Tecno",
          "Tecno",
          "Motorola",
          "OnePlus",
          "Samsung",
          "OnePlus",
          "Apple",
          "Apple",
          "Xiaomi",
          "Vivo",
          "Lava",
          "Motorola",
          "Honor",
          "Samsung",
          "iQOO",
          "Realme",
          "Samsung",
          "Realme",
          "Vivo",
          "Samsung",
          "Poco",
          "Blackview",
          "iKall",
          "Realme"
         ],
         "xaxis": "x",
         "yaxis": "y"
        },
        {
         "alignmentgroup": "True",
         "bingroup": "x",
         "hovertemplate": "ram=8 GB RAM<br>company=%{x}<br>count=%{y}<extra></extra>",
         "legendgroup": "8 GB RAM",
         "marker": {
          "color": "rgb(153, 201, 69)",
          "pattern": {
           "shape": ""
          }
         },
         "name": "8 GB RAM",
         "offsetgroup": "8 GB RAM",
         "orientation": "v",
         "showlegend": true,
         "type": "histogram",
         "x": [
          "Xiaomi",
          "Nothing",
          "OnePlus",
          "Oppo",
          "OnePlus",
          "OnePlus",
          "Vivo",
          "Samsung",
          "OnePlus",
          "Vivo",
          "Realme",
          "Vivo",
          "Samsung",
          "Oppo",
          "OPPO",
          "Realme",
          "Vivo",
          "iQOO",
          "Samsung",
          "Vivo",
          "Vivo",
          "OnePlus",
          "OnePlus",
          "OPPO",
          "Samsung",
          "Vivo",
          "OPPO",
          "OnePlus",
          "Motorola",
          "iQOO",
          "Motorola",
          "Realme",
          "OPPO",
          "Samsung",
          "Tecno",
          "OPPO",
          "Samsung",
          "Samsung",
          "Motorola",
          "Infinix",
          "Samsung",
          "Vivo",
          "OnePlus",
          "Nothing",
          "Xiaomi",
          "iQOO",
          "iQOO",
          "Apple",
          "Oppo",
          "Infinix",
          "OPPO",
          "Vivo",
          "Realme",
          "iQOO",
          "Vivo",
          "Infinix",
          "Motorola",
          "Realme",
          "OnePlus",
          "Motorola",
          "LeEco",
          "Motorola",
          "Poco",
          "OPPO",
          "Tecno",
          "Xiaomi",
          "Honor",
          "Vivo",
          "Xiaomi",
          "Motorola",
          "iQOO",
          "Xiaomi",
          "OPPO",
          "Vivo",
          "Xiaomi",
          "Samsung",
          "Vivo",
          "Google",
          "OPPO",
          "Motorola",
          "Nubia",
          "Infinix",
          "OPPO",
          "Samsung",
          "Samsung",
          "Tecno",
          "Samsung",
          "OnePlus",
          "Nothing",
          "Samsung",
          "Xiaomi",
          "Xiaomi",
          "Vivo",
          "iQOO",
          "Samsung",
          "Xiaomi",
          "Xiaomi",
          "Infinix",
          "Poco",
          "Xiaomi",
          "Samsung",
          "OPPO",
          "Xiaomi",
          "Xiaomi",
          "Samsung",
          "OPPO",
          "OnePlus",
          "Samsung",
          "Vivo",
          "POCO",
          "Honor",
          "Royole",
          "Samsung",
          "Google",
          "OPPO",
          "iQOO",
          "Realme",
          "OnePlus",
          "Tecno",
          "Xiaomi",
          "Vivo",
          "Realme",
          "Xiaomi",
          "iQOO",
          "OPPO",
          "Samsung",
          "Xiaomi",
          "Vivo",
          "Samsung",
          "Samsung",
          "OPPO",
          "Realme",
          "Samsung",
          "Samsung",
          "iQOO",
          "Realme",
          "Realme",
          "OPPO",
          "Oukitel",
          "Realme",
          "Realme",
          "Apple",
          "OPPO",
          "Xiaomi",
          "Tecno",
          "Poco",
          "BLU",
          "Xiaomi",
          "Samsung",
          "Apple",
          "Vivo",
          "Vivo",
          "Tecno",
          "Asus",
          "Nubia",
          "Vivo",
          "OPPO",
          "Xiaomi",
          "Infinix",
          "Sony",
          "Tecno",
          "Huawei",
          "POCO",
          "Honor",
          "Samsung",
          "OnePlus",
          "Honor",
          "Google",
          "Xiaomi",
          "Oppo",
          "Vivo",
          "Realme",
          "Realme",
          "Vivo",
          "Vivo",
          "OnePlus",
          "Infinix",
          "ZTE",
          "OPPO",
          "Huawei",
          "Samsung",
          "Realme",
          "Samsung",
          "Xiaomi",
          "OnePlus",
          "OPPO",
          "Poco",
          "POCO",
          "Asus",
          "Realme",
          "LG",
          "Oppo",
          "Oppo",
          "OPPO",
          "Motorola",
          "Realme",
          "iQOO",
          "iQOO",
          "Vivo",
          "Realme",
          "OnePlus",
          "Sony",
          "Vivo",
          "Poco",
          "Realme",
          "Vivo",
          "Lava",
          "Vivo",
          "Sony",
          "Samsung",
          "Realme",
          "iQOO",
          "Tecno",
          "OnePlus",
          "POCO",
          "Vivo",
          "Realme",
          "OnePlus",
          "Vivo",
          "OPPO",
          "Vivo",
          "OPPO",
          "Xiaomi",
          "iQOO",
          "Poco",
          "Sony",
          "Nubia",
          "OPPO",
          "OPPO",
          "OPPO",
          "Vivo",
          "Vivo",
          "Vivo",
          "Motorola",
          "Xiaomi",
          "Huawei",
          "Huawei",
          "Infinix",
          "Huawei",
          "Xiaomi",
          "OPPO",
          "Vivo",
          "Xiaomi",
          "Vivo",
          "Samsung",
          "Oppo",
          "Xiaomi",
          "Google",
          "Vivo",
          "Motorola",
          "Samsung",
          "Vivo",
          "Xiaomi",
          "Vivo",
          "Samsung",
          "Samsung",
          "Vivo",
          "Realme",
          "Xiaomi",
          "Infinix",
          "Realme",
          "Xiaomi",
          "Samsung",
          "Infinix",
          "Vivo",
          "Vivo",
          "Realme",
          "Xiaomi",
          "Xiaomi",
          "Xiaomi",
          "Oppo",
          "Huawei",
          "Samsung",
          "iQOO",
          "Vivo",
          "Huawei",
          "Huawei",
          "Samsung",
          "Infinix",
          "OnePlus",
          "OnePlus",
          "Oppo",
          "Royole",
          "Tecno",
          "Realme",
          "OnePlus",
          "Realme",
          "Realme",
          "Oppo",
          "Realme",
          "Xiaomi",
          "Apple",
          "OPPO",
          "Xiaomi",
          "Realme",
          "Samsung",
          "Infinix",
          "POCO",
          "Vivo",
          "Oppo",
          "iQOO",
          "Xiaomi",
          "Samsung",
          "Nubia",
          "iQOO",
          "Realme",
          "Vivo",
          "Xiaomi",
          "OnePlus",
          "Doogee",
          "Motorola",
          "Motorola",
          "Xiaomi",
          "Oppo",
          "Motorola",
          "POCO",
          "Samsung"
         ],
         "xaxis": "x",
         "yaxis": "y"
        },
        {
         "alignmentgroup": "True",
         "bingroup": "x",
         "hovertemplate": "ram=3 GB RAM<br>company=%{x}<br>count=%{y}<extra></extra>",
         "legendgroup": "3 GB RAM",
         "marker": {
          "color": "rgb(204, 97, 176)",
          "pattern": {
           "shape": ""
          }
         },
         "name": "3 GB RAM",
         "offsetgroup": "3 GB RAM",
         "orientation": "v",
         "showlegend": true,
         "type": "histogram",
         "x": [
          "Vivo",
          "Realme",
          "OPPO",
          "Apple",
          "Tecno",
          "Realme",
          "Samsung",
          "Vivo",
          "POCO",
          "Xiaomi",
          "Realme",
          "Vivo",
          "Samsung",
          "OPPO",
          "Lyf",
          "Realme",
          "Vivo",
          "Nokia",
          "Motorola",
          "Samsung",
          "Realme",
          "Apple",
          "itel",
          "Infinix",
          "Vivo",
          "Poco",
          "Vivo",
          "Vivo",
          "Vivo",
          "Micromax",
          "Samsung",
          "Vivo",
          "Realme",
          "OPPO",
          "Vivo",
          "Realme",
          "OPPO",
          "Oppo",
          "OPPO",
          "Xiaomi",
          "Infinix",
          "Tecno",
          "TCL",
          "Tecno",
          "Vivo"
         ],
         "xaxis": "x",
         "yaxis": "y"
        },
        {
         "alignmentgroup": "True",
         "bingroup": "x",
         "hovertemplate": "ram=16 GB RAM<br>company=%{x}<br>count=%{y}<extra></extra>",
         "legendgroup": "16 GB RAM",
         "marker": {
          "color": "rgb(36, 121, 108)",
          "pattern": {
           "shape": ""
          }
         },
         "name": "16 GB RAM",
         "offsetgroup": "16 GB RAM",
         "orientation": "v",
         "showlegend": true,
         "type": "histogram",
         "x": [
          "OPPO",
          "Tesla",
          "OPPO",
          "OnePlus",
          "iQOO",
          "Asus",
          "OPPO",
          "Lenovo"
         ],
         "xaxis": "x",
         "yaxis": "y"
        },
        {
         "alignmentgroup": "True",
         "bingroup": "x",
         "hovertemplate": "ram=18 GB RAM<br>company=%{x}<br>count=%{y}<extra></extra>",
         "legendgroup": "18 GB RAM",
         "marker": {
          "color": "rgb(218, 165, 27)",
          "pattern": {
           "shape": ""
          }
         },
         "name": "18 GB RAM",
         "offsetgroup": "18 GB RAM",
         "orientation": "v",
         "showlegend": true,
         "type": "histogram",
         "x": [
          "Asus",
          "Asus"
         ],
         "xaxis": "x",
         "yaxis": "y"
        },
        {
         "alignmentgroup": "True",
         "bingroup": "x",
         "hovertemplate": "ram=2 GB RAM<br>company=%{x}<br>count=%{y}<extra></extra>",
         "legendgroup": "2 GB RAM",
         "marker": {
          "color": "rgb(47, 138, 196)",
          "pattern": {
           "shape": ""
          }
         },
         "name": "2 GB RAM",
         "offsetgroup": "2 GB RAM",
         "orientation": "v",
         "showlegend": true,
         "type": "histogram",
         "x": [
          "Vivo",
          "Vertu",
          "Xiaomi",
          "Motorola",
          "Xiaomi",
          "Vivo",
          "Infinix",
          "Tecno",
          "Xiaomi",
          "Realme",
          "Realme",
          "Samsung"
         ],
         "xaxis": "x",
         "yaxis": "y"
        },
        {
         "alignmentgroup": "True",
         "bingroup": "x",
         "hovertemplate": "ram=512 GB inbuilt<br>company=%{x}<br>count=%{y}<extra></extra>",
         "legendgroup": "512 GB inbuilt",
         "marker": {
          "color": "rgb(118, 78, 159)",
          "pattern": {
           "shape": ""
          }
         },
         "name": "512 GB inbuilt",
         "offsetgroup": "512 GB inbuilt",
         "orientation": "v",
         "showlegend": true,
         "type": "histogram",
         "x": [
          "Huawei"
         ],
         "xaxis": "x",
         "yaxis": "y"
        },
        {
         "alignmentgroup": "True",
         "bingroup": "x",
         "hovertemplate": "ram=64 GB inbuilt<br>company=%{x}<br>count=%{y}<extra></extra>",
         "legendgroup": "64 GB inbuilt",
         "marker": {
          "color": "rgb(237, 100, 90)",
          "pattern": {
           "shape": ""
          }
         },
         "name": "64 GB inbuilt",
         "offsetgroup": "64 GB inbuilt",
         "orientation": "v",
         "showlegend": true,
         "type": "histogram",
         "x": [
          "Apple"
         ],
         "xaxis": "x",
         "yaxis": "y"
        }
       ],
       "layout": {
        "barmode": "relative",
        "height": 500,
        "legend": {
         "title": {
          "text": "ram"
         },
         "tracegroupgap": 0
        },
        "template": {
         "data": {
          "bar": [
           {
            "error_x": {
             "color": "#f2f5fa"
            },
            "error_y": {
             "color": "#f2f5fa"
            },
            "marker": {
             "line": {
              "color": "rgb(17,17,17)",
              "width": 0.5
             },
             "pattern": {
              "fillmode": "overlay",
              "size": 10,
              "solidity": 0.2
             }
            },
            "type": "bar"
           }
          ],
          "barpolar": [
           {
            "marker": {
             "line": {
              "color": "rgb(17,17,17)",
              "width": 0.5
             },
             "pattern": {
              "fillmode": "overlay",
              "size": 10,
              "solidity": 0.2
             }
            },
            "type": "barpolar"
           }
          ],
          "carpet": [
           {
            "aaxis": {
             "endlinecolor": "#A2B1C6",
             "gridcolor": "#506784",
             "linecolor": "#506784",
             "minorgridcolor": "#506784",
             "startlinecolor": "#A2B1C6"
            },
            "baxis": {
             "endlinecolor": "#A2B1C6",
             "gridcolor": "#506784",
             "linecolor": "#506784",
             "minorgridcolor": "#506784",
             "startlinecolor": "#A2B1C6"
            },
            "type": "carpet"
           }
          ],
          "choropleth": [
           {
            "colorbar": {
             "outlinewidth": 0,
             "ticks": ""
            },
            "type": "choropleth"
           }
          ],
          "contour": [
           {
            "colorbar": {
             "outlinewidth": 0,
             "ticks": ""
            },
            "colorscale": [
             [
              0,
              "#0d0887"
             ],
             [
              0.1111111111111111,
              "#46039f"
             ],
             [
              0.2222222222222222,
              "#7201a8"
             ],
             [
              0.3333333333333333,
              "#9c179e"
             ],
             [
              0.4444444444444444,
              "#bd3786"
             ],
             [
              0.5555555555555556,
              "#d8576b"
             ],
             [
              0.6666666666666666,
              "#ed7953"
             ],
             [
              0.7777777777777778,
              "#fb9f3a"
             ],
             [
              0.8888888888888888,
              "#fdca26"
             ],
             [
              1,
              "#f0f921"
             ]
            ],
            "type": "contour"
           }
          ],
          "contourcarpet": [
           {
            "colorbar": {
             "outlinewidth": 0,
             "ticks": ""
            },
            "type": "contourcarpet"
           }
          ],
          "heatmap": [
           {
            "colorbar": {
             "outlinewidth": 0,
             "ticks": ""
            },
            "colorscale": [
             [
              0,
              "#0d0887"
             ],
             [
              0.1111111111111111,
              "#46039f"
             ],
             [
              0.2222222222222222,
              "#7201a8"
             ],
             [
              0.3333333333333333,
              "#9c179e"
             ],
             [
              0.4444444444444444,
              "#bd3786"
             ],
             [
              0.5555555555555556,
              "#d8576b"
             ],
             [
              0.6666666666666666,
              "#ed7953"
             ],
             [
              0.7777777777777778,
              "#fb9f3a"
             ],
             [
              0.8888888888888888,
              "#fdca26"
             ],
             [
              1,
              "#f0f921"
             ]
            ],
            "type": "heatmap"
           }
          ],
          "heatmapgl": [
           {
            "colorbar": {
             "outlinewidth": 0,
             "ticks": ""
            },
            "colorscale": [
             [
              0,
              "#0d0887"
             ],
             [
              0.1111111111111111,
              "#46039f"
             ],
             [
              0.2222222222222222,
              "#7201a8"
             ],
             [
              0.3333333333333333,
              "#9c179e"
             ],
             [
              0.4444444444444444,
              "#bd3786"
             ],
             [
              0.5555555555555556,
              "#d8576b"
             ],
             [
              0.6666666666666666,
              "#ed7953"
             ],
             [
              0.7777777777777778,
              "#fb9f3a"
             ],
             [
              0.8888888888888888,
              "#fdca26"
             ],
             [
              1,
              "#f0f921"
             ]
            ],
            "type": "heatmapgl"
           }
          ],
          "histogram": [
           {
            "marker": {
             "pattern": {
              "fillmode": "overlay",
              "size": 10,
              "solidity": 0.2
             }
            },
            "type": "histogram"
           }
          ],
          "histogram2d": [
           {
            "colorbar": {
             "outlinewidth": 0,
             "ticks": ""
            },
            "colorscale": [
             [
              0,
              "#0d0887"
             ],
             [
              0.1111111111111111,
              "#46039f"
             ],
             [
              0.2222222222222222,
              "#7201a8"
             ],
             [
              0.3333333333333333,
              "#9c179e"
             ],
             [
              0.4444444444444444,
              "#bd3786"
             ],
             [
              0.5555555555555556,
              "#d8576b"
             ],
             [
              0.6666666666666666,
              "#ed7953"
             ],
             [
              0.7777777777777778,
              "#fb9f3a"
             ],
             [
              0.8888888888888888,
              "#fdca26"
             ],
             [
              1,
              "#f0f921"
             ]
            ],
            "type": "histogram2d"
           }
          ],
          "histogram2dcontour": [
           {
            "colorbar": {
             "outlinewidth": 0,
             "ticks": ""
            },
            "colorscale": [
             [
              0,
              "#0d0887"
             ],
             [
              0.1111111111111111,
              "#46039f"
             ],
             [
              0.2222222222222222,
              "#7201a8"
             ],
             [
              0.3333333333333333,
              "#9c179e"
             ],
             [
              0.4444444444444444,
              "#bd3786"
             ],
             [
              0.5555555555555556,
              "#d8576b"
             ],
             [
              0.6666666666666666,
              "#ed7953"
             ],
             [
              0.7777777777777778,
              "#fb9f3a"
             ],
             [
              0.8888888888888888,
              "#fdca26"
             ],
             [
              1,
              "#f0f921"
             ]
            ],
            "type": "histogram2dcontour"
           }
          ],
          "mesh3d": [
           {
            "colorbar": {
             "outlinewidth": 0,
             "ticks": ""
            },
            "type": "mesh3d"
           }
          ],
          "parcoords": [
           {
            "line": {
             "colorbar": {
              "outlinewidth": 0,
              "ticks": ""
             }
            },
            "type": "parcoords"
           }
          ],
          "pie": [
           {
            "automargin": true,
            "type": "pie"
           }
          ],
          "scatter": [
           {
            "marker": {
             "line": {
              "color": "#283442"
             }
            },
            "type": "scatter"
           }
          ],
          "scatter3d": [
           {
            "line": {
             "colorbar": {
              "outlinewidth": 0,
              "ticks": ""
             }
            },
            "marker": {
             "colorbar": {
              "outlinewidth": 0,
              "ticks": ""
             }
            },
            "type": "scatter3d"
           }
          ],
          "scattercarpet": [
           {
            "marker": {
             "colorbar": {
              "outlinewidth": 0,
              "ticks": ""
             }
            },
            "type": "scattercarpet"
           }
          ],
          "scattergeo": [
           {
            "marker": {
             "colorbar": {
              "outlinewidth": 0,
              "ticks": ""
             }
            },
            "type": "scattergeo"
           }
          ],
          "scattergl": [
           {
            "marker": {
             "line": {
              "color": "#283442"
             }
            },
            "type": "scattergl"
           }
          ],
          "scattermapbox": [
           {
            "marker": {
             "colorbar": {
              "outlinewidth": 0,
              "ticks": ""
             }
            },
            "type": "scattermapbox"
           }
          ],
          "scatterpolar": [
           {
            "marker": {
             "colorbar": {
              "outlinewidth": 0,
              "ticks": ""
             }
            },
            "type": "scatterpolar"
           }
          ],
          "scatterpolargl": [
           {
            "marker": {
             "colorbar": {
              "outlinewidth": 0,
              "ticks": ""
             }
            },
            "type": "scatterpolargl"
           }
          ],
          "scatterternary": [
           {
            "marker": {
             "colorbar": {
              "outlinewidth": 0,
              "ticks": ""
             }
            },
            "type": "scatterternary"
           }
          ],
          "surface": [
           {
            "colorbar": {
             "outlinewidth": 0,
             "ticks": ""
            },
            "colorscale": [
             [
              0,
              "#0d0887"
             ],
             [
              0.1111111111111111,
              "#46039f"
             ],
             [
              0.2222222222222222,
              "#7201a8"
             ],
             [
              0.3333333333333333,
              "#9c179e"
             ],
             [
              0.4444444444444444,
              "#bd3786"
             ],
             [
              0.5555555555555556,
              "#d8576b"
             ],
             [
              0.6666666666666666,
              "#ed7953"
             ],
             [
              0.7777777777777778,
              "#fb9f3a"
             ],
             [
              0.8888888888888888,
              "#fdca26"
             ],
             [
              1,
              "#f0f921"
             ]
            ],
            "type": "surface"
           }
          ],
          "table": [
           {
            "cells": {
             "fill": {
              "color": "#506784"
             },
             "line": {
              "color": "rgb(17,17,17)"
             }
            },
            "header": {
             "fill": {
              "color": "#2a3f5f"
             },
             "line": {
              "color": "rgb(17,17,17)"
             }
            },
            "type": "table"
           }
          ]
         },
         "layout": {
          "annotationdefaults": {
           "arrowcolor": "#f2f5fa",
           "arrowhead": 0,
           "arrowwidth": 1
          },
          "autotypenumbers": "strict",
          "coloraxis": {
           "colorbar": {
            "outlinewidth": 0,
            "ticks": ""
           }
          },
          "colorscale": {
           "diverging": [
            [
             0,
             "#8e0152"
            ],
            [
             0.1,
             "#c51b7d"
            ],
            [
             0.2,
             "#de77ae"
            ],
            [
             0.3,
             "#f1b6da"
            ],
            [
             0.4,
             "#fde0ef"
            ],
            [
             0.5,
             "#f7f7f7"
            ],
            [
             0.6,
             "#e6f5d0"
            ],
            [
             0.7,
             "#b8e186"
            ],
            [
             0.8,
             "#7fbc41"
            ],
            [
             0.9,
             "#4d9221"
            ],
            [
             1,
             "#276419"
            ]
           ],
           "sequential": [
            [
             0,
             "#0d0887"
            ],
            [
             0.1111111111111111,
             "#46039f"
            ],
            [
             0.2222222222222222,
             "#7201a8"
            ],
            [
             0.3333333333333333,
             "#9c179e"
            ],
            [
             0.4444444444444444,
             "#bd3786"
            ],
            [
             0.5555555555555556,
             "#d8576b"
            ],
            [
             0.6666666666666666,
             "#ed7953"
            ],
            [
             0.7777777777777778,
             "#fb9f3a"
            ],
            [
             0.8888888888888888,
             "#fdca26"
            ],
            [
             1,
             "#f0f921"
            ]
           ],
           "sequentialminus": [
            [
             0,
             "#0d0887"
            ],
            [
             0.1111111111111111,
             "#46039f"
            ],
            [
             0.2222222222222222,
             "#7201a8"
            ],
            [
             0.3333333333333333,
             "#9c179e"
            ],
            [
             0.4444444444444444,
             "#bd3786"
            ],
            [
             0.5555555555555556,
             "#d8576b"
            ],
            [
             0.6666666666666666,
             "#ed7953"
            ],
            [
             0.7777777777777778,
             "#fb9f3a"
            ],
            [
             0.8888888888888888,
             "#fdca26"
            ],
            [
             1,
             "#f0f921"
            ]
           ]
          },
          "colorway": [
           "#636efa",
           "#EF553B",
           "#00cc96",
           "#ab63fa",
           "#FFA15A",
           "#19d3f3",
           "#FF6692",
           "#B6E880",
           "#FF97FF",
           "#FECB52"
          ],
          "font": {
           "color": "#f2f5fa"
          },
          "geo": {
           "bgcolor": "rgb(17,17,17)",
           "lakecolor": "rgb(17,17,17)",
           "landcolor": "rgb(17,17,17)",
           "showlakes": true,
           "showland": true,
           "subunitcolor": "#506784"
          },
          "hoverlabel": {
           "align": "left"
          },
          "hovermode": "closest",
          "mapbox": {
           "style": "dark"
          },
          "paper_bgcolor": "rgb(17,17,17)",
          "plot_bgcolor": "rgb(17,17,17)",
          "polar": {
           "angularaxis": {
            "gridcolor": "#506784",
            "linecolor": "#506784",
            "ticks": ""
           },
           "bgcolor": "rgb(17,17,17)",
           "radialaxis": {
            "gridcolor": "#506784",
            "linecolor": "#506784",
            "ticks": ""
           }
          },
          "scene": {
           "xaxis": {
            "backgroundcolor": "rgb(17,17,17)",
            "gridcolor": "#506784",
            "gridwidth": 2,
            "linecolor": "#506784",
            "showbackground": true,
            "ticks": "",
            "zerolinecolor": "#C8D4E3"
           },
           "yaxis": {
            "backgroundcolor": "rgb(17,17,17)",
            "gridcolor": "#506784",
            "gridwidth": 2,
            "linecolor": "#506784",
            "showbackground": true,
            "ticks": "",
            "zerolinecolor": "#C8D4E3"
           },
           "zaxis": {
            "backgroundcolor": "rgb(17,17,17)",
            "gridcolor": "#506784",
            "gridwidth": 2,
            "linecolor": "#506784",
            "showbackground": true,
            "ticks": "",
            "zerolinecolor": "#C8D4E3"
           }
          },
          "shapedefaults": {
           "line": {
            "color": "#f2f5fa"
           }
          },
          "sliderdefaults": {
           "bgcolor": "#C8D4E3",
           "bordercolor": "rgb(17,17,17)",
           "borderwidth": 1,
           "tickwidth": 0
          },
          "ternary": {
           "aaxis": {
            "gridcolor": "#506784",
            "linecolor": "#506784",
            "ticks": ""
           },
           "baxis": {
            "gridcolor": "#506784",
            "linecolor": "#506784",
            "ticks": ""
           },
           "bgcolor": "rgb(17,17,17)",
           "caxis": {
            "gridcolor": "#506784",
            "linecolor": "#506784",
            "ticks": ""
           }
          },
          "title": {
           "x": 0.05
          },
          "updatemenudefaults": {
           "bgcolor": "#506784",
           "borderwidth": 0
          },
          "xaxis": {
           "automargin": true,
           "gridcolor": "#283442",
           "linecolor": "#506784",
           "ticks": "",
           "title": {
            "standoff": 15
           },
           "zerolinecolor": "#283442",
           "zerolinewidth": 2
          },
          "yaxis": {
           "automargin": true,
           "gridcolor": "#283442",
           "linecolor": "#506784",
           "ticks": "",
           "title": {
            "standoff": 15
           },
           "zerolinecolor": "#283442",
           "zerolinewidth": 2
          }
         }
        },
        "title": {
         "font": {
          "size": 20
         },
         "text": "<b>Count of Ram for every mobile company"
        },
        "width": 1500,
        "xaxis": {
         "anchor": "y",
         "domain": [
          0,
          1
         ],
         "title": {
          "text": "company"
         }
        },
        "yaxis": {
         "anchor": "x",
         "domain": [
          0,
          1
         ],
         "title": {
          "text": "count"
         }
        }
       }
      }
     },
     "metadata": {},
     "output_type": "display_data"
    }
   ],
   "source": [
    "fig=px.histogram(df,x=\"company\",color=\"ram\",title=\"<b>Count of Ram for every mobile company\",\n",
    "                color_discrete_sequence=px.colors.qualitative.Vivid,\n",
    "                width=1500, height=500)\n",
    "fig.update_layout(template=\"plotly_dark\")\n",
    "fig.update_layout(title_font_size=20)\n",
    "fig.show()"
   ]
  },
  {
   "cell_type": "code",
   "execution_count": 41,
   "metadata": {},
   "outputs": [
    {
     "data": {
      "application/vnd.plotly.v1+json": {
       "config": {
        "plotlyServerURL": "https://plot.ly"
       },
       "data": [
        {
         "alignmentgroup": "True",
         "bingroup": "x",
         "hovertemplate": "storge= 256 GB <br>company=%{x}<br>count=%{y}<extra></extra>",
         "legendgroup": " 256 GB ",
         "marker": {
          "color": "rgb(229, 134, 6)",
          "pattern": {
           "shape": ""
          }
         },
         "name": " 256 GB ",
         "offsetgroup": " 256 GB ",
         "orientation": "v",
         "showlegend": true,
         "type": "histogram",
         "x": [
          "OnePlus",
          "Xiaomi",
          "OPPO",
          "Vivo",
          "Vivo",
          "Oppo",
          "OPPO",
          "Realme",
          "Samsung",
          "Vivo",
          "Xiaomi",
          "Vivo",
          "iQOO",
          "Vivo",
          "OnePlus",
          "Tecno",
          "OnePlus",
          "OnePlus",
          "Nothing",
          "Xiaomi",
          "OPPO",
          "Apple",
          "Infinix",
          "Oppo",
          "Vivo",
          "Infinix",
          "OPPO",
          "Nothing",
          "Xiaomi",
          "Apple",
          "Vivo",
          "Honor",
          "OPPO",
          "iQOO",
          "OPPO",
          "Xiaomi",
          "Apple",
          "Motorola",
          "Tecno",
          "Samsung",
          "OPPO",
          "Xiaomi",
          "Infinix",
          "Xiaomi",
          "OnePlus",
          "OPPO",
          "iQOO",
          "Apple",
          "Apple",
          "Poco",
          "Samsung",
          "OnePlus",
          "Samsung",
          "OPPO",
          "Oukitel",
          "OPPO",
          "Asus",
          "Realme",
          "Apple",
          "Vivo",
          "Asus",
          "Tecno",
          "iQOO",
          "OPPO",
          "Tecno",
          "Huawei",
          "Nubia",
          "iQOO",
          "Honor",
          "Xiaomi",
          "Oppo",
          "Realme",
          "Apple",
          "Samsung",
          "Lenovo",
          "iQOO",
          "Nubia",
          "Samsung",
          "Oppo",
          "OPPO",
          "iQOO",
          "iQOO",
          "Oukitel",
          "Vivo",
          "Sony",
          "Motorola",
          "Samsung",
          "Xiaomi",
          "Asus",
          "Vivo",
          "Samsung",
          "iQOO",
          "OPPO",
          "Sony",
          "Apple",
          "OPPO",
          "Samsung",
          "Vivo",
          "Huawei",
          "Vivo",
          "Vivo",
          "Realme",
          "Samsung",
          "Leitz",
          "Realme",
          "Vivo",
          "Apple",
          "Samsung",
          "Doogee",
          "Vivo",
          "iQOO",
          "Oppo",
          "Tecno",
          "Apple",
          "Apple",
          "Xiaomi",
          "OnePlus",
          "Xiaomi",
          "Sharp",
          "Xiaomi",
          "Xiaomi",
          "Oppo",
          "Google",
          "POCO"
         ],
         "xaxis": "x",
         "yaxis": "y"
        },
        {
         "alignmentgroup": "True",
         "bingroup": "x",
         "hovertemplate": "storge= 128 GB <br>company=%{x}<br>count=%{y}<extra></extra>",
         "legendgroup": " 128 GB ",
         "marker": {
          "color": "rgb(93, 105, 177)",
          "pattern": {
           "shape": ""
          }
         },
         "name": " 128 GB ",
         "offsetgroup": " 128 GB ",
         "orientation": "v",
         "showlegend": true,
         "type": "histogram",
         "x": [
          "OnePlus",
          "Motorola",
          "Realme",
          "Samsung",
          "Apple",
          "Nothing",
          "OnePlus",
          "Realme",
          "Oppo",
          "Xiaomi",
          "Vivo",
          "Apple",
          "OnePlus",
          "OnePlus",
          "Vivo",
          "Xiaomi",
          "Samsung",
          "OnePlus",
          "Apple",
          "Vivo",
          "Realme",
          "Poco",
          "Samsung",
          "Samsung",
          "Xiaomi",
          "OnePlus",
          "Xiaomi",
          "Motorola",
          "Vivo",
          "Samsung",
          "Samsung",
          "iQOO",
          "Motorola",
          "Apple",
          "Xiaomi",
          "Vivo",
          "Samsung",
          "Vivo",
          "Poco",
          "OnePlus",
          "Samsung",
          "OnePlus",
          "Xiaomi",
          "Apple",
          "OPPO",
          "Samsung",
          "Motorola",
          "Samsung",
          "Vivo",
          "Samsung",
          "Motorola",
          "Samsung",
          "OPPO",
          "Xiaomi",
          "OnePlus",
          "Motorola",
          "Vivo",
          "Apple",
          "Xiaomi",
          "Motorola",
          "Realme",
          "OPPO",
          "Samsung",
          "Vivo",
          "Xiaomi",
          "Samsung",
          "OPPO",
          "Samsung",
          "iQOO",
          "Samsung",
          "Motorola",
          "Google",
          "Infinix",
          "Samsung",
          "Vivo",
          "Samsung",
          "Google",
          "Poco",
          "Apple",
          "Realme",
          "OPPO",
          "iQOO",
          "iQOO",
          "iQOO",
          "Samsung",
          "Xiaomi",
          "Oppo",
          "OPPO",
          "Realme",
          "Realme",
          "Apple",
          "Vivo",
          "Xiaomi",
          "Realme",
          "iQOO",
          "Xiaomi",
          "Realme",
          "OPPO",
          "iQOO",
          "Vivo",
          "Motorola",
          "Samsung",
          "Realme",
          "OnePlus",
          "Motorola",
          "LeEco",
          "Samsung",
          "Motorola",
          "OnePlus",
          "Poco",
          "OPPO",
          "Motorola",
          "Samsung",
          "Tecno",
          "Realme",
          "Realme",
          "Lava",
          "Vivo",
          "Xiaomi",
          "Realme",
          "Realme",
          "Motorola",
          "Realme",
          "Realme",
          "Xiaomi",
          "OPPO",
          "Vivo",
          "Vivo",
          "Samsung",
          "Vivo",
          "Google",
          "Xiaomi",
          "OPPO",
          "Nubia",
          "Infinix",
          "iQOO",
          "OPPO",
          "Samsung",
          "Samsung",
          "Motorola",
          "Poco",
          "Tecno",
          "OnePlus",
          "Redmi",
          "Nothing",
          "Samsung",
          "Google",
          "Xiaomi",
          "Xiaomi",
          "Apple",
          "Tecno",
          "Vivo",
          "Apple",
          "iQOO",
          "Samsung",
          "Xiaomi",
          "Xiaomi",
          "Infinix",
          "Samsung",
          "Poco",
          "Xiaomi",
          "Samsung",
          "OPPO",
          "Xiaomi",
          "Xiaomi",
          "Xiaomi",
          "Samsung",
          "Apple",
          "Samsung",
          "OnePlus",
          "Samsung",
          "Motorola",
          "Vivo",
          "POCO",
          "Honor",
          "Royole",
          "Samsung",
          "Tecno",
          "Google",
          "Xiaomi",
          "Vivo",
          "OPPO",
          "iQOO",
          "Realme",
          "Poco",
          "Motorola",
          "OnePlus",
          "Tecno",
          "POCO",
          "OnePlus",
          "Motorola",
          "Xiaomi",
          "Vivo",
          "Xiaomi",
          "Realme",
          "Xiaomi",
          "iQOO",
          "Apple",
          "OPPO",
          "Xiaomi",
          "Vivo",
          "Samsung",
          "Samsung",
          "Realme",
          "OPPO",
          "Realme",
          "Samsung",
          "Samsung",
          "iQOO",
          "Vivo",
          "Realme",
          "Realme",
          "Realme",
          "OPPO",
          "Realme",
          "Xiaomi",
          "Xiaomi",
          "Realme",
          "Apple",
          "Realme",
          "Xiaomi",
          "Oppo",
          "Realme",
          "Xiaomi",
          "OPPO",
          "Xiaomi",
          "Redmi",
          "Motorola",
          "OPPO",
          "Xiaomi",
          "Samsung",
          "Tecno",
          "Poco",
          "BLU",
          "Xiaomi",
          "Samsung",
          "Poco",
          "Samsung",
          "Motorola",
          "Xiaomi",
          "Apple",
          "Realme",
          "Vivo",
          "Vivo",
          "Samsung",
          "Asus",
          "Nubia",
          "Samsung",
          "Vivo",
          "OPPO",
          "Xiaomi",
          "Infinix",
          "Samsung",
          "Samsung",
          "iQOO",
          "Sony",
          "Vivo",
          "Vivo",
          "POCO",
          "Realme",
          "Vivo",
          "Honor",
          "Motorola",
          "Samsung",
          "OnePlus",
          "Google",
          "Realme",
          "Samsung",
          "Samsung",
          "Realme",
          "Google",
          "Vivo",
          "iQOO",
          "OPPO",
          "Motorola",
          "Realme",
          "Vivo",
          "Vivo",
          "OnePlus",
          "Infinix",
          "Xiaomi",
          "ZTE",
          "OPPO",
          "Huawei",
          "Vivo",
          "Nokia",
          "Realme",
          "Realme",
          "Poco",
          "Xiaomi",
          "Realme",
          "Samsung",
          "Xiaomi",
          "OnePlus",
          "OPPO",
          "Poco",
          "POCO",
          "Asus",
          "Realme",
          "Samsung",
          "LG",
          "Samsung",
          "Oppo",
          "Nokia",
          "OPPO",
          "Motorola",
          "Oppo",
          "Nokia",
          "Samsung",
          "Realme",
          "Xiaomi",
          "iQOO",
          "Xiaomi",
          "Xiaomi",
          "Samsung",
          "Vivo",
          "Realme",
          "OnePlus",
          "Sony",
          "Samsung",
          "Poco",
          "Xiaomi",
          "Realme",
          "Vivo",
          "Xiaomi",
          "Lava",
          "Realme",
          "POCO",
          "Vivo",
          "Xiaomi",
          "Realme",
          "iQOO",
          "Tecno",
          "OnePlus",
          "POCO",
          "Vivo",
          "Samsung",
          "Vivo",
          "Realme",
          "Realme",
          "OPPO",
          "OnePlus",
          "Vivo",
          "OPPO",
          "OPPO",
          "Xiaomi",
          "Samsung",
          "Tecno",
          "Xiaomi",
          "Xiaomi",
          "Xiaomi",
          "Xiaomi",
          "LG",
          "Motorola",
          "Samsung",
          "Samsung",
          "Vivo",
          "Xiaomi",
          "Poco",
          "Infinix",
          "Honor",
          "Nubia",
          "Xiaomi",
          "Vivo",
          "OPPO",
          "OPPO",
          "OnePlus",
          "Gionee",
          "OPPO",
          "Motorola",
          "Samsung",
          "Vivo",
          "Vivo",
          "Motorola",
          "Xiaomi",
          "iQOO",
          "Apple",
          "Infinix",
          "Oppo",
          "Xiaomi",
          "Huawei",
          "Xiaomi",
          "Realme",
          "OPPO",
          "Motorola",
          "Vivo",
          "Xiaomi",
          "Samsung",
          "Oppo",
          "Xiaomi",
          "Xiaomi",
          "Tecno",
          "Google",
          "Vivo",
          "Motorola",
          "Honor",
          "Vivo",
          "Xiaomi",
          "Vivo",
          "Samsung",
          "OPPO",
          "Xiaomi",
          "Realme",
          "Oppo",
          "Samsung",
          "Samsung",
          "Vivo",
          "Vivo",
          "Samsung",
          "Realme",
          "Vivo",
          "Samsung",
          "Xiaomi",
          "Infinix",
          "Xiaomi",
          "Xiaomi",
          "Tecno",
          "Xiaomi",
          "Infinix",
          "Samsung",
          "Samsung",
          "Poco",
          "Infinix",
          "Vivo",
          "Xiaomi",
          "Xiaomi",
          "Vivo",
          "Vivo",
          "Xiaomi",
          "Realme",
          "Xiaomi",
          "Xiaomi",
          "Realme",
          "Xiaomi",
          "Samsung",
          "Realme",
          "Xiaomi",
          "Oppo",
          "Oppo",
          "Sony",
          "Huawei",
          "Vivo",
          "iQOO",
          "Poco",
          "Nokia",
          "Tecno",
          "Huawei",
          "Huawei",
          "Samsung",
          "Infinix",
          "OnePlus",
          "Realme",
          "OnePlus",
          "Royole",
          "Tecno",
          "Realme",
          "Poco",
          "OnePlus",
          "Realme",
          "Realme",
          "Oppo",
          "Xiaomi",
          "Realme",
          "Apple",
          "Vivo",
          "Tecno",
          "OPPO",
          "ZTE",
          "Xiaomi",
          "Nothing",
          "Realme",
          "Samsung",
          "Infinix",
          "POCO",
          "iQOO",
          "Vivo",
          "Oppo",
          "iQOO",
          "Infinix",
          "Xiaomi",
          "Samsung",
          "Nubia",
          "Nokia",
          "Oppo",
          "Poco",
          "Honor",
          "OPPO",
          "iQOO",
          "Samsung",
          "Realme",
          "Google",
          "Samsung",
          "Samsung",
          "Xiaomi",
          "Vivo",
          "OPPO",
          "OnePlus",
          "Samsung",
          "Honor",
          "OPPO",
          "Doogee",
          "Motorola",
          "Oukitel",
          "Motorola",
          "Motorola",
          "Honor",
          "Motorola",
          "Samsung"
         ],
         "xaxis": "x",
         "yaxis": "y"
        },
        {
         "alignmentgroup": "True",
         "bingroup": "x",
         "hovertemplate": "storge= 64 GB <br>company=%{x}<br>count=%{y}<extra></extra>",
         "legendgroup": " 64 GB ",
         "marker": {
          "color": "rgb(82, 188, 163)",
          "pattern": {
           "shape": ""
          }
         },
         "name": " 64 GB ",
         "offsetgroup": " 64 GB ",
         "orientation": "v",
         "showlegend": true,
         "type": "histogram",
         "x": [
          "Samsung",
          "Vivo",
          "Poco",
          "Apple",
          "Xiaomi",
          "Vivo",
          "Realme",
          "Realme",
          "Xiaomi",
          "Motorola",
          "OPPO",
          "iQOO",
          "Xiaomi",
          "Realme",
          "Vivo",
          "Realme",
          "Realme",
          "OPPO",
          "Apple",
          "Motorola",
          "Xiaomi",
          "Xiaomi",
          "Motorola",
          "Poco",
          "OnePlus",
          "Samsung",
          "Xiaomi",
          "Apple",
          "Motorola",
          "Cola",
          "Samsung",
          "Infinix",
          "Apple",
          "Xiaomi",
          "Realme",
          "POCO",
          "iKall",
          "Realme",
          "Samsung",
          "Samsung",
          "Poco",
          "Tecno",
          "Xiaomi",
          "POCO",
          "Vivo",
          "Vivo",
          "OPPO",
          "Motorola",
          "Xiaomi",
          "Vivo",
          "Apple",
          "Infinix",
          "Infinix",
          "Realme",
          "Xiaomi",
          "Realme",
          "Motorola",
          "Samsung",
          "Infinix",
          "Infinix",
          "Xiaomi",
          "Xiaomi",
          "Samsung",
          "Motorola",
          "Xiaomi",
          "OPPO",
          "Tecno",
          "Poco",
          "Google",
          "Tecno",
          "Samsung",
          "Samsung",
          "Samsung",
          "Xiaomi",
          "OnePlus",
          "Nokia",
          "Xiaomi",
          "Vertu",
          "Motorola",
          "Infinix",
          "Redmi",
          "Sony",
          "Tecno",
          "Xiaomi",
          "Samsung",
          "Nokia",
          "Infinix",
          "Samsung",
          "Xiaomi",
          "Motorola",
          "Motorola",
          "Samsung",
          "Xiaomi",
          "POCO",
          "Samsung",
          "Samsung",
          "Xiaomi",
          "Poco",
          "OPPO",
          "Realme",
          "Xiaomi",
          "Samsung",
          "OPPO",
          "Xiaomi",
          "Tecno",
          "Realme",
          "Xiaomi",
          "Vivo",
          "Apple",
          "Xiaomi",
          "OPPO",
          "OPPO",
          "Samsung",
          "Realme",
          "Micromax",
          "Xiaomi",
          "Apple",
          "Letv",
          "Infinix",
          "Realme",
          "itel",
          "Tecno",
          "Infinix",
          "Realme",
          "Xiaomi",
          "Samsung",
          "Infinix",
          "Nokia",
          "Samsung",
          "Poco",
          "Vivo",
          "Realme",
          "Tecno",
          "Poco",
          "Vivo",
          "Realme",
          "Vivo",
          "Motorola",
          "Samsung",
          "Vivo",
          "Vivo",
          "OPPO",
          "Xiaomi",
          "POCO",
          "Realme",
          "Vivo",
          "Nokia",
          "OnePlus",
          "OPPO",
          "Samsung",
          "Realme",
          "Infinix",
          "Realme",
          "Vivo",
          "Xiaomi",
          "Xiaomi",
          "Motorola",
          "Google",
          "Samsung",
          "Huawei",
          "Xiaomi",
          "Huawei",
          "Vivo",
          "Xiaomi",
          "Tecno",
          "Sony",
          "Tecno",
          "Motorola",
          "OnePlus",
          "Samsung",
          "OnePlus",
          "Xiaomi",
          "Lava",
          "Motorola",
          "Infinix",
          "Tecno",
          "Honor",
          "Samsung",
          "Tecno",
          "Micromax",
          "Realme",
          "Samsung",
          "Realme",
          "Vivo",
          "Samsung",
          "Poco",
          "Blackview",
          "iKall",
          "Realme"
         ],
         "xaxis": "x",
         "yaxis": "y"
        },
        {
         "alignmentgroup": "True",
         "bingroup": "x",
         "hovertemplate": "storge= 32 GB <br>company=%{x}<br>count=%{y}<extra></extra>",
         "legendgroup": " 32 GB ",
         "marker": {
          "color": "rgb(153, 201, 69)",
          "pattern": {
           "shape": ""
          }
         },
         "name": " 32 GB ",
         "offsetgroup": " 32 GB ",
         "orientation": "v",
         "showlegend": true,
         "type": "histogram",
         "x": [
          "Vivo",
          "Realme",
          "Jio",
          "Tecno",
          "Realme",
          "Samsung",
          "POCO",
          "Xiaomi",
          "Vivo",
          "Realme",
          "Vivo",
          "Vivo",
          "Samsung",
          "OPPO",
          "Xiaomi",
          "Lyf",
          "Realme",
          "Xiaomi",
          "Vivo",
          "Vivo",
          "Nokia",
          "Motorola",
          "Realme",
          "Poco",
          "iKall",
          "Vivo",
          "Tecno",
          "Xiaomi",
          "Micromax",
          "Samsung",
          "Vivo",
          "Realme",
          "Realme",
          "OPPO",
          "Oppo",
          "OPPO",
          "Xiaomi",
          "TCL",
          "Vivo",
          "Realme",
          "Realme",
          "Samsung"
         ],
         "xaxis": "x",
         "yaxis": "y"
        },
        {
         "alignmentgroup": "True",
         "bingroup": "x",
         "hovertemplate": "storge= 512 GB <br>company=%{x}<br>count=%{y}<extra></extra>",
         "legendgroup": " 512 GB ",
         "marker": {
          "color": "rgb(204, 97, 176)",
          "pattern": {
           "shape": ""
          }
         },
         "name": " 512 GB ",
         "offsetgroup": " 512 GB ",
         "orientation": "v",
         "showlegend": true,
         "type": "histogram",
         "x": [
          "Tesla",
          "Asus",
          "Honor",
          "Apple",
          "Apple",
          "Huawei",
          "Apple",
          "Apple",
          "Apple",
          "Lenovo"
         ],
         "xaxis": "x",
         "yaxis": "y"
        },
        {
         "alignmentgroup": "True",
         "bingroup": "x",
         "hovertemplate": "storge= 1 TB <br>company=%{x}<br>count=%{y}<extra></extra>",
         "legendgroup": " 1 TB ",
         "marker": {
          "color": "rgb(36, 121, 108)",
          "pattern": {
           "shape": ""
          }
         },
         "name": " 1 TB ",
         "offsetgroup": " 1 TB ",
         "orientation": "v",
         "showlegend": true,
         "type": "histogram",
         "x": [
          "Apple",
          "Apple",
          "Apple",
          "Apple"
         ],
         "xaxis": "x",
         "yaxis": "y"
        }
       ],
       "layout": {
        "barmode": "relative",
        "height": 500,
        "legend": {
         "title": {
          "text": "storge"
         },
         "tracegroupgap": 0
        },
        "template": {
         "data": {
          "bar": [
           {
            "error_x": {
             "color": "#f2f5fa"
            },
            "error_y": {
             "color": "#f2f5fa"
            },
            "marker": {
             "line": {
              "color": "rgb(17,17,17)",
              "width": 0.5
             },
             "pattern": {
              "fillmode": "overlay",
              "size": 10,
              "solidity": 0.2
             }
            },
            "type": "bar"
           }
          ],
          "barpolar": [
           {
            "marker": {
             "line": {
              "color": "rgb(17,17,17)",
              "width": 0.5
             },
             "pattern": {
              "fillmode": "overlay",
              "size": 10,
              "solidity": 0.2
             }
            },
            "type": "barpolar"
           }
          ],
          "carpet": [
           {
            "aaxis": {
             "endlinecolor": "#A2B1C6",
             "gridcolor": "#506784",
             "linecolor": "#506784",
             "minorgridcolor": "#506784",
             "startlinecolor": "#A2B1C6"
            },
            "baxis": {
             "endlinecolor": "#A2B1C6",
             "gridcolor": "#506784",
             "linecolor": "#506784",
             "minorgridcolor": "#506784",
             "startlinecolor": "#A2B1C6"
            },
            "type": "carpet"
           }
          ],
          "choropleth": [
           {
            "colorbar": {
             "outlinewidth": 0,
             "ticks": ""
            },
            "type": "choropleth"
           }
          ],
          "contour": [
           {
            "colorbar": {
             "outlinewidth": 0,
             "ticks": ""
            },
            "colorscale": [
             [
              0,
              "#0d0887"
             ],
             [
              0.1111111111111111,
              "#46039f"
             ],
             [
              0.2222222222222222,
              "#7201a8"
             ],
             [
              0.3333333333333333,
              "#9c179e"
             ],
             [
              0.4444444444444444,
              "#bd3786"
             ],
             [
              0.5555555555555556,
              "#d8576b"
             ],
             [
              0.6666666666666666,
              "#ed7953"
             ],
             [
              0.7777777777777778,
              "#fb9f3a"
             ],
             [
              0.8888888888888888,
              "#fdca26"
             ],
             [
              1,
              "#f0f921"
             ]
            ],
            "type": "contour"
           }
          ],
          "contourcarpet": [
           {
            "colorbar": {
             "outlinewidth": 0,
             "ticks": ""
            },
            "type": "contourcarpet"
           }
          ],
          "heatmap": [
           {
            "colorbar": {
             "outlinewidth": 0,
             "ticks": ""
            },
            "colorscale": [
             [
              0,
              "#0d0887"
             ],
             [
              0.1111111111111111,
              "#46039f"
             ],
             [
              0.2222222222222222,
              "#7201a8"
             ],
             [
              0.3333333333333333,
              "#9c179e"
             ],
             [
              0.4444444444444444,
              "#bd3786"
             ],
             [
              0.5555555555555556,
              "#d8576b"
             ],
             [
              0.6666666666666666,
              "#ed7953"
             ],
             [
              0.7777777777777778,
              "#fb9f3a"
             ],
             [
              0.8888888888888888,
              "#fdca26"
             ],
             [
              1,
              "#f0f921"
             ]
            ],
            "type": "heatmap"
           }
          ],
          "heatmapgl": [
           {
            "colorbar": {
             "outlinewidth": 0,
             "ticks": ""
            },
            "colorscale": [
             [
              0,
              "#0d0887"
             ],
             [
              0.1111111111111111,
              "#46039f"
             ],
             [
              0.2222222222222222,
              "#7201a8"
             ],
             [
              0.3333333333333333,
              "#9c179e"
             ],
             [
              0.4444444444444444,
              "#bd3786"
             ],
             [
              0.5555555555555556,
              "#d8576b"
             ],
             [
              0.6666666666666666,
              "#ed7953"
             ],
             [
              0.7777777777777778,
              "#fb9f3a"
             ],
             [
              0.8888888888888888,
              "#fdca26"
             ],
             [
              1,
              "#f0f921"
             ]
            ],
            "type": "heatmapgl"
           }
          ],
          "histogram": [
           {
            "marker": {
             "pattern": {
              "fillmode": "overlay",
              "size": 10,
              "solidity": 0.2
             }
            },
            "type": "histogram"
           }
          ],
          "histogram2d": [
           {
            "colorbar": {
             "outlinewidth": 0,
             "ticks": ""
            },
            "colorscale": [
             [
              0,
              "#0d0887"
             ],
             [
              0.1111111111111111,
              "#46039f"
             ],
             [
              0.2222222222222222,
              "#7201a8"
             ],
             [
              0.3333333333333333,
              "#9c179e"
             ],
             [
              0.4444444444444444,
              "#bd3786"
             ],
             [
              0.5555555555555556,
              "#d8576b"
             ],
             [
              0.6666666666666666,
              "#ed7953"
             ],
             [
              0.7777777777777778,
              "#fb9f3a"
             ],
             [
              0.8888888888888888,
              "#fdca26"
             ],
             [
              1,
              "#f0f921"
             ]
            ],
            "type": "histogram2d"
           }
          ],
          "histogram2dcontour": [
           {
            "colorbar": {
             "outlinewidth": 0,
             "ticks": ""
            },
            "colorscale": [
             [
              0,
              "#0d0887"
             ],
             [
              0.1111111111111111,
              "#46039f"
             ],
             [
              0.2222222222222222,
              "#7201a8"
             ],
             [
              0.3333333333333333,
              "#9c179e"
             ],
             [
              0.4444444444444444,
              "#bd3786"
             ],
             [
              0.5555555555555556,
              "#d8576b"
             ],
             [
              0.6666666666666666,
              "#ed7953"
             ],
             [
              0.7777777777777778,
              "#fb9f3a"
             ],
             [
              0.8888888888888888,
              "#fdca26"
             ],
             [
              1,
              "#f0f921"
             ]
            ],
            "type": "histogram2dcontour"
           }
          ],
          "mesh3d": [
           {
            "colorbar": {
             "outlinewidth": 0,
             "ticks": ""
            },
            "type": "mesh3d"
           }
          ],
          "parcoords": [
           {
            "line": {
             "colorbar": {
              "outlinewidth": 0,
              "ticks": ""
             }
            },
            "type": "parcoords"
           }
          ],
          "pie": [
           {
            "automargin": true,
            "type": "pie"
           }
          ],
          "scatter": [
           {
            "marker": {
             "line": {
              "color": "#283442"
             }
            },
            "type": "scatter"
           }
          ],
          "scatter3d": [
           {
            "line": {
             "colorbar": {
              "outlinewidth": 0,
              "ticks": ""
             }
            },
            "marker": {
             "colorbar": {
              "outlinewidth": 0,
              "ticks": ""
             }
            },
            "type": "scatter3d"
           }
          ],
          "scattercarpet": [
           {
            "marker": {
             "colorbar": {
              "outlinewidth": 0,
              "ticks": ""
             }
            },
            "type": "scattercarpet"
           }
          ],
          "scattergeo": [
           {
            "marker": {
             "colorbar": {
              "outlinewidth": 0,
              "ticks": ""
             }
            },
            "type": "scattergeo"
           }
          ],
          "scattergl": [
           {
            "marker": {
             "line": {
              "color": "#283442"
             }
            },
            "type": "scattergl"
           }
          ],
          "scattermapbox": [
           {
            "marker": {
             "colorbar": {
              "outlinewidth": 0,
              "ticks": ""
             }
            },
            "type": "scattermapbox"
           }
          ],
          "scatterpolar": [
           {
            "marker": {
             "colorbar": {
              "outlinewidth": 0,
              "ticks": ""
             }
            },
            "type": "scatterpolar"
           }
          ],
          "scatterpolargl": [
           {
            "marker": {
             "colorbar": {
              "outlinewidth": 0,
              "ticks": ""
             }
            },
            "type": "scatterpolargl"
           }
          ],
          "scatterternary": [
           {
            "marker": {
             "colorbar": {
              "outlinewidth": 0,
              "ticks": ""
             }
            },
            "type": "scatterternary"
           }
          ],
          "surface": [
           {
            "colorbar": {
             "outlinewidth": 0,
             "ticks": ""
            },
            "colorscale": [
             [
              0,
              "#0d0887"
             ],
             [
              0.1111111111111111,
              "#46039f"
             ],
             [
              0.2222222222222222,
              "#7201a8"
             ],
             [
              0.3333333333333333,
              "#9c179e"
             ],
             [
              0.4444444444444444,
              "#bd3786"
             ],
             [
              0.5555555555555556,
              "#d8576b"
             ],
             [
              0.6666666666666666,
              "#ed7953"
             ],
             [
              0.7777777777777778,
              "#fb9f3a"
             ],
             [
              0.8888888888888888,
              "#fdca26"
             ],
             [
              1,
              "#f0f921"
             ]
            ],
            "type": "surface"
           }
          ],
          "table": [
           {
            "cells": {
             "fill": {
              "color": "#506784"
             },
             "line": {
              "color": "rgb(17,17,17)"
             }
            },
            "header": {
             "fill": {
              "color": "#2a3f5f"
             },
             "line": {
              "color": "rgb(17,17,17)"
             }
            },
            "type": "table"
           }
          ]
         },
         "layout": {
          "annotationdefaults": {
           "arrowcolor": "#f2f5fa",
           "arrowhead": 0,
           "arrowwidth": 1
          },
          "autotypenumbers": "strict",
          "coloraxis": {
           "colorbar": {
            "outlinewidth": 0,
            "ticks": ""
           }
          },
          "colorscale": {
           "diverging": [
            [
             0,
             "#8e0152"
            ],
            [
             0.1,
             "#c51b7d"
            ],
            [
             0.2,
             "#de77ae"
            ],
            [
             0.3,
             "#f1b6da"
            ],
            [
             0.4,
             "#fde0ef"
            ],
            [
             0.5,
             "#f7f7f7"
            ],
            [
             0.6,
             "#e6f5d0"
            ],
            [
             0.7,
             "#b8e186"
            ],
            [
             0.8,
             "#7fbc41"
            ],
            [
             0.9,
             "#4d9221"
            ],
            [
             1,
             "#276419"
            ]
           ],
           "sequential": [
            [
             0,
             "#0d0887"
            ],
            [
             0.1111111111111111,
             "#46039f"
            ],
            [
             0.2222222222222222,
             "#7201a8"
            ],
            [
             0.3333333333333333,
             "#9c179e"
            ],
            [
             0.4444444444444444,
             "#bd3786"
            ],
            [
             0.5555555555555556,
             "#d8576b"
            ],
            [
             0.6666666666666666,
             "#ed7953"
            ],
            [
             0.7777777777777778,
             "#fb9f3a"
            ],
            [
             0.8888888888888888,
             "#fdca26"
            ],
            [
             1,
             "#f0f921"
            ]
           ],
           "sequentialminus": [
            [
             0,
             "#0d0887"
            ],
            [
             0.1111111111111111,
             "#46039f"
            ],
            [
             0.2222222222222222,
             "#7201a8"
            ],
            [
             0.3333333333333333,
             "#9c179e"
            ],
            [
             0.4444444444444444,
             "#bd3786"
            ],
            [
             0.5555555555555556,
             "#d8576b"
            ],
            [
             0.6666666666666666,
             "#ed7953"
            ],
            [
             0.7777777777777778,
             "#fb9f3a"
            ],
            [
             0.8888888888888888,
             "#fdca26"
            ],
            [
             1,
             "#f0f921"
            ]
           ]
          },
          "colorway": [
           "#636efa",
           "#EF553B",
           "#00cc96",
           "#ab63fa",
           "#FFA15A",
           "#19d3f3",
           "#FF6692",
           "#B6E880",
           "#FF97FF",
           "#FECB52"
          ],
          "font": {
           "color": "#f2f5fa"
          },
          "geo": {
           "bgcolor": "rgb(17,17,17)",
           "lakecolor": "rgb(17,17,17)",
           "landcolor": "rgb(17,17,17)",
           "showlakes": true,
           "showland": true,
           "subunitcolor": "#506784"
          },
          "hoverlabel": {
           "align": "left"
          },
          "hovermode": "closest",
          "mapbox": {
           "style": "dark"
          },
          "paper_bgcolor": "rgb(17,17,17)",
          "plot_bgcolor": "rgb(17,17,17)",
          "polar": {
           "angularaxis": {
            "gridcolor": "#506784",
            "linecolor": "#506784",
            "ticks": ""
           },
           "bgcolor": "rgb(17,17,17)",
           "radialaxis": {
            "gridcolor": "#506784",
            "linecolor": "#506784",
            "ticks": ""
           }
          },
          "scene": {
           "xaxis": {
            "backgroundcolor": "rgb(17,17,17)",
            "gridcolor": "#506784",
            "gridwidth": 2,
            "linecolor": "#506784",
            "showbackground": true,
            "ticks": "",
            "zerolinecolor": "#C8D4E3"
           },
           "yaxis": {
            "backgroundcolor": "rgb(17,17,17)",
            "gridcolor": "#506784",
            "gridwidth": 2,
            "linecolor": "#506784",
            "showbackground": true,
            "ticks": "",
            "zerolinecolor": "#C8D4E3"
           },
           "zaxis": {
            "backgroundcolor": "rgb(17,17,17)",
            "gridcolor": "#506784",
            "gridwidth": 2,
            "linecolor": "#506784",
            "showbackground": true,
            "ticks": "",
            "zerolinecolor": "#C8D4E3"
           }
          },
          "shapedefaults": {
           "line": {
            "color": "#f2f5fa"
           }
          },
          "sliderdefaults": {
           "bgcolor": "#C8D4E3",
           "bordercolor": "rgb(17,17,17)",
           "borderwidth": 1,
           "tickwidth": 0
          },
          "ternary": {
           "aaxis": {
            "gridcolor": "#506784",
            "linecolor": "#506784",
            "ticks": ""
           },
           "baxis": {
            "gridcolor": "#506784",
            "linecolor": "#506784",
            "ticks": ""
           },
           "bgcolor": "rgb(17,17,17)",
           "caxis": {
            "gridcolor": "#506784",
            "linecolor": "#506784",
            "ticks": ""
           }
          },
          "title": {
           "x": 0.05
          },
          "updatemenudefaults": {
           "bgcolor": "#506784",
           "borderwidth": 0
          },
          "xaxis": {
           "automargin": true,
           "gridcolor": "#283442",
           "linecolor": "#506784",
           "ticks": "",
           "title": {
            "standoff": 15
           },
           "zerolinecolor": "#283442",
           "zerolinewidth": 2
          },
          "yaxis": {
           "automargin": true,
           "gridcolor": "#283442",
           "linecolor": "#506784",
           "ticks": "",
           "title": {
            "standoff": 15
           },
           "zerolinecolor": "#283442",
           "zerolinewidth": 2
          }
         }
        },
        "title": {
         "font": {
          "size": 20
         },
         "text": "<b>Count of ROM(storge) for every mobile company"
        },
        "width": 1500,
        "xaxis": {
         "anchor": "y",
         "domain": [
          0,
          1
         ],
         "title": {
          "text": "company"
         }
        },
        "yaxis": {
         "anchor": "x",
         "domain": [
          0,
          1
         ],
         "title": {
          "text": "count"
         }
        }
       }
      }
     },
     "metadata": {},
     "output_type": "display_data"
    }
   ],
   "source": [
    "fig=px.histogram(df,x=\"company\",color=\"storge\",title=\"<b>Count of ROM(storge) for every mobile company\",\n",
    "                color_discrete_sequence=px.colors.qualitative.Vivid,\n",
    "                width=1500, height=500)\n",
    "fig.update_layout(template=\"plotly_dark\")\n",
    "fig.update_layout(title_font_size=20)\n",
    "fig.show()"
   ]
  },
  {
   "cell_type": "code",
   "execution_count": 42,
   "metadata": {},
   "outputs": [
    {
     "data": {
      "application/vnd.plotly.v1+json": {
       "config": {
        "plotlyServerURL": "https://plot.ly"
       },
       "data": [
        {
         "alignmentgroup": "True",
         "bingroup": "x",
         "hovertemplate": "processor=Snapdragon<br>company=%{x}<br>count=%{y}<extra></extra>",
         "legendgroup": "Snapdragon",
         "marker": {
          "color": "rgb(229, 134, 6)",
          "pattern": {
           "shape": ""
          }
         },
         "name": "Snapdragon",
         "offsetgroup": "Snapdragon",
         "orientation": "v",
         "showlegend": true,
         "type": "histogram",
         "x": [
          "OnePlus",
          "OnePlus",
          "Motorola",
          "Samsung",
          "Nothing",
          "Realme",
          "Vivo",
          "OPPO",
          "OnePlus",
          "Poco",
          "Xiaomi",
          "Samsung",
          "OnePlus",
          "Realme",
          "Poco",
          "Oppo",
          "Xiaomi",
          "OPPO",
          "OnePlus",
          "Xiaomi",
          "Vivo",
          "Xiaomi",
          "Jio",
          "Motorola",
          "Samsung",
          "Motorola",
          "Vivo",
          "Samsung",
          "OnePlus",
          "Samsung",
          "iQOO",
          "OnePlus",
          "OPPO",
          "Vivo",
          "Motorola",
          "Samsung",
          "Xiaomi",
          "Motorola",
          "Realme",
          "iQOO",
          "Vivo",
          "Xiaomi",
          "Motorola",
          "Samsung",
          "Vivo",
          "iQOO",
          "Samsung",
          "Motorola",
          "Motorola",
          "OnePlus",
          "Xiaomi",
          "Nothing",
          "Poco",
          "Xiaomi",
          "OPPO",
          "iQOO",
          "iQOO",
          "OnePlus",
          "iQOO",
          "Xiaomi",
          "Xiaomi",
          "Motorola",
          "Oppo",
          "OPPO",
          "Realme",
          "Realme",
          "Oppo",
          "iQOO",
          "Xiaomi",
          "OPPO",
          "iQOO",
          "Motorola",
          "Samsung",
          "Motorola",
          "Samsung",
          "Motorola",
          "OnePlus",
          "Poco",
          "OPPO",
          "Motorola",
          "Nothing",
          "Realme",
          "Honor",
          "Xiaomi",
          "Motorola",
          "Xiaomi",
          "Realme",
          "iQOO",
          "Vivo",
          "Xiaomi",
          "Vivo",
          "OPPO",
          "Samsung",
          "Vivo",
          "OPPO",
          "Nubia",
          "iQOO",
          "Xiaomi",
          "OPPO",
          "Samsung",
          "Vivo",
          "OnePlus",
          "Redmi",
          "Nothing",
          "Xiaomi",
          "Xiaomi",
          "Asus",
          "Samsung",
          "Xiaomi",
          "Samsung",
          "OPPO",
          "Xiaomi",
          "Motorola",
          "Xiaomi",
          "Xiaomi",
          "Samsung",
          "OnePlus",
          "OnePlus",
          "Motorola",
          "Honor",
          "iQOO",
          "Royole",
          "Xiaomi",
          "Vivo",
          "OPPO",
          "iQOO",
          "Realme",
          "Poco",
          "Motorola",
          "OnePlus",
          "OnePlus",
          "Motorola",
          "Xiaomi",
          "Vivo",
          "Poco",
          "Realme",
          "Xiaomi",
          "iQOO",
          "Samsung",
          "OnePlus",
          "Vivo",
          "Poco",
          "Google",
          "OPPO",
          "Realme",
          "Samsung",
          "iQOO",
          "Vivo",
          "Realme",
          "OPPO",
          "Realme",
          "Xiaomi",
          "Realme",
          "Realme",
          "Asus",
          "Oppo",
          "Realme",
          "OnePlus",
          "Xiaomi",
          "Realme",
          "Redmi",
          "Motorola",
          "Honor",
          "Xiaomi",
          "Nokia",
          "Xiaomi",
          "Vertu",
          "Poco",
          "Samsung",
          "Poco",
          "Asus",
          "iQOO",
          "Nubia",
          "Vivo",
          "OPPO",
          "Xiaomi",
          "Samsung",
          "Xiaomi",
          "Lyf",
          "Huawei",
          "iQOO",
          "Sony",
          "Vivo",
          "Nubia",
          "iQOO",
          "Samsung",
          "OnePlus",
          "Google",
          "Honor",
          "Realme",
          "Google",
          "iQOO",
          "OPPO",
          "Motorola",
          "Realme",
          "Vivo",
          "Xiaomi",
          "Xiaomi",
          "ZTE",
          "OPPO",
          "Huawei",
          "Samsung",
          "Lenovo",
          "Nokia",
          "Poco",
          "Xiaomi",
          "iQOO",
          "OPPO",
          "Poco",
          "Asus",
          "Realme",
          "Nubia",
          "Samsung",
          "LG",
          "Xiaomi",
          "Samsung",
          "OPPO",
          "Nokia",
          "Motorola",
          "Oppo",
          "iQOO",
          "Xiaomi",
          "iQOO",
          "iQOO",
          "Realme",
          "OnePlus",
          "Sony",
          "Vivo",
          "Poco",
          "Vivo",
          "Sony",
          "Motorola",
          "Xiaomi",
          "Realme",
          "iQOO",
          "OnePlus",
          "POCO",
          "Xiaomi",
          "Samsung",
          "Asus",
          "OPPO",
          "OPPO",
          "Xiaomi",
          "Xiaomi",
          "Xiaomi",
          "Xiaomi",
          "LG",
          "Motorola",
          "iQOO",
          "Honor",
          "Sony",
          "Nubia",
          "Xiaomi",
          "OPPO",
          "OPPO",
          "OnePlus",
          "Motorola",
          "Vivo",
          "Vivo",
          "Motorola",
          "Huawei",
          "iQOO",
          "Huawei",
          "Realme",
          "OPPO",
          "Motorola",
          "Poco",
          "Vivo",
          "Xiaomi",
          "Vivo",
          "Vivo",
          "Oppo",
          "Realme",
          "Xiaomi",
          "Xiaomi",
          "Motorola",
          "Motorola",
          "Realme",
          "Honor",
          "Samsung",
          "Vivo",
          "Vivo",
          "Vivo",
          "Xiaomi",
          "POCO",
          "Realme",
          "Vivo",
          "Vivo",
          "Vivo",
          "Realme",
          "Leitz",
          "Realme",
          "Xiaomi",
          "Xiaomi",
          "Poco",
          "Vivo",
          "Vivo",
          "Xiaomi",
          "Realme",
          "Xiaomi",
          "Xiaomi",
          "Xiaomi",
          "Lenovo",
          "Oppo",
          "Sony",
          "Vivo",
          "Xiaomi",
          "iQOO",
          "Vivo",
          "Nokia",
          "Huawei",
          "Huawei",
          "OnePlus",
          "iQOO",
          "Oppo",
          "Royole",
          "Realme",
          "Sony",
          "Motorola",
          "OnePlus",
          "OnePlus",
          "OnePlus",
          "Xiaomi",
          "Realme",
          "Xiaomi",
          "ZTE",
          "Xiaomi",
          "Nothing",
          "OnePlus",
          "Realme",
          "iQOO",
          "Vivo",
          "Oppo",
          "iQOO",
          "Nubia",
          "Nokia",
          "Vivo",
          "Oppo",
          "Honor",
          "iQOO",
          "Realme",
          "Google",
          "Vivo",
          "OPPO",
          "Xiaomi",
          "Vivo",
          "OnePlus",
          "Sharp",
          "Samsung",
          "Motorola",
          "Xiaomi",
          "Motorola",
          "Oppo",
          "Motorola",
          "Honor",
          "Motorola"
         ],
         "xaxis": "x",
         "yaxis": "y"
        },
        {
         "alignmentgroup": "True",
         "bingroup": "x",
         "hovertemplate": "processor=Exynos<br>company=%{x}<br>count=%{y}<extra></extra>",
         "legendgroup": "Exynos",
         "marker": {
          "color": "rgb(93, 105, 177)",
          "pattern": {
           "shape": ""
          }
         },
         "name": "Exynos",
         "offsetgroup": "Exynos",
         "orientation": "v",
         "showlegend": true,
         "type": "histogram",
         "x": [
          "Samsung",
          "Samsung",
          "Samsung",
          "Samsung",
          "Samsung",
          "Samsung",
          "Samsung",
          "Samsung",
          "Samsung",
          "Samsung",
          "Samsung",
          "Samsung",
          "Samsung",
          "Samsung",
          "Samsung",
          "Samsung",
          "Samsung",
          "Samsung",
          "Samsung",
          "Samsung",
          "Samsung",
          "Samsung",
          "Samsung",
          "Samsung",
          "Samsung",
          "Samsung",
          "Samsung",
          "Samsung",
          "Samsung",
          "Samsung",
          "Samsung",
          "Samsung",
          "Samsung",
          "Samsung",
          "Samsung",
          "Samsung",
          "Samsung",
          "Samsung",
          "Samsung",
          "Samsung",
          "Samsung",
          "Samsung",
          "Samsung",
          "Samsung",
          "Samsung"
         ],
         "xaxis": "x",
         "yaxis": "y"
        },
        {
         "alignmentgroup": "True",
         "bingroup": "x",
         "hovertemplate": "processor=Dimensity<br>company=%{x}<br>count=%{y}<extra></extra>",
         "legendgroup": "Dimensity",
         "marker": {
          "color": "rgb(82, 188, 163)",
          "pattern": {
           "shape": ""
          }
         },
         "name": "Dimensity",
         "offsetgroup": "Dimensity",
         "orientation": "v",
         "showlegend": true,
         "type": "histogram",
         "x": [
          "Realme",
          "Xiaomi",
          "OnePlus",
          "Oppo",
          "Xiaomi",
          "OnePlus",
          "Vivo",
          "Vivo",
          "Vivo",
          "Vivo",
          "Samsung",
          "Motorola",
          "Realme",
          "iQOO",
          "Realme",
          "Xiaomi",
          "Poco",
          "Vivo",
          "Xiaomi",
          "Vivo",
          "Xiaomi",
          "Realme",
          "Samsung",
          "OPPO",
          "OnePlus",
          "Realme",
          "OPPO",
          "Vivo",
          "OnePlus",
          "Tecno",
          "Xiaomi",
          "OPPO",
          "Samsung",
          "OnePlus",
          "Infinix",
          "Vivo",
          "Xiaomi",
          "OPPO",
          "Poco",
          "Infinix",
          "Vivo",
          "Infinix",
          "Realme",
          "Vivo",
          "Vivo",
          "Infinix",
          "Realme",
          "OnePlus",
          "OPPO",
          "Poco",
          "Xiaomi",
          "Vivo",
          "Realme",
          "Lava",
          "Vivo",
          "Realme",
          "Realme",
          "Realme",
          "OPPO",
          "OPPO",
          "Xiaomi",
          "Xiaomi",
          "Motorola",
          "Tecno",
          "Poco",
          "Tecno",
          "Infinix",
          "OPPO",
          "Xiaomi",
          "Vivo",
          "Xiaomi",
          "iQOO",
          "Xiaomi",
          "Infinix",
          "Poco",
          "Xiaomi",
          "OPPO",
          "Vivo",
          "Samsung",
          "POCO",
          "Tecno",
          "OPPO",
          "Xiaomi",
          "Realme",
          "Realme",
          "Realme",
          "OPPO",
          "Samsung",
          "Xiaomi",
          "Xiaomi",
          "OPPO",
          "Xiaomi",
          "OPPO",
          "Vivo",
          "BLU",
          "Asus",
          "Xiaomi",
          "Vivo",
          "OPPO",
          "Samsung",
          "POCO",
          "Realme",
          "Vivo",
          "Honor",
          "Samsung",
          "POCO",
          "Xiaomi",
          "Oppo",
          "Vivo",
          "Realme",
          "OnePlus",
          "Vivo",
          "Realme",
          "Realme",
          "Xiaomi",
          "OnePlus",
          "Samsung",
          "Oppo",
          "Realme",
          "Xiaomi",
          "Xiaomi",
          "Samsung",
          "Vivo",
          "Xiaomi",
          "Realme",
          "Lava",
          "POCO",
          "Vivo",
          "Realme",
          "Realme",
          "OPPO",
          "OnePlus",
          "Vivo",
          "Realme",
          "Xiaomi",
          "Xiaomi",
          "Vivo",
          "Xiaomi",
          "Poco",
          "OPPO",
          "Vivo",
          "Xiaomi",
          "Oppo",
          "Xiaomi",
          "Vivo",
          "Tecno",
          "Vivo",
          "Xiaomi",
          "Xiaomi",
          "Realme",
          "Vivo",
          "Xiaomi",
          "OnePlus",
          "Vivo",
          "Xiaomi",
          "Vivo",
          "Realme",
          "Realme",
          "Doogee",
          "Samsung",
          "OnePlus",
          "Xiaomi",
          "Poco",
          "Realme",
          "Oppo",
          "Vivo",
          "Tecno",
          "OPPO",
          "POCO",
          "Xiaomi",
          "Samsung",
          "Poco",
          "OPPO",
          "Xiaomi",
          "POCO"
         ],
         "xaxis": "x",
         "yaxis": "y"
        },
        {
         "alignmentgroup": "True",
         "bingroup": "x",
         "hovertemplate": "processor=Bionic<br>company=%{x}<br>count=%{y}<extra></extra>",
         "legendgroup": "Bionic",
         "marker": {
          "color": "rgb(153, 201, 69)",
          "pattern": {
           "shape": ""
          }
         },
         "name": "Bionic",
         "offsetgroup": "Bionic",
         "orientation": "v",
         "showlegend": true,
         "type": "histogram",
         "x": [
          "Apple",
          "Apple",
          "Apple",
          "Apple",
          "Apple",
          "Apple",
          "Apple",
          "Apple",
          "Apple",
          "Apple",
          "Apple",
          "Apple",
          "Apple",
          "Apple",
          "Apple",
          "Apple",
          "Apple",
          "Apple",
          "Apple",
          "Apple",
          "Apple",
          "Apple",
          "Apple",
          "Apple",
          "Apple",
          "Apple",
          "Apple",
          "Apple",
          "Apple",
          "Apple",
          "Apple",
          "Apple",
          "Apple",
          "Apple",
          "Apple",
          "Apple",
          "Apple",
          "Apple"
         ],
         "xaxis": "x",
         "yaxis": "y"
        },
        {
         "alignmentgroup": "True",
         "bingroup": "x",
         "hovertemplate": "processor=Helio<br>company=%{x}<br>count=%{y}<extra></extra>",
         "legendgroup": "Helio",
         "marker": {
          "color": "rgb(204, 97, 176)",
          "pattern": {
           "shape": ""
          }
         },
         "name": "Helio",
         "offsetgroup": "Helio",
         "orientation": "v",
         "showlegend": true,
         "type": "histogram",
         "x": [
          "Vivo",
          "Vivo",
          "Vivo",
          "Realme",
          "Xiaomi",
          "Vivo",
          "OPPO",
          "Xiaomi",
          "Motorola",
          "Vivo",
          "OPPO",
          "Samsung",
          "Cola",
          "Xiaomi",
          "Realme",
          "Xiaomi",
          "Realme",
          "POCO",
          "Tecno",
          "Realme",
          "Samsung",
          "Tecno",
          "Tecno",
          "Samsung",
          "POCO",
          "Vivo",
          "Vivo",
          "OPPO",
          "Motorola",
          "Infinix",
          "Motorola",
          "POCO",
          "Samsung",
          "Infinix",
          "Tecno",
          "Infinix",
          "Xiaomi",
          "Xiaomi",
          "Vivo",
          "Tecno",
          "Infinix",
          "Infinix",
          "Xiaomi",
          "Xiaomi",
          "Samsung",
          "POCO",
          "Motorola",
          "Xiaomi",
          "Vivo",
          "OPPO",
          "Xiaomi",
          "Tecno",
          "Vivo",
          "Samsung",
          "Oukitel",
          "Xiaomi",
          "OPPO",
          "Samsung",
          "Tecno",
          "OPPO",
          "Motorola",
          "Xiaomi",
          "Xiaomi",
          "Samsung",
          "Motorola",
          "Infinix",
          "Vivo",
          "Tecno",
          "Samsung",
          "Redmi",
          "Sony",
          "Tecno",
          "Xiaomi",
          "Samsung",
          "Infinix",
          "Samsung",
          "Vivo",
          "Tecno",
          "Motorola",
          "Xiaomi",
          "Motorola",
          "Xiaomi",
          "Realme",
          "Vivo",
          "Samsung",
          "Vivo",
          "Vivo",
          "Poco",
          "Realme",
          "Motorola",
          "OPPO",
          "POCO",
          "Realme",
          "Samsung",
          "Oppo",
          "OPPO",
          "OPPO",
          "Tecno",
          "Xiaomi",
          "Xiaomi",
          "Vivo",
          "Samsung",
          "Xiaomi",
          "Oukitel",
          "Xiaomi",
          "Realme",
          "OPPO",
          "OPPO",
          "Samsung",
          "Tecno",
          "Vivo",
          "Vivo",
          "Xiaomi",
          "Vivo",
          "Tecno",
          "Infinix",
          "Samsung",
          "Tecno",
          "Infinix",
          "Infinix",
          "Vivo",
          "OPPO",
          "Gionee",
          "Poco",
          "OPPO",
          "Vivo",
          "Infinix",
          "Tecno",
          "Xiaomi",
          "Vivo",
          "Poco",
          "Vivo",
          "Xiaomi",
          "Vivo",
          "Samsung",
          "Samsung",
          "OPPO",
          "OPPO",
          "Oppo",
          "Vivo",
          "Samsung",
          "Infinix",
          "Xiaomi",
          "Tecno",
          "OPPO",
          "Infinix",
          "Infinix",
          "Xiaomi",
          "Infinix",
          "Xiaomi",
          "Realme",
          "Oppo",
          "Vivo",
          "Xiaomi",
          "Motorola",
          "Poco",
          "Tecno",
          "Vivo",
          "Infinix",
          "Tecno",
          "Tecno",
          "Tecno",
          "Realme",
          "Tecno",
          "Realme",
          "OPPO",
          "Oppo",
          "Xiaomi",
          "OPPO",
          "Lava",
          "Motorola",
          "Xiaomi",
          "Infinix",
          "Tecno",
          "Honor",
          "TCL",
          "Infinix",
          "Infinix",
          "OPPO",
          "Realme",
          "Samsung",
          "Xiaomi",
          "Realme",
          "Realme",
          "Poco",
          "Blackview",
          "Honor",
          "Doogee",
          "Oukitel"
         ],
         "xaxis": "x",
         "yaxis": "y"
        },
        {
         "alignmentgroup": "True",
         "bingroup": "x",
         "hovertemplate": "processor=A13<br>company=%{x}<br>count=%{y}<extra></extra>",
         "legendgroup": "A13",
         "marker": {
          "color": "rgb(36, 121, 108)",
          "pattern": {
           "shape": ""
          }
         },
         "name": "A13",
         "offsetgroup": "A13",
         "orientation": "v",
         "showlegend": true,
         "type": "histogram",
         "x": [
          "Apple",
          "Apple",
          "Apple",
          "Apple",
          "Apple"
         ],
         "xaxis": "x",
         "yaxis": "y"
        },
        {
         "alignmentgroup": "True",
         "bingroup": "x",
         "hovertemplate": "processor=Unisoc<br>company=%{x}<br>count=%{y}<extra></extra>",
         "legendgroup": "Unisoc",
         "marker": {
          "color": "rgb(218, 165, 27)",
          "pattern": {
           "shape": ""
          }
         },
         "name": "Unisoc",
         "offsetgroup": "Unisoc",
         "orientation": "v",
         "showlegend": true,
         "type": "histogram",
         "x": [
          "Realme",
          "Realme",
          "Tecno",
          "Samsung",
          "Nokia",
          "Nokia",
          "Nokia",
          "Realme",
          "Realme",
          "Realme",
          "Micromax",
          "itel",
          "Nokia",
          "Samsung",
          "Nokia",
          "Tecno",
          "Micromax"
         ],
         "xaxis": "x",
         "yaxis": "y"
        },
        {
         "alignmentgroup": "True",
         "bingroup": "x",
         "hovertemplate": "processor=Octa<br>company=%{x}<br>count=%{y}<extra></extra>",
         "legendgroup": "Octa",
         "marker": {
          "color": "rgb(47, 138, 196)",
          "pattern": {
           "shape": ""
          }
         },
         "name": "Octa",
         "offsetgroup": "Octa",
         "orientation": "v",
         "showlegend": true,
         "type": "histogram",
         "x": [
          "Tesla",
          "Samsung",
          "Samsung",
          "Samsung",
          "Samsung",
          "Samsung",
          "Tecno",
          "Samsung",
          "Samsung",
          "Huawei",
          "Samsung",
          "Samsung",
          "Samsung",
          "Samsung"
         ],
         "xaxis": "x",
         "yaxis": "y"
        },
        {
         "alignmentgroup": "True",
         "bingroup": "x",
         "hovertemplate": "processor=Google<br>company=%{x}<br>count=%{y}<extra></extra>",
         "legendgroup": "Google",
         "marker": {
          "color": "rgb(118, 78, 159)",
          "pattern": {
           "shape": ""
          }
         },
         "name": "Google",
         "offsetgroup": "Google",
         "orientation": "v",
         "showlegend": true,
         "type": "histogram",
         "x": [
          "Google",
          "Google",
          "Google",
          "Google",
          "Google",
          "Google",
          "Google"
         ],
         "xaxis": "x",
         "yaxis": "y"
        },
        {
         "alignmentgroup": "True",
         "bingroup": "x",
         "hovertemplate": "processor=Tiger<br>company=%{x}<br>count=%{y}<extra></extra>",
         "legendgroup": "Tiger",
         "marker": {
          "color": "rgb(237, 100, 90)",
          "pattern": {
           "shape": ""
          }
         },
         "name": "Tiger",
         "offsetgroup": "Tiger",
         "orientation": "v",
         "showlegend": true,
         "type": "histogram",
         "x": [
          "Motorola",
          "Realme",
          "LeEco",
          "Realme",
          "Realme",
          "Realme",
          "Realme",
          "Infinix",
          "Motorola",
          "Realme",
          "Infinix",
          "Letv",
          "Infinix",
          "Realme",
          "Realme",
          "Micromax",
          "Realme",
          "Realme",
          "Realme",
          "Realme"
         ],
         "xaxis": "x",
         "yaxis": "y"
        },
        {
         "alignmentgroup": "True",
         "bingroup": "x",
         "hovertemplate": "processor=Quad<br>company=%{x}<br>count=%{y}<extra></extra>",
         "legendgroup": "Quad",
         "marker": {
          "color": "rgb(165, 170, 153)",
          "pattern": {
           "shape": ""
          }
         },
         "name": "Quad",
         "offsetgroup": "Quad",
         "orientation": "v",
         "showlegend": true,
         "type": "histogram",
         "x": [
          "iKall",
          "iKall",
          "iKall"
         ],
         "xaxis": "x",
         "yaxis": "y"
        },
        {
         "alignmentgroup": "True",
         "bingroup": "x",
         "hovertemplate": "processor=Apple<br>company=%{x}<br>count=%{y}<extra></extra>",
         "legendgroup": "Apple",
         "marker": {
          "color": "rgb(229, 134, 6)",
          "pattern": {
           "shape": ""
          }
         },
         "name": "Apple",
         "offsetgroup": "Apple",
         "orientation": "v",
         "showlegend": true,
         "type": "histogram",
         "x": [
          "Apple"
         ],
         "xaxis": "x",
         "yaxis": "y"
        },
        {
         "alignmentgroup": "True",
         "bingroup": "x",
         "hovertemplate": "processor=SC9863A,<br>company=%{x}<br>count=%{y}<extra></extra>",
         "legendgroup": "SC9863A,",
         "marker": {
          "color": "rgb(93, 105, 177)",
          "pattern": {
           "shape": ""
          }
         },
         "name": "SC9863A,",
         "offsetgroup": "SC9863A,",
         "orientation": "v",
         "showlegend": true,
         "type": "histogram",
         "x": [
          "Realme",
          "Realme"
         ],
         "xaxis": "x",
         "yaxis": "y"
        },
        {
         "alignmentgroup": "True",
         "bingroup": "x",
         "hovertemplate": "processor=Sanpdragon<br>company=%{x}<br>count=%{y}<extra></extra>",
         "legendgroup": "Sanpdragon",
         "marker": {
          "color": "rgb(82, 188, 163)",
          "pattern": {
           "shape": ""
          }
         },
         "name": "Sanpdragon",
         "offsetgroup": "Sanpdragon",
         "orientation": "v",
         "showlegend": true,
         "type": "histogram",
         "x": [
          "Huawei"
         ],
         "xaxis": "x",
         "yaxis": "y"
        },
        {
         "alignmentgroup": "True",
         "bingroup": "x",
         "hovertemplate": "processor=Kirin<br>company=%{x}<br>count=%{y}<extra></extra>",
         "legendgroup": "Kirin",
         "marker": {
          "color": "rgb(153, 201, 69)",
          "pattern": {
           "shape": ""
          }
         },
         "name": "Kirin",
         "offsetgroup": "Kirin",
         "orientation": "v",
         "showlegend": true,
         "type": "histogram",
         "x": [
          "Huawei",
          "Huawei",
          "Huawei"
         ],
         "xaxis": "x",
         "yaxis": "y"
        },
        {
         "alignmentgroup": "True",
         "bingroup": "x",
         "hovertemplate": "processor=Qualcomm<br>company=%{x}<br>count=%{y}<extra></extra>",
         "legendgroup": "Qualcomm",
         "marker": {
          "color": "rgb(204, 97, 176)",
          "pattern": {
           "shape": ""
          }
         },
         "name": "Qualcomm",
         "offsetgroup": "Qualcomm",
         "orientation": "v",
         "showlegend": true,
         "type": "histogram",
         "x": [
          "Google",
          "Xiaomi"
         ],
         "xaxis": "x",
         "yaxis": "y"
        },
        {
         "alignmentgroup": "True",
         "bingroup": "x",
         "hovertemplate": "processor=Samsung<br>company=%{x}<br>count=%{y}<extra></extra>",
         "legendgroup": "Samsung",
         "marker": {
          "color": "rgb(36, 121, 108)",
          "pattern": {
           "shape": ""
          }
         },
         "name": "Samsung",
         "offsetgroup": "Samsung",
         "orientation": "v",
         "showlegend": true,
         "type": "histogram",
         "x": [
          "Samsung"
         ],
         "xaxis": "x",
         "yaxis": "y"
        }
       ],
       "layout": {
        "barmode": "relative",
        "height": 500,
        "legend": {
         "title": {
          "text": "processor"
         },
         "tracegroupgap": 0
        },
        "template": {
         "data": {
          "bar": [
           {
            "error_x": {
             "color": "#f2f5fa"
            },
            "error_y": {
             "color": "#f2f5fa"
            },
            "marker": {
             "line": {
              "color": "rgb(17,17,17)",
              "width": 0.5
             },
             "pattern": {
              "fillmode": "overlay",
              "size": 10,
              "solidity": 0.2
             }
            },
            "type": "bar"
           }
          ],
          "barpolar": [
           {
            "marker": {
             "line": {
              "color": "rgb(17,17,17)",
              "width": 0.5
             },
             "pattern": {
              "fillmode": "overlay",
              "size": 10,
              "solidity": 0.2
             }
            },
            "type": "barpolar"
           }
          ],
          "carpet": [
           {
            "aaxis": {
             "endlinecolor": "#A2B1C6",
             "gridcolor": "#506784",
             "linecolor": "#506784",
             "minorgridcolor": "#506784",
             "startlinecolor": "#A2B1C6"
            },
            "baxis": {
             "endlinecolor": "#A2B1C6",
             "gridcolor": "#506784",
             "linecolor": "#506784",
             "minorgridcolor": "#506784",
             "startlinecolor": "#A2B1C6"
            },
            "type": "carpet"
           }
          ],
          "choropleth": [
           {
            "colorbar": {
             "outlinewidth": 0,
             "ticks": ""
            },
            "type": "choropleth"
           }
          ],
          "contour": [
           {
            "colorbar": {
             "outlinewidth": 0,
             "ticks": ""
            },
            "colorscale": [
             [
              0,
              "#0d0887"
             ],
             [
              0.1111111111111111,
              "#46039f"
             ],
             [
              0.2222222222222222,
              "#7201a8"
             ],
             [
              0.3333333333333333,
              "#9c179e"
             ],
             [
              0.4444444444444444,
              "#bd3786"
             ],
             [
              0.5555555555555556,
              "#d8576b"
             ],
             [
              0.6666666666666666,
              "#ed7953"
             ],
             [
              0.7777777777777778,
              "#fb9f3a"
             ],
             [
              0.8888888888888888,
              "#fdca26"
             ],
             [
              1,
              "#f0f921"
             ]
            ],
            "type": "contour"
           }
          ],
          "contourcarpet": [
           {
            "colorbar": {
             "outlinewidth": 0,
             "ticks": ""
            },
            "type": "contourcarpet"
           }
          ],
          "heatmap": [
           {
            "colorbar": {
             "outlinewidth": 0,
             "ticks": ""
            },
            "colorscale": [
             [
              0,
              "#0d0887"
             ],
             [
              0.1111111111111111,
              "#46039f"
             ],
             [
              0.2222222222222222,
              "#7201a8"
             ],
             [
              0.3333333333333333,
              "#9c179e"
             ],
             [
              0.4444444444444444,
              "#bd3786"
             ],
             [
              0.5555555555555556,
              "#d8576b"
             ],
             [
              0.6666666666666666,
              "#ed7953"
             ],
             [
              0.7777777777777778,
              "#fb9f3a"
             ],
             [
              0.8888888888888888,
              "#fdca26"
             ],
             [
              1,
              "#f0f921"
             ]
            ],
            "type": "heatmap"
           }
          ],
          "heatmapgl": [
           {
            "colorbar": {
             "outlinewidth": 0,
             "ticks": ""
            },
            "colorscale": [
             [
              0,
              "#0d0887"
             ],
             [
              0.1111111111111111,
              "#46039f"
             ],
             [
              0.2222222222222222,
              "#7201a8"
             ],
             [
              0.3333333333333333,
              "#9c179e"
             ],
             [
              0.4444444444444444,
              "#bd3786"
             ],
             [
              0.5555555555555556,
              "#d8576b"
             ],
             [
              0.6666666666666666,
              "#ed7953"
             ],
             [
              0.7777777777777778,
              "#fb9f3a"
             ],
             [
              0.8888888888888888,
              "#fdca26"
             ],
             [
              1,
              "#f0f921"
             ]
            ],
            "type": "heatmapgl"
           }
          ],
          "histogram": [
           {
            "marker": {
             "pattern": {
              "fillmode": "overlay",
              "size": 10,
              "solidity": 0.2
             }
            },
            "type": "histogram"
           }
          ],
          "histogram2d": [
           {
            "colorbar": {
             "outlinewidth": 0,
             "ticks": ""
            },
            "colorscale": [
             [
              0,
              "#0d0887"
             ],
             [
              0.1111111111111111,
              "#46039f"
             ],
             [
              0.2222222222222222,
              "#7201a8"
             ],
             [
              0.3333333333333333,
              "#9c179e"
             ],
             [
              0.4444444444444444,
              "#bd3786"
             ],
             [
              0.5555555555555556,
              "#d8576b"
             ],
             [
              0.6666666666666666,
              "#ed7953"
             ],
             [
              0.7777777777777778,
              "#fb9f3a"
             ],
             [
              0.8888888888888888,
              "#fdca26"
             ],
             [
              1,
              "#f0f921"
             ]
            ],
            "type": "histogram2d"
           }
          ],
          "histogram2dcontour": [
           {
            "colorbar": {
             "outlinewidth": 0,
             "ticks": ""
            },
            "colorscale": [
             [
              0,
              "#0d0887"
             ],
             [
              0.1111111111111111,
              "#46039f"
             ],
             [
              0.2222222222222222,
              "#7201a8"
             ],
             [
              0.3333333333333333,
              "#9c179e"
             ],
             [
              0.4444444444444444,
              "#bd3786"
             ],
             [
              0.5555555555555556,
              "#d8576b"
             ],
             [
              0.6666666666666666,
              "#ed7953"
             ],
             [
              0.7777777777777778,
              "#fb9f3a"
             ],
             [
              0.8888888888888888,
              "#fdca26"
             ],
             [
              1,
              "#f0f921"
             ]
            ],
            "type": "histogram2dcontour"
           }
          ],
          "mesh3d": [
           {
            "colorbar": {
             "outlinewidth": 0,
             "ticks": ""
            },
            "type": "mesh3d"
           }
          ],
          "parcoords": [
           {
            "line": {
             "colorbar": {
              "outlinewidth": 0,
              "ticks": ""
             }
            },
            "type": "parcoords"
           }
          ],
          "pie": [
           {
            "automargin": true,
            "type": "pie"
           }
          ],
          "scatter": [
           {
            "marker": {
             "line": {
              "color": "#283442"
             }
            },
            "type": "scatter"
           }
          ],
          "scatter3d": [
           {
            "line": {
             "colorbar": {
              "outlinewidth": 0,
              "ticks": ""
             }
            },
            "marker": {
             "colorbar": {
              "outlinewidth": 0,
              "ticks": ""
             }
            },
            "type": "scatter3d"
           }
          ],
          "scattercarpet": [
           {
            "marker": {
             "colorbar": {
              "outlinewidth": 0,
              "ticks": ""
             }
            },
            "type": "scattercarpet"
           }
          ],
          "scattergeo": [
           {
            "marker": {
             "colorbar": {
              "outlinewidth": 0,
              "ticks": ""
             }
            },
            "type": "scattergeo"
           }
          ],
          "scattergl": [
           {
            "marker": {
             "line": {
              "color": "#283442"
             }
            },
            "type": "scattergl"
           }
          ],
          "scattermapbox": [
           {
            "marker": {
             "colorbar": {
              "outlinewidth": 0,
              "ticks": ""
             }
            },
            "type": "scattermapbox"
           }
          ],
          "scatterpolar": [
           {
            "marker": {
             "colorbar": {
              "outlinewidth": 0,
              "ticks": ""
             }
            },
            "type": "scatterpolar"
           }
          ],
          "scatterpolargl": [
           {
            "marker": {
             "colorbar": {
              "outlinewidth": 0,
              "ticks": ""
             }
            },
            "type": "scatterpolargl"
           }
          ],
          "scatterternary": [
           {
            "marker": {
             "colorbar": {
              "outlinewidth": 0,
              "ticks": ""
             }
            },
            "type": "scatterternary"
           }
          ],
          "surface": [
           {
            "colorbar": {
             "outlinewidth": 0,
             "ticks": ""
            },
            "colorscale": [
             [
              0,
              "#0d0887"
             ],
             [
              0.1111111111111111,
              "#46039f"
             ],
             [
              0.2222222222222222,
              "#7201a8"
             ],
             [
              0.3333333333333333,
              "#9c179e"
             ],
             [
              0.4444444444444444,
              "#bd3786"
             ],
             [
              0.5555555555555556,
              "#d8576b"
             ],
             [
              0.6666666666666666,
              "#ed7953"
             ],
             [
              0.7777777777777778,
              "#fb9f3a"
             ],
             [
              0.8888888888888888,
              "#fdca26"
             ],
             [
              1,
              "#f0f921"
             ]
            ],
            "type": "surface"
           }
          ],
          "table": [
           {
            "cells": {
             "fill": {
              "color": "#506784"
             },
             "line": {
              "color": "rgb(17,17,17)"
             }
            },
            "header": {
             "fill": {
              "color": "#2a3f5f"
             },
             "line": {
              "color": "rgb(17,17,17)"
             }
            },
            "type": "table"
           }
          ]
         },
         "layout": {
          "annotationdefaults": {
           "arrowcolor": "#f2f5fa",
           "arrowhead": 0,
           "arrowwidth": 1
          },
          "autotypenumbers": "strict",
          "coloraxis": {
           "colorbar": {
            "outlinewidth": 0,
            "ticks": ""
           }
          },
          "colorscale": {
           "diverging": [
            [
             0,
             "#8e0152"
            ],
            [
             0.1,
             "#c51b7d"
            ],
            [
             0.2,
             "#de77ae"
            ],
            [
             0.3,
             "#f1b6da"
            ],
            [
             0.4,
             "#fde0ef"
            ],
            [
             0.5,
             "#f7f7f7"
            ],
            [
             0.6,
             "#e6f5d0"
            ],
            [
             0.7,
             "#b8e186"
            ],
            [
             0.8,
             "#7fbc41"
            ],
            [
             0.9,
             "#4d9221"
            ],
            [
             1,
             "#276419"
            ]
           ],
           "sequential": [
            [
             0,
             "#0d0887"
            ],
            [
             0.1111111111111111,
             "#46039f"
            ],
            [
             0.2222222222222222,
             "#7201a8"
            ],
            [
             0.3333333333333333,
             "#9c179e"
            ],
            [
             0.4444444444444444,
             "#bd3786"
            ],
            [
             0.5555555555555556,
             "#d8576b"
            ],
            [
             0.6666666666666666,
             "#ed7953"
            ],
            [
             0.7777777777777778,
             "#fb9f3a"
            ],
            [
             0.8888888888888888,
             "#fdca26"
            ],
            [
             1,
             "#f0f921"
            ]
           ],
           "sequentialminus": [
            [
             0,
             "#0d0887"
            ],
            [
             0.1111111111111111,
             "#46039f"
            ],
            [
             0.2222222222222222,
             "#7201a8"
            ],
            [
             0.3333333333333333,
             "#9c179e"
            ],
            [
             0.4444444444444444,
             "#bd3786"
            ],
            [
             0.5555555555555556,
             "#d8576b"
            ],
            [
             0.6666666666666666,
             "#ed7953"
            ],
            [
             0.7777777777777778,
             "#fb9f3a"
            ],
            [
             0.8888888888888888,
             "#fdca26"
            ],
            [
             1,
             "#f0f921"
            ]
           ]
          },
          "colorway": [
           "#636efa",
           "#EF553B",
           "#00cc96",
           "#ab63fa",
           "#FFA15A",
           "#19d3f3",
           "#FF6692",
           "#B6E880",
           "#FF97FF",
           "#FECB52"
          ],
          "font": {
           "color": "#f2f5fa"
          },
          "geo": {
           "bgcolor": "rgb(17,17,17)",
           "lakecolor": "rgb(17,17,17)",
           "landcolor": "rgb(17,17,17)",
           "showlakes": true,
           "showland": true,
           "subunitcolor": "#506784"
          },
          "hoverlabel": {
           "align": "left"
          },
          "hovermode": "closest",
          "mapbox": {
           "style": "dark"
          },
          "paper_bgcolor": "rgb(17,17,17)",
          "plot_bgcolor": "rgb(17,17,17)",
          "polar": {
           "angularaxis": {
            "gridcolor": "#506784",
            "linecolor": "#506784",
            "ticks": ""
           },
           "bgcolor": "rgb(17,17,17)",
           "radialaxis": {
            "gridcolor": "#506784",
            "linecolor": "#506784",
            "ticks": ""
           }
          },
          "scene": {
           "xaxis": {
            "backgroundcolor": "rgb(17,17,17)",
            "gridcolor": "#506784",
            "gridwidth": 2,
            "linecolor": "#506784",
            "showbackground": true,
            "ticks": "",
            "zerolinecolor": "#C8D4E3"
           },
           "yaxis": {
            "backgroundcolor": "rgb(17,17,17)",
            "gridcolor": "#506784",
            "gridwidth": 2,
            "linecolor": "#506784",
            "showbackground": true,
            "ticks": "",
            "zerolinecolor": "#C8D4E3"
           },
           "zaxis": {
            "backgroundcolor": "rgb(17,17,17)",
            "gridcolor": "#506784",
            "gridwidth": 2,
            "linecolor": "#506784",
            "showbackground": true,
            "ticks": "",
            "zerolinecolor": "#C8D4E3"
           }
          },
          "shapedefaults": {
           "line": {
            "color": "#f2f5fa"
           }
          },
          "sliderdefaults": {
           "bgcolor": "#C8D4E3",
           "bordercolor": "rgb(17,17,17)",
           "borderwidth": 1,
           "tickwidth": 0
          },
          "ternary": {
           "aaxis": {
            "gridcolor": "#506784",
            "linecolor": "#506784",
            "ticks": ""
           },
           "baxis": {
            "gridcolor": "#506784",
            "linecolor": "#506784",
            "ticks": ""
           },
           "bgcolor": "rgb(17,17,17)",
           "caxis": {
            "gridcolor": "#506784",
            "linecolor": "#506784",
            "ticks": ""
           }
          },
          "title": {
           "x": 0.05
          },
          "updatemenudefaults": {
           "bgcolor": "#506784",
           "borderwidth": 0
          },
          "xaxis": {
           "automargin": true,
           "gridcolor": "#283442",
           "linecolor": "#506784",
           "ticks": "",
           "title": {
            "standoff": 15
           },
           "zerolinecolor": "#283442",
           "zerolinewidth": 2
          },
          "yaxis": {
           "automargin": true,
           "gridcolor": "#283442",
           "linecolor": "#506784",
           "ticks": "",
           "title": {
            "standoff": 15
           },
           "zerolinecolor": "#283442",
           "zerolinewidth": 2
          }
         }
        },
        "title": {
         "font": {
          "size": 20
         },
         "text": "<b>Count of Processor for every mobile company"
        },
        "width": 1500,
        "xaxis": {
         "anchor": "y",
         "domain": [
          0,
          1
         ],
         "title": {
          "text": "company"
         }
        },
        "yaxis": {
         "anchor": "x",
         "domain": [
          0,
          1
         ],
         "title": {
          "text": "count"
         }
        }
       }
      }
     },
     "metadata": {},
     "output_type": "display_data"
    }
   ],
   "source": [
    "fig=px.histogram(df,x=\"company\",color=\"processor\",title=\"<b>Count of Processor for every mobile company\",\n",
    "                color_discrete_sequence=px.colors.qualitative.Vivid,\n",
    "                width=1500, height=500)\n",
    "fig.update_layout(template=\"plotly_dark\")\n",
    "fig.update_layout(title_font_size=20)\n",
    "fig.show()"
   ]
  },
  {
   "cell_type": "code",
   "execution_count": null,
   "metadata": {},
   "outputs": [],
   "source": []
  }
 ],
 "metadata": {
  "kernelspec": {
   "display_name": "Python 3",
   "language": "python",
   "name": "python3"
  },
  "language_info": {
   "codemirror_mode": {
    "name": "ipython",
    "version": 3
   },
   "file_extension": ".py",
   "mimetype": "text/x-python",
   "name": "python",
   "nbconvert_exporter": "python",
   "pygments_lexer": "ipython3",
   "version": "3.11.2"
  },
  "orig_nbformat": 4
 },
 "nbformat": 4,
 "nbformat_minor": 2
}
